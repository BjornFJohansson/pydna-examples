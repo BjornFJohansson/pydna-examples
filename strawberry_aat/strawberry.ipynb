{
 "cells": [
  {
   "cell_type": "markdown",
   "metadata": {
    "nbpresent": {
     "id": "29c51c2f-529c-4179-b7fd-b5663b4f3ef0"
    }
   },
   "source": [
    "# A strawberry flavour gene vector for *Saccharomyces cerevisiae*\n",
    "\n",
    "![strawberry](http://www.extension.umn.edu/food/farm-to-school/education/cafeteria/img/strawberry-lg.jpg)\n",
    "\n",
    "This [Jupyter notebook](http://jupyter.org/index.html) describes the cloning of the [strawberry](https://en.wikipedia.org/wiki/Strawberry) Fragaria × ananassa  alcohol acyltransferase [SAAT](https://www.ncbi.nlm.nih.gov/pmc/articles/PMC139918/) gene and the construction of a *[S. cerevisiae](https://en.wikipedia.org/wiki/Saccharomyces_cerevisiae)* expression vector for this gene.\n",
    "\n",
    "The SAAT gene is involved in the production of the strawberry fragrance. It is necessary to first produce cDNA, a process which is not decribed in this notebook. Here is a [recent protocol](https://www.ncbi.nlm.nih.gov/pubmed/24321691) for the extraction of nucleic acids from Strawberry."
   ]
  },
  {
   "cell_type": "code",
   "execution_count": 1,
   "metadata": {
    "nbpresent": {
     "id": "d8efafbb-c793-49d4-98e7-54debe07fd70"
    }
   },
   "outputs": [],
   "source": [
    "# Import the pydna package functions\n",
    "from pydna.all import *"
   ]
  },
  {
   "cell_type": "code",
   "execution_count": 2,
   "metadata": {},
   "outputs": [],
   "source": [
    "# Give your email address to Genbank, so they can contact you.\n",
    "# This is a requirement for using their services\n",
    "gb=Genbank(\"bjornjobb@gmail.com\")\n",
    "# download the SAAT CDS from Genbank\n",
    "# We know from inspecting the \n",
    "saat = gb.nucleotide(\"AF193791 REGION: 78..1895\")"
   ]
  },
  {
   "cell_type": "code",
   "execution_count": 3,
   "metadata": {
    "nbpresent": {
     "id": "62eae4c7-8d54-45e3-be64-313d46496c24"
    }
   },
   "outputs": [
    {
     "data": {
      "text/html": [
       "<a href='https://www.ncbi.nlm.nih.gov/nuccore/AF193791 ?from=78&to=1895&strand=1' target='_blank'>AF193791  78-1895</a>"
      ],
      "text/plain": [
       "Gbank(AF193791  78-1895)(-1818)"
      ]
     },
     "execution_count": 3,
     "metadata": {},
     "output_type": "execute_result"
    }
   ],
   "source": [
    "# The representation of the saat Dseqrecord object contains a link to Genbank\n",
    "saat"
   ]
  },
  {
   "cell_type": "code",
   "execution_count": 4,
   "metadata": {
    "nbpresent": {
     "id": "c96b2730-ed8c-4973-865d-4bebf6da60ab"
    }
   },
   "outputs": [],
   "source": [
    "# design two new primers for SAAT\n",
    "saat_amplicon = primer_design(saat)"
   ]
  },
  {
   "cell_type": "code",
   "execution_count": 5,
   "metadata": {
    "collapsed": true
   },
   "outputs": [],
   "source": [
    "fw=\"aa\"+saat_amplicon.forward_primer\n",
    "rv=saat_amplicon.reverse_primer"
   ]
  },
  {
   "cell_type": "code",
   "execution_count": 6,
   "metadata": {},
   "outputs": [],
   "source": [
    "# We can set the primer identities to something descriptive\n",
    "fw.id, rv.id = \"fw_saat_cds\", \"rv_saat_cds\""
   ]
  },
  {
   "cell_type": "code",
   "execution_count": 7,
   "metadata": {
    "collapsed": true
   },
   "outputs": [],
   "source": [
    "saat_pcr_prod = pcr(fw,rv, saat)"
   ]
  },
  {
   "cell_type": "code",
   "execution_count": 8,
   "metadata": {
    "nbpresent": {
     "id": "3236fb09-b59e-426f-9302-5bf4bf310e85"
    }
   },
   "outputs": [
    {
     "data": {
      "text/html": [
       "Amplicon(1820)"
      ],
      "text/plain": [
       "Amplicon(1820)"
      ]
     },
     "execution_count": 8,
     "metadata": {},
     "output_type": "execute_result"
    }
   ],
   "source": [
    "# The result is an object of the Amplicon class \n",
    "saat_pcr_prod "
   ]
  },
  {
   "cell_type": "code",
   "execution_count": 9,
   "metadata": {},
   "outputs": [
    {
     "data": {
      "text/plain": [
       "  5ATGGACACCAAGATTGG...CCCACCTAATCCTCAGTAA3\n",
       "                       ||||||||||||||||||| tm 53.4 (dbd) 58.3\n",
       "                      3GGGTGGATTAGGAGTCATT5\n",
       "5aaATGGACACCAAGATTGG3\n",
       "   ||||||||||||||||| tm 52.2 (dbd) 58.5\n",
       "  3TACCTGTGGTTCTAACC...GGGTGGATTAGGAGTCATT5"
      ]
     },
     "execution_count": 9,
     "metadata": {},
     "output_type": "execute_result"
    }
   ],
   "source": [
    "# The object has several useful methods like .figure() \n",
    "# which shows how the primers anneal \n",
    "saat_pcr_prod.figure()"
   ]
  },
  {
   "cell_type": "code",
   "execution_count": 10,
   "metadata": {
    "collapsed": true
   },
   "outputs": [],
   "source": [
    "# read the cloning vector from a local file\n",
    "pYPKa=read(\"pYPKa.gb\")"
   ]
  },
  {
   "cell_type": "code",
   "execution_count": 11,
   "metadata": {
    "nbpresent": {
     "id": "b54f68da-35d1-4b19-bc3d-5abd951a9681"
    }
   },
   "outputs": [
    {
     "data": {
      "text/html": [
       "<a href='pYPKa.gb' target='_blank'>pYPKa.gb</a><br>"
      ],
      "text/plain": [
       "File(pYPKa)(o3128)"
      ]
     },
     "execution_count": 11,
     "metadata": {},
     "output_type": "execute_result"
    }
   ],
   "source": [
    "# This is a GenbankFile object, its representation include a link to the local file:\n",
    "pYPKa"
   ]
  },
  {
   "cell_type": "code",
   "execution_count": 12,
   "metadata": {
    "collapsed": true
   },
   "outputs": [],
   "source": [
    "# import the restriction enzyme AjiI from Biopython\n",
    "from Bio.Restriction import AjiI"
   ]
  },
  {
   "cell_type": "code",
   "execution_count": 13,
   "metadata": {},
   "outputs": [],
   "source": [
    "# cut the vector with the .linearize method. This will give an error is more than one \n",
    "# fragment is formed\n",
    "pYPKa_AjiI = pYPKa.linearize(AjiI)"
   ]
  },
  {
   "cell_type": "code",
   "execution_count": 14,
   "metadata": {},
   "outputs": [
    {
     "data": {
      "text/plain": [
       "Dseqrecord(-3128)"
      ]
     },
     "execution_count": 14,
     "metadata": {},
     "output_type": "execute_result"
    }
   ],
   "source": [
    "# The result from the digestion is a linear Dseqrecord object\n",
    "pYPKa_AjiI"
   ]
  },
  {
   "cell_type": "code",
   "execution_count": 15,
   "metadata": {
    "nbpresent": {
     "id": "45e206b4-1ec5-4491-99c1-5917b834ac10"
    }
   },
   "outputs": [
    {
     "data": {
      "text/plain": [
       "Dseqrecord(o4948)"
      ]
     },
     "execution_count": 15,
     "metadata": {},
     "output_type": "execute_result"
    }
   ],
   "source": [
    "# clone the PCR product by adding the linearized vector to the insert\n",
    "# and close it using the .looped() method.\n",
    "pYPKa_A_saat = ( pYPKa_AjiI + saat_pcr_prod ).looped()\n",
    "pYPKa_A_saat"
   ]
  },
  {
   "cell_type": "code",
   "execution_count": 16,
   "metadata": {
    "collapsed": true
   },
   "outputs": [],
   "source": [
    "# read promoter vector from a local file\n",
    "pYPKa_Z_prom = read(\"pYPKa_Z_TEF1.gb\")\n",
    "# read terminator vector from a local file\n",
    "pYPKa_E_term = read(\"pYPKa_E_TPI1.gb\")"
   ]
  },
  {
   "cell_type": "code",
   "execution_count": 17,
   "metadata": {},
   "outputs": [
    {
     "data": {
      "text/html": [
       "<a href='pYPKa_Z_TEF1.gb' target='_blank'>pYPKa_Z_TEF1.gb</a><br>"
      ],
      "text/plain": [
       "File(-)(o3721)"
      ]
     },
     "execution_count": 17,
     "metadata": {},
     "output_type": "execute_result"
    }
   ],
   "source": [
    "pYPKa_Z_prom"
   ]
  },
  {
   "cell_type": "code",
   "execution_count": 18,
   "metadata": {
    "nbpresent": {
     "id": "7eee3f94-0e16-48c4-af5c-1a4755142063"
    }
   },
   "outputs": [
    {
     "data": {
      "text/html": [
       "<a href='pYPKa_E_TPI1.gb' target='_blank'>pYPKa_E_TPI1.gb</a><br>"
      ],
      "text/plain": [
       "File(-)(o3724)"
      ]
     },
     "execution_count": 18,
     "metadata": {},
     "output_type": "execute_result"
    }
   ],
   "source": [
    "pYPKa_E_term"
   ]
  },
  {
   "cell_type": "code",
   "execution_count": 19,
   "metadata": {},
   "outputs": [
    {
     "data": {
      "text/plain": [
       "[File(-)(o3721), File(-)(o3721)]"
      ]
     },
     "execution_count": 19,
     "metadata": {},
     "output_type": "execute_result"
    }
   ],
   "source": [
    "[pYPKa_Z_prom,pYPKa_Z_prom]"
   ]
  },
  {
   "cell_type": "markdown",
   "metadata": {},
   "source": [
    "In the cell below, primers relevant to the [Yeast Pathway Kit](http://pubs.acs.org/doi/abs/10.1021/acssynbio.5b00250) are read into six sequence objects. These are similar to the ones created in cell [3]"
   ]
  },
  {
   "cell_type": "code",
   "execution_count": 20,
   "metadata": {
    "nbpresent": {
     "id": "c4e1d54d-6eb2-4bfa-83e2-1b4c795d3d06"
    }
   },
   "outputs": [],
   "source": [
    "# Standard primers\n",
    "p567,p577,p468,p467,p568,p578  =  parse_primers('''\n",
    "\n",
    ">567_pCAPsAjiIF (23-mer)\n",
    "GTcggctgcaggtcactagtgag\n",
    ">577_crp585-557 (29-mer)\n",
    "gttctgatcctcgagcatcttaagaattc\n",
    "\n",
    ">468_pCAPs_release_fw (25-mer)\n",
    "gtcgaggaacgccaggttgcccact\n",
    ">467_pCAPs_release_re (31-mer) \n",
    "ATTTAAatcctgatgcgtttgtctgcacaga\n",
    "\n",
    ">568_pCAPsAjiIR (22-mer) \n",
    "GTGCcatctgtgcagacaaacg\n",
    ">578_crp42-70 (29-mer)\n",
    "gttcttgtctcattgccacattcataagt''')"
   ]
  },
  {
   "cell_type": "code",
   "execution_count": 21,
   "metadata": {},
   "outputs": [
    {
     "data": {
      "text/plain": [
       "567_pCAPsAjiIF 23-mer:5'-GTcggctgcaggtca..gag-3'"
      ]
     },
     "execution_count": 21,
     "metadata": {},
     "output_type": "execute_result"
    }
   ],
   "source": [
    "p567"
   ]
  },
  {
   "cell_type": "code",
   "execution_count": 22,
   "metadata": {
    "nbpresent": {
     "id": "e9fd2ff5-fc2e-4061-9c33-1041a9d95b43"
    }
   },
   "outputs": [],
   "source": [
    "# Promoter amplified using p577 and p567\n",
    "p = pcr(p577, p567, pYPKa_Z_prom)"
   ]
  },
  {
   "cell_type": "code",
   "execution_count": 23,
   "metadata": {
    "nbpresent": {
     "id": "395a6078-2681-4fc0-b7aa-f88467873c0d"
    }
   },
   "outputs": [],
   "source": [
    "# Gene amplified using p468 and p467\n",
    "g = pcr(p468, p467, pYPKa_A_saat)"
   ]
  },
  {
   "cell_type": "code",
   "execution_count": 24,
   "metadata": {
    "nbpresent": {
     "id": "f032d8ae-ced4-416d-8844-de4124dd03eb"
    }
   },
   "outputs": [],
   "source": [
    "# Terminator amplified using p568 and p578\n",
    "t = pcr(p568, p578, pYPKa_E_term)"
   ]
  },
  {
   "cell_type": "code",
   "execution_count": 25,
   "metadata": {
    "nbpresent": {
     "id": "36a48741-0945-4dc0-a92a-8fb671168d95"
    }
   },
   "outputs": [],
   "source": [
    "# Yeast backbone vector read from a local file\n",
    "pYPKpw = read(\"pYPKpw.gb\")"
   ]
  },
  {
   "cell_type": "code",
   "execution_count": 26,
   "metadata": {
    "collapsed": true
   },
   "outputs": [],
   "source": [
    "from Bio.Restriction import ZraI"
   ]
  },
  {
   "cell_type": "code",
   "execution_count": 27,
   "metadata": {
    "collapsed": true
   },
   "outputs": [],
   "source": [
    "# Vector linearized with ZraI\n",
    "pYPKpw_lin = pYPKpw.linearize(ZraI) "
   ]
  },
  {
   "cell_type": "code",
   "execution_count": 28,
   "metadata": {
    "nbpresent": {
     "id": "5680acfe-1c63-4483-9625-83f53de52f1a"
    }
   },
   "outputs": [],
   "source": [
    "# Assembly simulation between four linear DNA fragments:\n",
    "# plasmid, promoter, gene and terminator\n",
    "# Only one circular product is formed (8769 bp)\n",
    "asm = Assembly( (pYPKpw_lin, p, g, t) )"
   ]
  },
  {
   "cell_type": "code",
   "execution_count": 29,
   "metadata": {},
   "outputs": [
    {
     "data": {
      "text/plain": [
       "Assembly:\n",
       "Sequences........................: [5603] [811] [1907] [922]\n",
       "Sequences with shared homologies.: [5603] [811] [922] [1907]\n",
       "Homology limit (bp)..............: 25\n",
       "Number of overlaps...............: 4\n",
       "Nodes in graph(incl. 5' & 3')....: 6\n",
       "Only terminal overlaps...........: No\n",
       "Circular products................: [8771]\n",
       "Linear products..................: [9029] [8898] [8821] [8808] [8144] [8137] [6951] [6287] [6267] [3553] [2792] [2668] [258] [127] [50] [37]"
      ]
     },
     "execution_count": 29,
     "metadata": {},
     "output_type": "execute_result"
    }
   ],
   "source": [
    "asm"
   ]
  },
  {
   "cell_type": "code",
   "execution_count": 30,
   "metadata": {
    "nbpresent": {
     "id": "7a59ef8d-a742-47e2-bfaf-f304209370a4"
    }
   },
   "outputs": [
    {
     "data": {
      "text/plain": [
       " -|pYPKpw|124\n",
       "|         \\/\n",
       "|         /\\\n",
       "|         124|811bp_PCR_prod|50\n",
       "|                            \\/\n",
       "|                            /\\\n",
       "|                            50|1907bp_PCR_prod|37\n",
       "|                                               \\/\n",
       "|                                               /\\\n",
       "|                                               37|922bp_PCR_prod|242\n",
       "|                                                                 \\/\n",
       "|                                                                 /\\\n",
       "|                                                                 242-\n",
       "|                                                                    |\n",
       " --------------------------------------------------------------------"
      ]
     },
     "execution_count": 30,
     "metadata": {},
     "output_type": "execute_result"
    }
   ],
   "source": [
    "# Inspect the only circular product\n",
    "candidate = asm.circular_products[0]\n",
    "candidate.figure()"
   ]
  },
  {
   "cell_type": "code",
   "execution_count": 31,
   "metadata": {
    "collapsed": true,
    "nbpresent": {
     "id": "c8aee677-5dbf-4f25-9a14-235ade6ae009"
    }
   },
   "outputs": [],
   "source": [
    "# Synchronize vectors\n",
    "pYPK0_TDH3_FaPDC_TEF1 = candidate.synced(pYPKa)"
   ]
  },
  {
   "cell_type": "code",
   "execution_count": 32,
   "metadata": {
    "nbpresent": {
     "id": "cd72c8fa-b780-4304-a3e9-c97bbdcb0dd7"
    }
   },
   "outputs": [
    {
     "data": {
      "text/html": [
       "<font face=monospace><a href='pYPK0_TDH3_FaPDC_TPI1.gb' target='_blank'>pYPK0_TDH3_FaPDC_TPI1.gb</a></font><br>"
      ]
     },
     "metadata": {},
     "output_type": "display_data"
    }
   ],
   "source": [
    "# Write new vector to local file\n",
    "pYPK0_TDH3_FaPDC_TEF1.write(\"pYPK0_TDH3_FaPDC_TPI1.gb\")"
   ]
  },
  {
   "cell_type": "markdown",
   "metadata": {
    "nbpresent": {
     "id": "5f287a23-5b80-4f01-bddb-d8c7e9464234"
    }
   },
   "source": [
    "The final vector pYPKa_TDH3_FaPDC_TEF1 has 8769 bp.\n",
    "The sequence can be inspected by the hyperlink above.\n",
    "\n",
    "The restriction enzyme [PvuI](http://rebase.neb.com/cgi-bin/reb_get.pl) cuts twice in the plasmid backbone and once in the SAAT gene."
   ]
  },
  {
   "cell_type": "code",
   "execution_count": 33,
   "metadata": {
    "collapsed": true,
    "nbpresent": {
     "id": "c32b5c85-0a48-421d-9fa3-2df4a172fab5"
    }
   },
   "outputs": [],
   "source": [
    "from Bio.Restriction import PvuI"
   ]
  },
  {
   "cell_type": "code",
   "execution_count": 34,
   "metadata": {
    "nbpresent": {
     "id": "3ba5b1ff-1954-44ad-bd36-966d2c1a8017"
    }
   },
   "outputs": [
    {
     "data": {
      "image/png": "[encoded data removed]",
      "text/plain": [
       "<matplotlib.figure.Figure at 0x7f08f712d5c0>"
      ]
     },
     "metadata": {},
     "output_type": "display_data"
    }
   ],
   "source": [
    "#PYTEST_VALIDATE_IGNORE_OUTPUT\n",
    "%matplotlib inline\n",
    "\n",
    "from pydna.gel import Gel, weight_standard_sample\n",
    "\n",
    "standard = weight_standard_sample('1kb+_GeneRuler')\n",
    "\n",
    "Gel( [ standard, \n",
    "       pYPKpw.cut(PvuI),\n",
    "       pYPK0_TDH3_FaPDC_TEF1.cut(PvuI) ] ).run()"
   ]
  },
  {
   "cell_type": "markdown",
   "metadata": {
    "nbpresent": {
     "id": "31f4d282-741c-436e-bb55-02be0b677e50"
    }
   },
   "source": [
    "The gel above shows that the empty vector (pYPKpw) is easily distinguishable from the expected\n",
    "final construct by digestion with PvuI."
   ]
  }
 ],
 "metadata": {
  "anaconda-cloud": {},
  "kernelspec": {
   "display_name": "Python 3",
   "language": "python",
   "name": "python3"
  },
  "language_info": {
   "codemirror_mode": {
    "name": "ipython",
    "version": 3
   },
   "file_extension": ".py",
   "mimetype": "text/x-python",
   "name": "python",
   "nbconvert_exporter": "python",
   "pygments_lexer": "ipython3",
   "version": "3.5.2"
  },
  "nbpresent": {
   "slides": {
    "07aca1af-2d13-4f22-9513-325520dadc5c": {
     "id": "07aca1af-2d13-4f22-9513-325520dadc5c",
     "prev": "10aed91c-07eb-488d-91b4-b40127cba77f",
     "regions": {
      "8a11d45d-92dc-42c8-b106-60e8c9814468": {
       "attrs": {
        "height": 0.8,
        "width": 0.8,
        "x": 0.1,
        "y": 0.1
       },
       "content": {
        "cell": "c4e1d54d-6eb2-4bfa-83e2-1b4c795d3d06",
        "part": "whole"
       },
       "id": "8a11d45d-92dc-42c8-b106-60e8c9814468"
      }
     }
    },
    "0891b3e1-748a-4635-ad82-0f2750b95976": {
     "id": "0891b3e1-748a-4635-ad82-0f2750b95976",
     "prev": "07aca1af-2d13-4f22-9513-325520dadc5c",
     "regions": {
      "ddbd1873-193c-46f0-b2a2-18685343d8ee": {
       "attrs": {
        "height": 0.8,
        "width": 0.8,
        "x": 0.1,
        "y": 0.1
       },
       "content": {
        "cell": "e9fd2ff5-fc2e-4061-9c33-1041a9d95b43",
        "part": "whole"
       },
       "id": "ddbd1873-193c-46f0-b2a2-18685343d8ee"
      }
     }
    },
    "1064639f-bbaa-47ad-ae78-9175a6e87e04": {
     "id": "1064639f-bbaa-47ad-ae78-9175a6e87e04",
     "prev": "63e4f67a-cbc7-49dd-8a69-01b882985084",
     "regions": {
      "b005007f-c4e8-41a5-b825-2864d6e9021f": {
       "attrs": {
        "height": 0.8,
        "width": 0.8,
        "x": 0.1,
        "y": 0.1
       },
       "content": {
        "cell": "31f4d282-741c-436e-bb55-02be0b677e50",
        "part": "whole"
       },
       "id": "b005007f-c4e8-41a5-b825-2864d6e9021f"
      }
     }
    },
    "10aed91c-07eb-488d-91b4-b40127cba77f": {
     "id": "10aed91c-07eb-488d-91b4-b40127cba77f",
     "prev": "e90a060e-113a-4e3b-aff7-664235a4620c",
     "regions": {
      "40c9bbe2-5cd6-4218-a5c4-dd5997f34785": {
       "attrs": {
        "height": 0.8,
        "width": 0.8,
        "x": 0.1,
        "y": 0.1
       },
       "content": {
        "cell": "7eee3f94-0e16-48c4-af5c-1a4755142063",
        "part": "whole"
       },
       "id": "40c9bbe2-5cd6-4218-a5c4-dd5997f34785"
      }
     }
    },
    "2749cea9-fa2f-48f3-b7f5-fd14a72a7325": {
     "id": "2749cea9-fa2f-48f3-b7f5-fd14a72a7325",
     "prev": "e9f9cd67-4f52-4f5c-a1dc-a3d1d5c4bb1c",
     "regions": {
      "5fa744e7-56cf-4139-b166-5966d90205c6": {
       "attrs": {
        "height": 0.8,
        "width": 0.8,
        "x": 0.1,
        "y": 0.1
       },
       "content": {
        "cell": "f032d8ae-ced4-416d-8844-de4124dd03eb",
        "part": "whole"
       },
       "id": "5fa744e7-56cf-4139-b166-5966d90205c6"
      }
     }
    },
    "28f9d74b-fce2-4cfc-83b6-5428463f696f": {
     "id": "28f9d74b-fce2-4cfc-83b6-5428463f696f",
     "prev": "6e05de15-470e-4164-8036-8f32627d6afa",
     "regions": {
      "cfd80bc1-4f55-4925-a611-a7c1c70bc6d4": {
       "attrs": {
        "height": 0.8,
        "width": 0.8,
        "x": 0.1,
        "y": 0.1
       },
       "content": {
        "cell": "c8aee677-5dbf-4f25-9a14-235ade6ae009",
        "part": "whole"
       },
       "id": "cfd80bc1-4f55-4925-a611-a7c1c70bc6d4"
      }
     }
    },
    "384bdea2-2910-445a-88b8-b35feab11648": {
     "id": "384bdea2-2910-445a-88b8-b35feab11648",
     "prev": "6be429ab-ab0e-4aa5-b41d-7fd066672a00",
     "regions": {
      "b343aebf-8f10-432f-8f31-2943e449dc2b": {
       "attrs": {
        "height": 0.8,
        "width": 0.8,
        "x": 0.1,
        "y": 0.1
       },
       "content": {
        "cell": "3236fb09-b59e-426f-9302-5bf4bf310e85",
        "part": "whole"
       },
       "id": "b343aebf-8f10-432f-8f31-2943e449dc2b"
      }
     }
    },
    "5432414f-a457-4df6-a565-152f9a1e2cba": {
     "id": "5432414f-a457-4df6-a565-152f9a1e2cba",
     "prev": "384bdea2-2910-445a-88b8-b35feab11648",
     "regions": {
      "7a7174ba-f33a-475b-a901-b55e75676a70": {
       "attrs": {
        "height": 0.8,
        "width": 0.8,
        "x": 0.1,
        "y": 0.1
       },
       "content": {
        "cell": "b54f68da-35d1-4b19-bc3d-5abd951a9681",
        "part": "whole"
       },
       "id": "7a7174ba-f33a-475b-a901-b55e75676a70"
      }
     }
    },
    "63e4f67a-cbc7-49dd-8a69-01b882985084": {
     "id": "63e4f67a-cbc7-49dd-8a69-01b882985084",
     "prev": "ce004786-f94f-40dd-9c33-e4570ba22dd2",
     "regions": {
      "2cc692c9-ad4f-4d4d-8466-0408ed7ab19c": {
       "attrs": {
        "height": 0.8,
        "width": 0.8,
        "x": 0.1,
        "y": 0.1
       },
       "content": {
        "cell": "3ba5b1ff-1954-44ad-bd36-966d2c1a8017",
        "part": "whole"
       },
       "id": "2cc692c9-ad4f-4d4d-8466-0408ed7ab19c"
      }
     }
    },
    "69a9f9f8-da2a-4b3b-aad2-3e5ef37b868f": {
     "id": "69a9f9f8-da2a-4b3b-aad2-3e5ef37b868f",
     "prev": "28f9d74b-fce2-4cfc-83b6-5428463f696f",
     "regions": {
      "a8337839-ff4d-4ce0-aabf-81e2d6d9ac59": {
       "attrs": {
        "height": 0.8,
        "width": 0.8,
        "x": 0.1,
        "y": 0.1
       },
       "content": {
        "cell": "cd72c8fa-b780-4304-a3e9-c97bbdcb0dd7",
        "part": "whole"
       },
       "id": "a8337839-ff4d-4ce0-aabf-81e2d6d9ac59"
      }
     }
    },
    "6be429ab-ab0e-4aa5-b41d-7fd066672a00": {
     "id": "6be429ab-ab0e-4aa5-b41d-7fd066672a00",
     "prev": "77e4fd66-54f8-4162-a3ac-edbc61d9bdea",
     "regions": {
      "3d7a4942-89e2-48f5-b017-170e10982e1b": {
       "attrs": {
        "height": 0.8,
        "width": 0.8,
        "x": 0.1,
        "y": 0.1
       },
       "content": {
        "cell": "c96b2730-ed8c-4973-865d-4bebf6da60ab",
        "part": "whole"
       },
       "id": "3d7a4942-89e2-48f5-b017-170e10982e1b"
      }
     }
    },
    "6dd6e367-4c7e-4fea-982a-592ca3c4cbad": {
     "id": "6dd6e367-4c7e-4fea-982a-592ca3c4cbad",
     "prev": "2749cea9-fa2f-48f3-b7f5-fd14a72a7325",
     "regions": {
      "b49aea01-e4c5-49bb-9d17-ee28d03e6732": {
       "attrs": {
        "height": 0.8,
        "width": 0.8,
        "x": 0.1,
        "y": 0.1
       },
       "content": {
        "cell": "36a48741-0945-4dc0-a92a-8fb671168d95",
        "part": "whole"
       },
       "id": "b49aea01-e4c5-49bb-9d17-ee28d03e6732"
      }
     }
    },
    "6e05de15-470e-4164-8036-8f32627d6afa": {
     "id": "6e05de15-470e-4164-8036-8f32627d6afa",
     "prev": "81196e16-78fc-4957-8dc0-b18e768a2ab7",
     "regions": {
      "5c07f030-62dc-4716-8311-7eb941ac4307": {
       "attrs": {
        "height": 0.8,
        "width": 0.8,
        "x": 0.1,
        "y": 0.1
       },
       "content": {
        "cell": "7a59ef8d-a742-47e2-bfaf-f304209370a4",
        "part": "whole"
       },
       "id": "5c07f030-62dc-4716-8311-7eb941ac4307"
      }
     }
    },
    "77e4fd66-54f8-4162-a3ac-edbc61d9bdea": {
     "id": "77e4fd66-54f8-4162-a3ac-edbc61d9bdea",
     "prev": "d4d6358a-51c6-4fb9-b8f7-db9d0a6223f8",
     "regions": {
      "bc33ae25-1d6b-486f-ae20-9450da544f7e": {
       "attrs": {
        "height": 0.8,
        "width": 0.8,
        "x": 0.1,
        "y": 0.1
       },
       "content": {
        "cell": "62eae4c7-8d54-45e3-be64-313d46496c24",
        "part": "whole"
       },
       "id": "bc33ae25-1d6b-486f-ae20-9450da544f7e"
      }
     }
    },
    "81196e16-78fc-4957-8dc0-b18e768a2ab7": {
     "id": "81196e16-78fc-4957-8dc0-b18e768a2ab7",
     "prev": "6dd6e367-4c7e-4fea-982a-592ca3c4cbad",
     "regions": {
      "a645ccae-b926-441a-927b-51c78d6d5e3d": {
       "attrs": {
        "height": 0.8,
        "width": 0.8,
        "x": 0.1,
        "y": 0.1
       },
       "content": {
        "cell": "5680acfe-1c63-4483-9625-83f53de52f1a",
        "part": "whole"
       },
       "id": "a645ccae-b926-441a-927b-51c78d6d5e3d"
      }
     }
    },
    "a05ebc99-a565-4104-bbe3-4d1d6dfabd75": {
     "id": "a05ebc99-a565-4104-bbe3-4d1d6dfabd75",
     "prev": "69a9f9f8-da2a-4b3b-aad2-3e5ef37b868f",
     "regions": {
      "07466751-0be2-410f-afd3-b311a90a5614": {
       "attrs": {
        "height": 0.8,
        "width": 0.8,
        "x": 0.1,
        "y": 0.1
       },
       "content": {
        "cell": "5f287a23-5b80-4f01-bddb-d8c7e9464234",
        "part": "whole"
       },
       "id": "07466751-0be2-410f-afd3-b311a90a5614"
      }
     }
    },
    "c3b09f83-18be-44e7-95d9-ad4fa05aad25": {
     "id": "c3b09f83-18be-44e7-95d9-ad4fa05aad25",
     "prev": null,
     "regions": {
      "883df534-cb1e-49cf-845b-677a31f333fe": {
       "attrs": {
        "height": 0.8,
        "width": 0.8,
        "x": 0.1,
        "y": 0.1
       },
       "content": {
        "cell": "29c51c2f-529c-4179-b7fd-b5663b4f3ef0",
        "part": "whole"
       },
       "id": "883df534-cb1e-49cf-845b-677a31f333fe"
      }
     }
    },
    "ce004786-f94f-40dd-9c33-e4570ba22dd2": {
     "id": "ce004786-f94f-40dd-9c33-e4570ba22dd2",
     "prev": "a05ebc99-a565-4104-bbe3-4d1d6dfabd75",
     "regions": {
      "2080f58d-3c64-4d6c-be1b-9a12e41ae064": {
       "attrs": {
        "height": 0.8,
        "width": 0.8,
        "x": 0.1,
        "y": 0.1
       },
       "content": {
        "cell": "c32b5c85-0a48-421d-9fa3-2df4a172fab5",
        "part": "whole"
       },
       "id": "2080f58d-3c64-4d6c-be1b-9a12e41ae064"
      }
     }
    },
    "d4d6358a-51c6-4fb9-b8f7-db9d0a6223f8": {
     "id": "d4d6358a-51c6-4fb9-b8f7-db9d0a6223f8",
     "prev": "c3b09f83-18be-44e7-95d9-ad4fa05aad25",
     "regions": {
      "8e82e3c6-cb5f-4319-b4dc-8196426380f3": {
       "attrs": {
        "height": 0.8,
        "width": 0.8,
        "x": 0.1,
        "y": 0.1
       },
       "content": {
        "cell": "d8efafbb-c793-49d4-98e7-54debe07fd70",
        "part": "whole"
       },
       "id": "8e82e3c6-cb5f-4319-b4dc-8196426380f3"
      }
     }
    },
    "d7fdef17-3a7f-47d6-9a14-d03562f165b5": {
     "id": "d7fdef17-3a7f-47d6-9a14-d03562f165b5",
     "prev": "0891b3e1-748a-4635-ad82-0f2750b95976",
     "regions": {
      "e017c404-9eb2-4532-8383-bac11475a210": {
       "attrs": {
        "height": 1,
        "width": 1,
        "x": 0,
        "y": 0
       },
       "content": {
        "cell": "e9fd2ff5-fc2e-4061-9c33-1041a9d95b43",
        "part": "source"
       },
       "id": "e017c404-9eb2-4532-8383-bac11475a210"
      }
     }
    },
    "e90a060e-113a-4e3b-aff7-664235a4620c": {
     "id": "e90a060e-113a-4e3b-aff7-664235a4620c",
     "prev": "5432414f-a457-4df6-a565-152f9a1e2cba",
     "regions": {
      "5c8b6d76-b432-4d97-970a-c4b01c942925": {
       "attrs": {
        "height": 0.8,
        "width": 0.8,
        "x": 0.1,
        "y": 0.1
       },
       "content": {
        "cell": "45e206b4-1ec5-4491-99c1-5917b834ac10",
        "part": "whole"
       },
       "id": "5c8b6d76-b432-4d97-970a-c4b01c942925"
      }
     }
    },
    "e9f9cd67-4f52-4f5c-a1dc-a3d1d5c4bb1c": {
     "id": "e9f9cd67-4f52-4f5c-a1dc-a3d1d5c4bb1c",
     "prev": "d7fdef17-3a7f-47d6-9a14-d03562f165b5",
     "regions": {
      "7e424c29-a3fc-4973-8f83-e924a9d4bf0c": {
       "attrs": {
        "height": 0.8,
        "width": 0.8,
        "x": 0.1,
        "y": 0.1
       },
       "content": {
        "cell": "395a6078-2681-4fc0-b7aa-f88467873c0d",
        "part": "whole"
       },
       "id": "7e424c29-a3fc-4973-8f83-e924a9d4bf0c"
      }
     }
    }
   },
   "themes": {}
  }
 },
 "nbformat": 4,
 "nbformat_minor": 1
}
