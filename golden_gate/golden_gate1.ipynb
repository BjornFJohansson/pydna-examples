{
 "cells": [
  {
   "cell_type": "markdown",
   "metadata": {},
   "source": [
    "# Golden gate cloning simulation using pydna"
   ]
  },
  {
   "cell_type": "markdown",
   "metadata": {
    "deletable": true,
    "editable": true
   },
   "source": [
    "![](https://www.neb.com/~/media/NebUs/Page%20Images/Applications/Cloning%20and%20Mapping/GoldenGateOverview.jpg)\n",
    "\n",
    "The objective is to assemble three 50 bp sequences into one circular sequence.\n",
    "\n",
    "We will use the assembly_fragments function and the Assembly class."
   ]
  },
  {
   "cell_type": "code",
   "execution_count": 1,
   "metadata": {
    "collapsed": false,
    "deletable": true,
    "editable": true
   },
   "outputs": [],
   "source": [
    "from pydna.all import *"
   ]
  },
  {
   "cell_type": "markdown",
   "metadata": {},
   "source": [
    "The sequences below were generated [here](http://users-birc.au.dk/biopv/php/fabox/random_sequence_generator.php)."
   ]
  },
  {
   "cell_type": "code",
   "execution_count": 2,
   "metadata": {
    "collapsed": true,
    "deletable": true,
    "editable": true
   },
   "outputs": [],
   "source": [
    "frags = parse('''\n",
    "\n",
    ">1|random sequence|A: 0.25|C: 0.25|G: 0.25|T: 0.25|length: 50 bp\n",
    "ccagaatacagtgccttagatctacggatcgtatctgcgatttggccgat\n",
    "\n",
    ">2|random sequence|A: 0.25|C: 0.25|G: 0.25|T: 0.25|length: 50 bp\n",
    "gccctgcttggtagatcaggcgagccaataacattctatagtgtagcctt\n",
    "\n",
    ">3|random sequence|A: 0.25|C: 0.25|G: 0.25|T: 0.25|length: 50 bp\n",
    "gagagcgctcctgtttcaatgcttgcaaactctagcagctatactgtagg ''' )"
   ]
  },
  {
   "cell_type": "code",
   "execution_count": 3,
   "metadata": {
    "collapsed": false,
    "deletable": true,
    "editable": true
   },
   "outputs": [
    {
     "data": {
      "text/plain": [
       "[Dseqrecord(-50), Dseqrecord(-50), Dseqrecord(-50)]"
      ]
     },
     "execution_count": 3,
     "metadata": {},
     "output_type": "execute_result"
    }
   ],
   "source": [
    "frags"
   ]
  },
  {
   "cell_type": "markdown",
   "metadata": {},
   "source": [
    "We make a list of amplicons (sequences with pairs of primers from the Dseqrecords)"
   ]
  },
  {
   "cell_type": "code",
   "execution_count": 4,
   "metadata": {
    "collapsed": false,
    "deletable": true,
    "editable": true
   },
   "outputs": [],
   "source": [
    "amplicons = [primer_design(f) for f in frags]"
   ]
  },
  {
   "cell_type": "markdown",
   "metadata": {},
   "source": [
    "We need a list of golden gate linkers, these could be generated automatically in some other way."
   ]
  },
  {
   "cell_type": "code",
   "execution_count": 5,
   "metadata": {
    "collapsed": true,
    "deletable": true,
    "editable": true
   },
   "outputs": [],
   "source": [
    "golden_gate_linkers = [Dseqrecord(lnk) for lnk in \"GAAT GATC AATT GAAT\".split()]"
   ]
  },
  {
   "cell_type": "code",
   "execution_count": 6,
   "metadata": {
    "collapsed": false,
    "deletable": true,
    "editable": true
   },
   "outputs": [
    {
     "data": {
      "text/plain": [
       "[Dseqrecord(-4), Dseqrecord(-4), Dseqrecord(-4), Dseqrecord(-4)]"
      ]
     },
     "execution_count": 6,
     "metadata": {},
     "output_type": "execute_result"
    }
   ],
   "source": [
    "golden_gate_linkers"
   ]
  },
  {
   "cell_type": "code",
   "execution_count": 7,
   "metadata": {
    "collapsed": false,
    "deletable": true,
    "editable": true
   },
   "outputs": [],
   "source": [
    "from itertools import chain, zip_longest"
   ]
  },
  {
   "cell_type": "markdown",
   "metadata": {},
   "source": [
    "we zip together the golden gate linkers and sequences to a flat list."
   ]
  },
  {
   "cell_type": "code",
   "execution_count": 8,
   "metadata": {
    "collapsed": false,
    "deletable": true,
    "editable": true
   },
   "outputs": [],
   "source": [
    "seqlist = list( chain.from_iterable( zip_longest(golden_gate_linkers, amplicons)))[:-1]"
   ]
  },
  {
   "cell_type": "code",
   "execution_count": 9,
   "metadata": {
    "collapsed": false
   },
   "outputs": [
    {
     "data": {
      "text/plain": [
       "[Dseqrecord(-4),\n",
       " Amplicon(50),\n",
       " Dseqrecord(-4),\n",
       " Amplicon(50),\n",
       " Dseqrecord(-4),\n",
       " Amplicon(50),\n",
       " Dseqrecord(-4)]"
      ]
     },
     "execution_count": 9,
     "metadata": {},
     "output_type": "execute_result"
    }
   ],
   "source": [
    "seqlist"
   ]
  },
  {
   "cell_type": "markdown",
   "metadata": {},
   "source": [
    "The optional settings below are important. Sequences with a size equal to or shorter than maxlink will be incorporated in the primers.\n",
    "overlap controls the overlap between the sequences in the assembly."
   ]
  },
  {
   "cell_type": "code",
   "execution_count": 10,
   "metadata": {
    "collapsed": false,
    "deletable": true,
    "editable": true
   },
   "outputs": [],
   "source": [
    "a,b,c = assembly_fragments( seqlist, maxlink=4, overlap=4)"
   ]
  },
  {
   "cell_type": "markdown",
   "metadata": {},
   "source": [
    "We get only three sequences, since the golden gate linkers are incorporated in the primers.\n",
    "Lets give them nicer names:"
   ]
  },
  {
   "cell_type": "code",
   "execution_count": 11,
   "metadata": {
    "collapsed": true
   },
   "outputs": [],
   "source": [
    "a.locus, b.locus, c.locus = \"sequenceA\", \"sequenceB\", \"sequenceC\""
   ]
  },
  {
   "cell_type": "code",
   "execution_count": 12,
   "metadata": {
    "collapsed": false,
    "deletable": true,
    "editable": true
   },
   "outputs": [
    {
     "data": {
      "text/plain": [
       "    5ccagaatacagtgccttag...cgatttggccgat3\n",
       "                           ||||||||||||| tm 48.1 (dbd) 56.2\n",
       "                          3gctaaaccggctaCTAG5\n",
       "5GAATccagaatacagtgccttag3\n",
       "     ||||||||||||||||||| tm 53.0 (dbd) 56.6\n",
       "    3ggtcttatgtcacggaatc...gctaaaccggcta5"
      ]
     },
     "execution_count": 12,
     "metadata": {},
     "output_type": "execute_result"
    }
   ],
   "source": [
    "a.figure()"
   ]
  },
  {
   "cell_type": "code",
   "execution_count": 13,
   "metadata": {
    "collapsed": false,
    "deletable": true,
    "editable": true
   },
   "outputs": [
    {
     "data": {
      "text/plain": [
       "    5gccctgcttggtaga...caataacattctatagtgtagcctt3\n",
       "                       ||||||||||||||||||||||||| tm 53.7 (dbd) 57.8\n",
       "                      3gttattgtaagatatcacatcggaaTTAA5\n",
       "5GATCgccctgcttggtaga3\n",
       "     ||||||||||||||| tm 53.7 (dbd) 57.4\n",
       "    3cgggacgaaccatct...gttattgtaagatatcacatcggaa5"
      ]
     },
     "execution_count": 13,
     "metadata": {},
     "output_type": "execute_result"
    }
   ],
   "source": [
    "b.figure()"
   ]
  },
  {
   "cell_type": "code",
   "execution_count": 14,
   "metadata": {
    "collapsed": false,
    "deletable": true,
    "editable": true
   },
   "outputs": [
    {
     "data": {
      "text/plain": [
       "    5gagagcgctcctgtt...aactctagcagctatactgtagg3\n",
       "                       ||||||||||||||||||||||| tm 56.1 (dbd) 56.9\n",
       "                      3ttgagatcgtcgatatgacatccCTTA5\n",
       "5AATTgagagcgctcctgtt3\n",
       "     ||||||||||||||| tm 54.4 (dbd) 56.5\n",
       "    3ctctcgcgaggacaa...ttgagatcgtcgatatgacatcc5"
      ]
     },
     "execution_count": 14,
     "metadata": {},
     "output_type": "execute_result"
    }
   ],
   "source": [
    "c.figure()"
   ]
  },
  {
   "cell_type": "markdown",
   "metadata": {},
   "source": [
    "We can assemble these by setting the limit to 4 and only_terminal_overlaps to True. \n",
    "With such short homology limit, we need to consider only terminal overlaps, otherwise \n",
    "we would get many irrelevant results. "
   ]
  },
  {
   "cell_type": "code",
   "execution_count": 15,
   "metadata": {
    "collapsed": false
   },
   "outputs": [
    {
     "data": {
      "text/plain": [
       "Assembly:\n",
       "Sequences........................: [58] [58] [58]\n",
       "Sequences with shared homologies.: [58] [58] [58]\n",
       "Homology limit (bp)..............: 4\n",
       "Number of overlaps...............: 3\n",
       "Nodes in graph(incl. 5' & 3')....: 5\n",
       "Only terminal overlaps...........: Yes\n",
       "Circular products................: [162]\n",
       "Linear products..................: [166] [166] [166] [112] [112] [112] [4] [4] [4]"
      ]
     },
     "execution_count": 15,
     "metadata": {},
     "output_type": "execute_result"
    }
   ],
   "source": [
    "asm = Assembly((a,b,c), limit=4, only_terminal_overlaps=True)\n",
    "asm"
   ]
  },
  {
   "cell_type": "markdown",
   "metadata": {},
   "source": [
    "We got one circular product. This should be the same as the theoretical one below: "
   ]
  },
  {
   "cell_type": "code",
   "execution_count": 16,
   "metadata": {
    "collapsed": true
   },
   "outputs": [],
   "source": [
    "correct = Dseqrecord(\"\")\n",
    "for s in seqlist[1:]:\n",
    "    correct += s\n",
    "correct = correct.looped()"
   ]
  },
  {
   "cell_type": "code",
   "execution_count": 17,
   "metadata": {
    "collapsed": false
   },
   "outputs": [
    {
     "data": {
      "text/plain": [
       "3xa1SOyFzIkaq7SUZGYD5YrUzsc"
      ]
     },
     "execution_count": 17,
     "metadata": {},
     "output_type": "execute_result"
    }
   ],
   "source": [
    "correct.cseguid()"
   ]
  },
  {
   "cell_type": "code",
   "execution_count": 18,
   "metadata": {
    "collapsed": true
   },
   "outputs": [],
   "source": [
    "candidate = asm.circular_products[0]"
   ]
  },
  {
   "cell_type": "code",
   "execution_count": 19,
   "metadata": {
    "collapsed": false
   },
   "outputs": [
    {
     "data": {
      "text/plain": [
       "3xa1SOyFzIkaq7SUZGYD5YrUzsc"
      ]
     },
     "execution_count": 19,
     "metadata": {},
     "output_type": "execute_result"
    }
   ],
   "source": [
    "candidate.cseguid()"
   ]
  },
  {
   "cell_type": "markdown",
   "metadata": {},
   "source": [
    "The candidate and the correct sequence has the same cseguid, so they represent the same circular sequence.\n",
    "We need to add the BsaI restriction enzyme recognition sequence (plus one nucleotide to get the cut right) to the primers:"
   ]
  },
  {
   "cell_type": "code",
   "execution_count": 20,
   "metadata": {
    "collapsed": true,
    "deletable": true,
    "editable": true
   },
   "outputs": [],
   "source": [
    "from Bio.Restriction import BsaI"
   ]
  },
  {
   "cell_type": "code",
   "execution_count": 21,
   "metadata": {
    "collapsed": false,
    "deletable": true,
    "editable": true
   },
   "outputs": [
    {
     "data": {
      "text/plain": [
       "'GGTCTC'"
      ]
     },
     "execution_count": 21,
     "metadata": {},
     "output_type": "execute_result"
    }
   ],
   "source": [
    "BsaI.site"
   ]
  },
  {
   "cell_type": "code",
   "execution_count": 22,
   "metadata": {
    "collapsed": false,
    "deletable": true,
    "editable": true
   },
   "outputs": [
    {
     "name": "stdout",
     "output_type": "stream",
     "text": [
      "sequenceA\n",
      "fw50\tGGTCTCaGAATccagaatacagtgccttag\n",
      "\n",
      "rv50\tGGTCTCaGATCatcggccaaatcg\n",
      "\n",
      "           5ccagaatacagtgccttag...cgatttggccgat3\n",
      "                                  ||||||||||||| tm 48.1 (dbd) 56.2\n",
      "                                 3gctaaaccggctaCTAGaCTCTGG5\n",
      "5GGTCTCaGAATccagaatacagtgccttag3\n",
      "            ||||||||||||||||||| tm 53.0 (dbd) 56.6\n",
      "           3ggtcttatgtcacggaatc...gctaaaccggcta5\n",
      "sequenceB\n",
      "fw50\tGGTCTCaGATCgccctgcttggtaga\n",
      "\n",
      "rv50\tGGTCTCaAATTaaggctacactatagaatgttattg\n",
      "\n",
      "           5gccctgcttggtaga...caataacattctatagtgtagcctt3\n",
      "                              ||||||||||||||||||||||||| tm 53.7 (dbd) 57.8\n",
      "                             3gttattgtaagatatcacatcggaaTTAAaCTCTGG5\n",
      "5GGTCTCaGATCgccctgcttggtaga3\n",
      "            ||||||||||||||| tm 53.7 (dbd) 57.4\n",
      "           3cgggacgaaccatct...gttattgtaagatatcacatcggaa5\n",
      "sequenceC\n",
      "fw50\tGGTCTCaAATTgagagcgctcctgtt\n",
      "\n",
      "rv50\tGGTCTCaATTCcctacagtatagctgctagagtt\n",
      "\n",
      "           5gagagcgctcctgtt...aactctagcagctatactgtagg3\n",
      "                              ||||||||||||||||||||||| tm 56.1 (dbd) 56.9\n",
      "                             3ttgagatcgtcgatatgacatccCTTAaCTCTGG5\n",
      "5GGTCTCaAATTgagagcgctcctgtt3\n",
      "            ||||||||||||||| tm 54.4 (dbd) 56.5\n",
      "           3ctctcgcgaggacaa...ttgagatcgtcgatatgacatcc5\n"
     ]
    }
   ],
   "source": [
    "for f in (a,b,c):\n",
    "    f.forward_primer = BsaI.site + \"a\" + f.forward_primer\n",
    "    f.reverse_primer = BsaI.site + \"a\" + f.reverse_primer\n",
    "    print(f.name)\n",
    "    print(f.forward_primer.format(\"tab\"))\n",
    "    print(f.reverse_primer.format(\"tab\"))\n",
    "    print(f.figure())"
   ]
  },
  {
   "cell_type": "code",
   "execution_count": 23,
   "metadata": {
    "collapsed": true
   },
   "outputs": [],
   "source": [
    "first_prod = pcr(a.forward_primer, a.reverse_primer, a.template)"
   ]
  },
  {
   "cell_type": "code",
   "execution_count": 24,
   "metadata": {
    "collapsed": false
   },
   "outputs": [
    {
     "data": {
      "text/plain": [
       "           5ccagaatacagtgccttag...cgatttggccgat3\n",
       "                                  ||||||||||||| tm 48.1 (dbd) 56.2\n",
       "                                 3gctaaaccggctaCTAGaCTCTGG5\n",
       "5GGTCTCaGAATccagaatacagtgccttag3\n",
       "            ||||||||||||||||||| tm 53.0 (dbd) 56.6\n",
       "           3ggtcttatgtcacggaatc...gctaaaccggcta5"
      ]
     },
     "execution_count": 24,
     "metadata": {},
     "output_type": "execute_result"
    }
   ],
   "source": [
    "first_prod.figure()"
   ]
  },
  {
   "cell_type": "code",
   "execution_count": 25,
   "metadata": {
    "collapsed": false
   },
   "outputs": [
    {
     "data": {
      "text/plain": [
       "[Dseqrecord(-11), Dseqrecord(-58), Dseqrecord(-11)]"
      ]
     },
     "execution_count": 25,
     "metadata": {},
     "output_type": "execute_result"
    }
   ],
   "source": [
    "first_prod.cut(BsaI)"
   ]
  },
  {
   "cell_type": "code",
   "execution_count": 26,
   "metadata": {
    "collapsed": false
   },
   "outputs": [
    {
     "data": {
      "text/plain": [
       "Dseq(-58)\n",
       "GAATccag..cgat    \n",
       "    ggtc..gctaCTAG"
      ]
     },
     "execution_count": 26,
     "metadata": {},
     "output_type": "execute_result"
    }
   ],
   "source": [
    "first_prod.cut(BsaI)[1].seq"
   ]
  },
  {
   "cell_type": "code",
   "execution_count": 27,
   "metadata": {
    "collapsed": true
   },
   "outputs": [],
   "source": []
  }
 ],
 "metadata": {
  "anaconda-cloud": {},
  "kernelspec": {
   "display_name": "Python 3",
   "language": "python",
   "name": "python3"
  },
  "language_info": {
   "codemirror_mode": {
    "name": "ipython",
    "version": 3
   },
   "file_extension": ".py",
   "mimetype": "text/x-python",
   "name": "python",
   "nbconvert_exporter": "python",
   "pygments_lexer": "ipython3",
   "version": "3.5.2"
  }
 },
 "nbformat": 4,
 "nbformat_minor": 0
}
