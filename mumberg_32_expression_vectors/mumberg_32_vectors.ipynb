{
 "cells": [
  {
   "cell_type": "markdown",
   "metadata": {},
   "source": [
    "# Mumberg 32 expression vectors\n",
    "\n",
    "This pydna notebook automatically assembles the sequences of the 32 expression \n",
    "vectors described in:\n",
    "\n",
    "[Mumberg,D., Müller,R. and Funk,M. (1995) Yeast vectors for the controlled \n",
    "expression of heterologous proteins in different genetic backgrounds. \n",
    "Gene, 156, 119–122.](http://www.sciencedirect.com/science/article/pii/0378111995000377)\n",
    "\n",
    "\n",
    "These plasmids were made from the pRS series of yeast vectors.\n",
    "\n",
    "a [XhoI - KpnI fragment of the ScCYC1 terminator] was cloned using the same sites in pRS416\n",
    "resulting in p416CYC1t\n",
    "\n",
    "PCR generated SacI - XbaI promoter fragments of  ScTDH3pr, ScTEF1pr, ScADH1pr and ScCYC1pr promoters \n",
    "were cloned using the same sites resulting in:\n",
    "\n",
    "    p416GPD sequenced SacI,XbaI,XhoI,KpnI are unique\n",
    "    p416TEF sequenced SacI,XbaI,XhoI,KpnI are unique\n",
    "    p416ADH\n",
    "    p416CYC sequenced SacI,XbaI,KpnI are unique\n",
    "\n",
    "The SacI - KpnI promoter + terminator fragment was transferred to other pRS vectors using a strategy that is \n",
    "undisclosed in the paper. \n",
    "\n",
    "    ScTDH3pr-ScCYC1t\n",
    "    ScTEF1pr-ScCYC1t\n",
    "    ScADH1pr-ScCYC1t\n",
    "    ScCYC1pr-ScCYC1t\n",
    "\n",
    "Probably SacI - KpnI were used. In the case of pRS423 and pRS425, there are \n",
    "two KpnI sites, so maybe a partial cut was used?\n",
    "\n",
    "                            this part is the opposite direction in the paper (this version here is correct!)\n",
    "                               <--------------->\n",
    "    mcs:\n",
    "         7 SpeI      19 SmaI     31 EcoRI    43 HindIII           64 XhoI\n",
    "    1 XbaI      13 BamHI    25 PstI     37 EcoRV    49 ClaI  58 SalI\n",
    "    |     |     |     |     |     |     |     |     |        |     |     \n",
    "    TCTAGAACTAGTGGATCCCCCGGGCTGCAGGAATTCGATATCAAGCTTATCGATACCGTCGACCTCGAG\n",
    "    TCTAGAACTAGTGGATCCCCCGGGCTGCAGC...|\n",
    "                              ---------\n",
    "                              |...GAATTCGATATCAAGCTTATCGATACCGTCG\t\t\t    \n",
    "\t\t\n",
    "\n",
    "\t\t\t\t\t\t\t\t\t\t\t\t\t   \n",
    "    TCTAGAACTAGTGGATCCCCCGGGCTGCAGAatggttttcggtaacaggca\n",
    "\n",
    "           ccgttcggtctttagatagttaaGAATTCGATATCAAGCTTATCGATACCGTCGACCTCGAG\n",
    "\n",
    "    >primerfw\n",
    "    TCTAGAACTAGTGGATCCCCCGGGCTGCAGA...\n",
    "    >primerrev\n",
    "    CGACGGTATCGATAAGCTTGATATCGAATTC...\n",
    "\n",
    "                XbaI SpeI BamHI SmaI PstI EcoRI\tEcoRV HindIII ClaI SalI XhoI\n",
    "\n",
    "    p413 HIS3\tXbaI SpeI BamHI SmaI      EcoRI EcoRV         ClaI SalI XhoI\n",
    "    p414 TRP1\tXbaI SpeI BamHI SmaI PstI EcoRI               ClaI SalI XhoI\n",
    "    p415 LEU2\tXbaI SpeI BamHI SmaI PstI             HindIII      SalI XhoI\n",
    "    p416 URA3\tXbaI SpeI BamHI SmaI      EcoRI       HindIII ClaI SalI XhoI\n",
    "\n",
    "    p423 HIS3 \t     SpeI BamHI SmaI \t  EcoRI\tEcoRV         ClaI SalI XhoI\n",
    "    p424 TRP1        SpeI BamHI SmaI PstI EcoRI               ClaI SalI XhoI\n",
    "    p425 LEU2        SpeI BamHI SmaI PstI       \t  HindIII      SalI XhoI\n",
    "    p426 URA3        SpeI BamHI SmaI      EcoRI       HindIII ClaI SalI XhoI\n",
    "\n",
    "XbaI only unique in   p41XXXX (All centromeric vectors, but no episomal vectors)\n",
    "XhoI is not unique in p4XXCYC1 (any vector with ScCYC1 promoter)\n",
    "\n",
    "    M#  vector\t\t\tori         marker\n",
    "    --  -------  \n",
    "    M1\tp413GPD         CEN6/ARSH4 \tHIS3\n",
    "    M2\tp423GPD \t\t2 um\t\tHIS3\n",
    "    M3\tp414GPD \t\tCEN6/ARSH4 \tTRP1\n",
    "    M4\tp424GPD \t\t2 um\t\tTRP1\n",
    "    M5\tp415GPD \t\tCEN6/ARSH4 \tLEU2\n",
    "    M6\tp425GPD \t\t2 um\t\tLEU2\n",
    "    M7\tp416GPD \t\tCEN6/ARSH4 \tURA3 http://www.ncbi.nlm.nih.gov/nuccore/82548122\n",
    "    M8\tp426GPD \t\t2 um\t\tURA3 http://www.ncbi.nlm.nih.gov/nuccore/76496266\n",
    "    M9\tp413TEF \t\tCEN6/ARSH4 \tHIS3\n",
    "    M10\tp423TEF \t\t2 um\t\tHIS3\n",
    "    M11\tp414TEF \t\tCEN6/ARSH4 \tTRP1\n",
    "    M12\tp424TEF \t\t2 um\t\tTRP1\n",
    "    M13\tp415TEF \t\tCEN6/ARSH4 \tLEU2\n",
    "    M14\tp425TEF \t\t2 um\t\tLEU2\n",
    "    M15\tp416TEF \t\tCEN6/ARSH4 \tURA3 http://www.ncbi.nlm.nih.gov/nuccore/124365231\n",
    "    M16\tp426TEF \t\t2 um\t\tURA3 assemb\n",
    "    M17\tp413ADH \t\tCEN6/ARSH4 \tHIS3\n",
    "    M18\tp423ADH \t\t2 um\t\tHIS3\n",
    "    M19\tp414ADH \t\tCEN6/ARSH4 \tTRP1\n",
    "    M20\tp424ADH \t\t2 um\t\tTRP1\n",
    "    M21\tp415ADH \t\tCEN6/ARSH4 \tLEU2\n",
    "    M22\tp425ADH \t\t2 um\t\tLEU2 <-not sold from ATCC\n",
    "    M23\tp416ADH \t\tCEN6/ARSH4 \tURA3\n",
    "    M24\tp426ADH \t\t2 um\t\tURA3\n",
    "    M25\tp413CYC \t\tCEN6/ARSH4 \tHIS3\n",
    "    M26\tp423CYC \t\t2 um\t\tHIS3\n",
    "    M27\tp414CYC \t\tCEN6/ARSH4 \tTRP1\n",
    "    M28\tp424CYC \t\t2 um\t\tTRP1\n",
    "    M29\tp415CYC \t\tCEN6/ARSH4 \tLEU2\n",
    "    M30\tp425CYC \t\t2 um\t\tLEU2\n",
    "    M31\tp416CYC \t\tCEN6/ARSH4 \tURA3 sequenced\n",
    "    M32\tp426CYC\t\t    2 um\t\tURA3"
   ]
  },
  {
   "cell_type": "code",
   "execution_count": 1,
   "metadata": {
    "collapsed": true
   },
   "outputs": [],
   "source": [
    "from pydna.genbank import Genbank\n",
    "from pydna.dseqrecord import Dseqrecord\n",
    "\n",
    "gb = Genbank(\"bjornjobb@gmail.com\")\n",
    "\n",
    "# The DNA fragments below were obtained from Saccharomyces Genome Database\n",
    "# www.sgd.org\n",
    "\n",
    "\n",
    "cyc1term =       Dseqrecord(\"ctcgagtcatgtaattagttatgtcacgcttacattcacgccctccccccacat\"\n",
    "                            \"ccgctctaaccgaaaaggaaggagttagacaacctgaagtctaggtccctattt\"\n",
    "                            \"atttttttatagttatgttagtattaagaacgttatttatatttcaaatttttc\"\n",
    "                            \"ttttttttctgtacagacgcgtgtacgcatgtaacattatactgaaaaccttgc\"\n",
    "                            \"ttgagaaggttttgggacgctcgaaggctttaatttgcggccggtaccn\")\n",
    "\n",
    "tefprom =       Dseqrecord(\"gagctcatagcttcaaaatgtttctactccttttttactcttccagattttctcgga\"\n",
    "                           \"ctccgcgcatcgccgtaccacttcaaaacacccaagcacagcatactaaatttcccc\"\n",
    "                           \"tctttcttcctctagggtgtcgttaattacccgtactaaaggtttggaaaagaaaaa\"\n",
    "                           \"agagaccgcctcgtttctttttcttcgtcgaaaaaggcaataaaaatttttatcacg\"\n",
    "                           \"tttctttttcttgaaaattttttttttgatttttttctctttcgatgacctcccatt\"\n",
    "                           \"gatatttaagttaataaacggtcttcaatttctcaagtttcagtttcatttttcttg\"\n",
    "                           \"ttctattacaactttttttacttcttgctcattagaaagaaagcatagcaatctaat\"\n",
    "                           \"ctaagttttctaga\")\n",
    "\n",
    "cycprom =       Dseqrecord(\"gagctcatttggcgagcgttggttggtggatcaagcccacgcgtaggcaatcctcga\"\n",
    "                           \"gcagatccgccaggcgtgtatatatagcgtggatggccaggcaactttagtgctgac\"\n",
    "                           \"acatacaggcatatatatatgtgtgcgacgacacatgatcatatggcatgcatgtgc\"\n",
    "                           \"tctgtatgtatataaaactcttgttttcttcttttctctaaatattctttccttata\"\n",
    "                           \"cattaggacctttgcagcataaattactatacttctatagacacgcaaacacaaata\"\n",
    "                           \"cacacactaatctaga\")\n",
    "\n",
    "adhprom =       Dseqrecord(\"gagctcTAAAACAAGAAGAGGGTTGACTACATCACGATGAGGGGGATCGAAGAAATG\"\n",
    "                           \"ATGGTAAATGAAATAGGAAATCAAGGAGCATGAAGGCAAAAGACAAATATAAGGGTC\"\n",
    "                           \"GAACGAAAAATAAAGTGAAAAGTGTTGATATGATGTATTTGGCTTTGCGGCGCCGAA\"\n",
    "                           \"AAAACGAGTTTACGCAATTGCACAATCATGCTGACTCTGTGGCGGACCCGCGCTCTT\"\n",
    "                           \"GCCGGCCCGGCGATAACGCTGGGCGTGAGGCTGTGCCCGGCGGAGTTTTTTGCGCCT\"\n",
    "                           \"GCATTTTCCAAGGTTTACCCTGCGCTAAGGGGCGAGATTGGAGAAGCAATAAGAATG\"\n",
    "                           \"CCGGTTGGGGTTGCGATGATGACGACCACGACAACTGGTGTCATTATTTAAGTTGCC\"\n",
    "                           \"GAAAGAACCTGAGTGCATTTGCAACATGAGTATACTAGAAGAATGAGCCAAGACTTG\"\n",
    "                           \"CGAGACGCGAGTTTGCCGGTGGTGCGAACAATAGAGCGACCATGACCTTGAAGGTGA\"\n",
    "                           \"GACGCGCATAACCGCTAGAGTACTTTGAAGAGGAAACAGCAATAGGGTTGCTACCAG\"\n",
    "                           \"TATAAATAGACAGGTACATACAACACTGGAAATGGTTGTCTGTTTGAGTACGCTTTC\"\n",
    "                           \"AATTCATTTGGGTGTGCACTTTATTATGTTACAATATGGAAGGGAACTTTACACTTC\"\n",
    "                           \"TCCTATGCACATATATTAATTAAAGTCCAATGCTAGTAGAGAAGGGGGGTAACACCC\"\n",
    "                           \"CTCCGCGCTCTTTTCCGATTTTTTTCTAAACCGTGGAATATTTCGGATATCCTTTTG\"\n",
    "                           \"TTGTTTCCGGGTGTACAATATGGACTTCCTCTTTTCTGGCAACCAAACCCATACATC\"\n",
    "                           \"GGGATTCCTATAATACCTTCGTTGGTCTCCCTAACATGTAGGTGGCGGAGGGGAGAT\"\n",
    "                           \"ATACAATAGAACAGATACCAGACAAGACATAATGGGCTAAACAAGACTACACCAATT\"\n",
    "                           \"ACACTGCCTCATTGATGGTGGTACATAACGAACTAATACTGTAGCCCTAGACTTGAT\"\n",
    "                           \"AGCCATCATCATATCGAAGTTTCACTACCCTTTTTCCATTTGCCATCTATTGAAGTA\"\n",
    "                           \"ATAATAGGCGCATGCAACTTCTTTTCTTTTTTTTTCTTTTCTCTCTCCCCCGTTGTT\"\n",
    "                           \"GTCTCACCATATCCGCAATGACAAAAAAATGATGGAAGACACTAAAGGAAAAAATTA\"\n",
    "                           \"ACGACAAAGACAGCACCAACAGATGTCGTTGTTCCAGAGCTGATGAGGGGTATCTCG\"\n",
    "                           \"AAGCACACGAAACTTTTTCCTTCCTTCATTCACGCACACTACTCTCTAATGAGCAAC\"\n",
    "                           \"GGTATACGGCCTTCCTTCCAGTTACTTGAATTTGAAATAAAAAAAAGTTTGCTGTCT\"\n",
    "                           \"TGCTATCAAGTATAAATAGACCTGCAATTATTAATCTTTTGTTTCCTCGTCATTGTT\"\n",
    "                           \"CTCGTTCCCTTTCTTCCTTGTTTCTTTTTCTGCACAATATTTCAAGCTATACCAAGC\"\n",
    "                           \"ATACAATCAACTATCTCATATACAtctaga\")\n",
    "\n",
    "gpdprom =       Dseqrecord(\"gagctcagtttatcattatcaatactcgccatttcaaagaatacgtaaataattaat\"\n",
    "                           \"agtagtgattttcctaactttatttagtcaaaaaattagccttttaattctgctgta\"\n",
    "                           \"acccgtacatgcccaaaatagggggcgggttacacagaatatataacatcgtaggtg\"\n",
    "                           \"tctgggtgaacagtttattcctggcatccactaaatataatggagcccgctttttaa\"\n",
    "                           \"gctggcatccagaaaaaaaaagaatcccagcaccaaaatattgttttcttcaccaac\"\n",
    "                           \"catcagttcataggtccattctcttagcgcaactacagagaacaggggcacaaacag\"\n",
    "                           \"gcaaaaaacgggcacaacctcaatggagtgatgcaacctgcctggagtaaatgatga\"\n",
    "                           \"cacaaggcaattgacccacgcatgtatctatctcattttcttacaccttctattacc\"\n",
    "                           \"ttctgctctctctgatttggaaaaagctgaaaaaaaaggttgaaaccagttccctga\"\n",
    "                           \"aattattcccctacttgactaataagtatataaagacggtaggtattgattgtaatt\"\n",
    "                           \"ctgtaaatctatttcttaaacttcttaaattctacttttatagttagtctttttttt\"\n",
    "                           \"agttttaaaacaccagaacttagtttcgacggattctaga\")"
   ]
  },
  {
   "cell_type": "code",
   "execution_count": 2,
   "metadata": {
    "collapsed": false
   },
   "outputs": [],
   "source": [
    "from Bio.Restriction import XhoI, KpnI, SacI, XbaI\n",
    "\n",
    "# The Mumberg vectors depend on these pRS plasmids\n",
    "\n",
    "pRS413 = gb.nucleotide(\"U03447\")\n",
    "pRS414 = gb.nucleotide(\"U03448\")\n",
    "pRS415 = gb.nucleotide(\"U03449\")\n",
    "pRS416 = gb.nucleotide(\"U03450\")\n",
    "\n",
    "pRS423 = gb.nucleotide(\"U03454\")\n",
    "pRS424 = gb.nucleotide(\"U03453\")\n",
    "pRS425 = gb.nucleotide(\"U03452\")\n",
    "pRS426 = gb.nucleotide(\"U03451\")"
   ]
  },
  {
   "cell_type": "code",
   "execution_count": 3,
   "metadata": {
    "collapsed": true
   },
   "outputs": [],
   "source": [
    "# The CYC1 terminator was cloned in pRS416 using XhoI and KpnI\n",
    "\n",
    "p416cyc1term = ( pRS416.cut(XhoI, KpnI).pop(0).rc() + cyc1term.cut(XhoI, KpnI)[1] ).looped()\n",
    "\n",
    "# The p416cyc1term was opened using SacI and XbaI\n",
    "\n",
    "bb, stuffer = p416cyc1term.cut(SacI, XbaI)\n",
    "\n",
    "# Each promoter was cloned in front of the CYC1 terminator\n",
    "\n",
    "\n",
    "p416GPD = ( bb + gpdprom.cut(SacI, XbaI)[1] ).looped().synced(\"gacgaaagggcctcgtgatacgccta\")\n",
    "p416TEF = ( bb + tefprom.cut(SacI, XbaI)[1] ).looped().synced(\"gacgaaagggcctcgtgatacgccta\")\n",
    "p416ADH = ( bb + adhprom.cut(SacI, XbaI)[1] ).looped().synced(\"gacgaaagggcctcgtgatacgccta\")\n",
    "p416CYC = ( bb + cycprom.cut(SacI, XbaI)[1] ).looped().synced(\"gacgaaagggcctcgtgatacgccta\")"
   ]
  },
  {
   "cell_type": "code",
   "execution_count": 4,
   "metadata": {
    "collapsed": false
   },
   "outputs": [
    {
     "data": {
      "text/html": [
       "<font face=monospace><a href='p416GPD.gb' target='_blank'>p416GPD.gb</a></font><br>"
      ]
     },
     "metadata": {},
     "output_type": "display_data"
    }
   ],
   "source": [
    "# Write the first four plasmids to files \n",
    "\n",
    "p416GPD.write(\"p416GPD.gb\")"
   ]
  },
  {
   "cell_type": "code",
   "execution_count": 5,
   "metadata": {
    "collapsed": false
   },
   "outputs": [
    {
     "data": {
      "text/html": [
       "<font face=monospace><a href='p416TEF.gb' target='_blank'>p416TEF.gb</a></font><br>"
      ]
     },
     "metadata": {},
     "output_type": "display_data"
    }
   ],
   "source": [
    "p416TEF.write(\"p416TEF.gb\")"
   ]
  },
  {
   "cell_type": "code",
   "execution_count": 6,
   "metadata": {
    "collapsed": false
   },
   "outputs": [
    {
     "data": {
      "text/html": [
       "<font face=monospace><a href='p416ADH.gb' target='_blank'>p416ADH.gb</a></font><br>"
      ]
     },
     "metadata": {},
     "output_type": "display_data"
    }
   ],
   "source": [
    "p416ADH.write(\"p416ADH.gb\")"
   ]
  },
  {
   "cell_type": "code",
   "execution_count": 7,
   "metadata": {
    "collapsed": false
   },
   "outputs": [
    {
     "data": {
      "text/html": [
       "<font face=monospace><a href='p416CYC.gb' target='_blank'>p416CYC.gb</a></font><br>"
      ]
     },
     "metadata": {},
     "output_type": "display_data"
    }
   ],
   "source": [
    "p416CYC.write(\"p416CYC.gb\")"
   ]
  },
  {
   "cell_type": "code",
   "execution_count": 8,
   "metadata": {
    "collapsed": true
   },
   "outputs": [],
   "source": [
    "# cut out each type of promoter\n",
    "\n",
    "gpdcyc  = p416GPD.cut(SacI, KpnI).pop()\n",
    "gpdcyc.name = \"GPD\"\n",
    "tefcyc  = p416TEF.cut(SacI, KpnI).pop()\n",
    "tefcyc.name = \"TEF\"\n",
    "adhcyc  = p416ADH.cut(SacI, KpnI).pop()\n",
    "adhcyc.name = \"ADH\"\n",
    "cyccyc  = p416CYC.cut(SacI, KpnI).pop()\n",
    "cyccyc.name = \"CYC\""
   ]
  },
  {
   "cell_type": "code",
   "execution_count": 9,
   "metadata": {
    "collapsed": false
   },
   "outputs": [
    {
     "data": {
      "text/html": [
       "<font face=monospace><a href='p413GPD.gb' target='_blank'>p413GPD.gb</a></font><br>"
      ]
     },
     "metadata": {},
     "output_type": "display_data"
    },
    {
     "data": {
      "text/html": [
       "<font face=monospace><a href='p423GPD.gb' target='_blank'>p423GPD.gb</a></font><br>"
      ]
     },
     "metadata": {},
     "output_type": "display_data"
    },
    {
     "data": {
      "text/html": [
       "<font face=monospace><a href='p414GPD.gb' target='_blank'>p414GPD.gb</a></font><br>"
      ]
     },
     "metadata": {},
     "output_type": "display_data"
    },
    {
     "data": {
      "text/html": [
       "<font face=monospace><a href='p424GPD.gb' target='_blank'>p424GPD.gb</a></font><br>"
      ]
     },
     "metadata": {},
     "output_type": "display_data"
    },
    {
     "data": {
      "text/html": [
       "<font face=monospace><a href='p415GPD.gb' target='_blank'>p415GPD.gb</a></font><br>"
      ]
     },
     "metadata": {},
     "output_type": "display_data"
    },
    {
     "data": {
      "text/html": [
       "<font face=monospace><a href='p425GPD.gb' target='_blank'>p425GPD.gb</a></font><br>"
      ]
     },
     "metadata": {},
     "output_type": "display_data"
    },
    {
     "data": {
      "text/html": [
       "<font face=monospace><a href='p426GPD.gb' target='_blank'>p426GPD.gb</a></font><br>"
      ]
     },
     "metadata": {},
     "output_type": "display_data"
    },
    {
     "data": {
      "text/html": [
       "<font face=monospace><a href='p413TEF.gb' target='_blank'>p413TEF.gb</a></font><br>"
      ]
     },
     "metadata": {},
     "output_type": "display_data"
    },
    {
     "data": {
      "text/html": [
       "<font face=monospace><a href='p423TEF.gb' target='_blank'>p423TEF.gb</a></font><br>"
      ]
     },
     "metadata": {},
     "output_type": "display_data"
    },
    {
     "data": {
      "text/html": [
       "<font face=monospace><a href='p414TEF.gb' target='_blank'>p414TEF.gb</a></font><br>"
      ]
     },
     "metadata": {},
     "output_type": "display_data"
    },
    {
     "data": {
      "text/html": [
       "<font face=monospace><a href='p424TEF.gb' target='_blank'>p424TEF.gb</a></font><br>"
      ]
     },
     "metadata": {},
     "output_type": "display_data"
    },
    {
     "data": {
      "text/html": [
       "<font face=monospace><a href='p415TEF.gb' target='_blank'>p415TEF.gb</a></font><br>"
      ]
     },
     "metadata": {},
     "output_type": "display_data"
    },
    {
     "data": {
      "text/html": [
       "<font face=monospace><a href='p425TEF.gb' target='_blank'>p425TEF.gb</a></font><br>"
      ]
     },
     "metadata": {},
     "output_type": "display_data"
    },
    {
     "data": {
      "text/html": [
       "<font face=monospace><a href='p426TEF.gb' target='_blank'>p426TEF.gb</a></font><br>"
      ]
     },
     "metadata": {},
     "output_type": "display_data"
    },
    {
     "data": {
      "text/html": [
       "<font face=monospace><a href='p413ADH.gb' target='_blank'>p413ADH.gb</a></font><br>"
      ]
     },
     "metadata": {},
     "output_type": "display_data"
    },
    {
     "data": {
      "text/html": [
       "<font face=monospace><a href='p423ADH.gb' target='_blank'>p423ADH.gb</a></font><br>"
      ]
     },
     "metadata": {},
     "output_type": "display_data"
    },
    {
     "data": {
      "text/html": [
       "<font face=monospace><a href='p414ADH.gb' target='_blank'>p414ADH.gb</a></font><br>"
      ]
     },
     "metadata": {},
     "output_type": "display_data"
    },
    {
     "data": {
      "text/html": [
       "<font face=monospace><a href='p424ADH.gb' target='_blank'>p424ADH.gb</a></font><br>"
      ]
     },
     "metadata": {},
     "output_type": "display_data"
    },
    {
     "data": {
      "text/html": [
       "<font face=monospace><a href='p415ADH.gb' target='_blank'>p415ADH.gb</a></font><br>"
      ]
     },
     "metadata": {},
     "output_type": "display_data"
    },
    {
     "data": {
      "text/html": [
       "<font face=monospace><a href='p425ADH.gb' target='_blank'>p425ADH.gb</a></font><br>"
      ]
     },
     "metadata": {},
     "output_type": "display_data"
    },
    {
     "data": {
      "text/html": [
       "<font face=monospace><a href='p426ADH.gb' target='_blank'>p426ADH.gb</a></font><br>"
      ]
     },
     "metadata": {},
     "output_type": "display_data"
    },
    {
     "data": {
      "text/html": [
       "<font face=monospace><a href='p413CYC.gb' target='_blank'>p413CYC.gb</a></font><br>"
      ]
     },
     "metadata": {},
     "output_type": "display_data"
    },
    {
     "data": {
      "text/html": [
       "<font face=monospace><a href='p423CYC.gb' target='_blank'>p423CYC.gb</a></font><br>"
      ]
     },
     "metadata": {},
     "output_type": "display_data"
    },
    {
     "data": {
      "text/html": [
       "<font face=monospace><a href='p414CYC.gb' target='_blank'>p414CYC.gb</a></font><br>"
      ]
     },
     "metadata": {},
     "output_type": "display_data"
    },
    {
     "data": {
      "text/html": [
       "<font face=monospace><a href='p424CYC.gb' target='_blank'>p424CYC.gb</a></font><br>"
      ]
     },
     "metadata": {},
     "output_type": "display_data"
    },
    {
     "data": {
      "text/html": [
       "<font face=monospace><a href='p415CYC.gb' target='_blank'>p415CYC.gb</a></font><br>"
      ]
     },
     "metadata": {},
     "output_type": "display_data"
    },
    {
     "data": {
      "text/html": [
       "<font face=monospace><a href='p425CYC.gb' target='_blank'>p425CYC.gb</a></font><br>"
      ]
     },
     "metadata": {},
     "output_type": "display_data"
    },
    {
     "data": {
      "text/html": [
       "<font face=monospace><a href='p426CYC.gb' target='_blank'>p426CYC.gb</a></font><br>"
      ]
     },
     "metadata": {},
     "output_type": "display_data"
    }
   ],
   "source": [
    "import os\n",
    "from IPython.display import FileLink\n",
    "\n",
    "cassettes = [ gpdcyc, tefcyc, adhcyc, cyccyc ]\n",
    "pRS       = [ pRS413, pRS423, pRS414, pRS424, pRS415, pRS425, pRS426 ]\n",
    "             \n",
    "for cassette in cassettes:\n",
    "    for v in pRS: \n",
    "        pl = (v.cut(SacI, KpnI).pop(0).rc() + cassette ).looped().synced(\"gacgaaagggcctcgtgatacgccta\")\n",
    "        new_name = \"p{no}{prom}.gb\".format(no = v.name[3:], prom = cassette.name)\n",
    "        pl.write( new_name)\n",
    "        if new_name ==\"p426GPD.gb\":\n",
    "            p426GPD=pl"
   ]
  },
  {
   "cell_type": "code",
   "execution_count": 10,
   "metadata": {
    "collapsed": true
   },
   "outputs": [],
   "source": [
    "# download four of the sequences available from genbank\n",
    "\n",
    "p416GPD_genbank = gb.nucleotide(\"DQ269148\")\n",
    "p426GPD_genbank = gb.nucleotide(\"DQ019861\").looped() # This Genbank record is linear, should be circular.\n",
    "p416TEF_genbank = gb.nucleotide(\"EF210199\")\n",
    "p416CYC_genbank = gb.nucleotide(\"EF210198\")"
   ]
  },
  {
   "cell_type": "code",
   "execution_count": 11,
   "metadata": {
    "collapsed": true
   },
   "outputs": [],
   "source": [
    "from pydna.utils import eq"
   ]
  },
  {
   "cell_type": "code",
   "execution_count": 12,
   "metadata": {
    "collapsed": false
   },
   "outputs": [],
   "source": [
    "# verify that the sequences made here and the ones \n",
    "# available from genbank are equivalent\n",
    "\n",
    "assert eq(p416GPD_genbank, p416GPD)\n",
    "assert eq(p416TEF_genbank, p416TEF)\n",
    "assert eq(p416CYC_genbank, p416CYC)\n",
    "assert eq(p426GPD_genbank, p426GPD)"
   ]
  }
 ],
 "metadata": {
  "anaconda-cloud": {},
  "kernelspec": {
   "display_name": "Python 3",
   "language": "python",
   "name": "python3"
  },
  "language_info": {
   "codemirror_mode": {
    "name": "ipython",
    "version": 3
   },
   "file_extension": ".py",
   "mimetype": "text/x-python",
   "name": "python",
   "nbconvert_exporter": "python",
   "pygments_lexer": "ipython3",
   "version": "3.5.2"
  }
 },
 "nbformat": 4,
 "nbformat_minor": 0
}
