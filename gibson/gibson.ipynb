{
 "cells": [
  {
   "cell_type": "markdown",
   "metadata": {
    "collapsed": false
   },
   "source": [
    "# Gibson primer design & assembly\n",
    "\n",
    "This notebook describe primer design for assembly of linear DNA fragments by techniques like homologous recombination or Gibson assembly. The goal of this experiemtn is to create a Saccharomyces cerevisiae vector that expresses the cytochrome C1 gene CYC1 with a c-terminal GFP tag using the yeast expression vector p426GPD. We also would like to have a unique restriction site between the promoter in p426GPD (Which is the TDH3 promoter).\n",
    "\n",
    "This notebook designs the necessary primers for this experiment. For more inormation on Gibson assembly, addgene has a nice page [here](https://www.addgene.org/protocols/gibson-assembly/)."
   ]
  },
  {
   "cell_type": "markdown",
   "metadata": {},
   "source": [
    "The first step is to read the sequences from local files. The sequences can also be read directly from genbank using their accession numbers which are:\n",
    "\n",
    "* [V01298](https://www.ncbi.nlm.nih.gov/nuccore/V01298)\n",
    "* [AF298787](https://www.ncbi.nlm.nih.gov/nuccore/AF298787)\n",
    "* [DQ019861](https://www.ncbi.nlm.nih.gov/nuccore/DQ019861)"
   ]
  },
  {
   "cell_type": "code",
   "execution_count": 1,
   "metadata": {
    "collapsed": false
   },
   "outputs": [],
   "source": [
    "from pydna.readers import read"
   ]
  },
  {
   "cell_type": "code",
   "execution_count": 2,
   "metadata": {
    "collapsed": false
   },
   "outputs": [],
   "source": [
    "cyc1 = read(\"cyc1.gb\")"
   ]
  },
  {
   "cell_type": "code",
   "execution_count": 3,
   "metadata": {
    "collapsed": false
   },
   "outputs": [
    {
     "data": {
      "text/html": [
       "<a href='cyc1.gb' target='_blank'>cyc1.gb</a><br>"
      ],
      "text/plain": [
       "File(CYC1)(-330)"
      ]
     },
     "execution_count": 3,
     "metadata": {},
     "output_type": "execute_result"
    }
   ],
   "source": [
    "cyc1"
   ]
  },
  {
   "cell_type": "markdown",
   "metadata": {},
   "source": [
    "The cyc1.gb sequence file only contains the ORF, so we can use it directly. The sequence file can be inspected using the ling above."
   ]
  },
  {
   "cell_type": "code",
   "execution_count": 4,
   "metadata": {
    "collapsed": false
   },
   "outputs": [
    {
     "data": {
      "text/plain": [
       "True"
      ]
     },
     "execution_count": 4,
     "metadata": {},
     "output_type": "execute_result"
    }
   ],
   "source": [
    "cyc1.isorf()"
   ]
  },
  {
   "cell_type": "code",
   "execution_count": 5,
   "metadata": {
    "collapsed": true
   },
   "outputs": [],
   "source": [
    "pUG35 = read(\"pUG35.gb\")"
   ]
  },
  {
   "cell_type": "code",
   "execution_count": 6,
   "metadata": {
    "collapsed": false
   },
   "outputs": [
    {
     "data": {
      "text/html": [
       "<a href='pUG35.gb' target='_blank'>pUG35.gb</a><br>"
      ],
      "text/plain": [
       "File(AF298787.1)(o6231)"
      ]
     },
     "execution_count": 6,
     "metadata": {},
     "output_type": "execute_result"
    }
   ],
   "source": [
    "pUG35"
   ]
  },
  {
   "cell_type": "code",
   "execution_count": 7,
   "metadata": {
    "collapsed": true
   },
   "outputs": [],
   "source": [
    "p426GPD = read(\"p426GPD.gb\")"
   ]
  },
  {
   "cell_type": "code",
   "execution_count": 8,
   "metadata": {
    "collapsed": false
   },
   "outputs": [
    {
     "data": {
      "text/html": [
       "<a href='p426GPD.gb' target='_blank'>p426GPD.gb</a><br>"
      ],
      "text/plain": [
       "File(-)(o6606)"
      ]
     },
     "execution_count": 8,
     "metadata": {},
     "output_type": "execute_result"
    }
   ],
   "source": [
    "p426GPD"
   ]
  },
  {
   "cell_type": "markdown",
   "metadata": {},
   "source": [
    "The pUG35 is a plasmid containing the GFP gene. We have to find the exact DNA fragment we want. The pUG35 genbank file contains features, one of which is the GFP ORF. Inspection in ApE concluded that the feature number 5 in the list below is the GFP ORF."
   ]
  },
  {
   "cell_type": "code",
   "execution_count": 9,
   "metadata": {
    "collapsed": false
   },
   "outputs": [
    {
     "data": {
      "text/plain": [
       "+----------+-----------+-------+------+--------+--------------+--------------+------+\n",
       "| Feature# | Direction | Start | End  | Length | id           | type         | orf? |\n",
       "+----------+-----------+-------+------+--------+--------------+--------------+------+\n",
       "| 0        |    -->    |   0   | 6231 |   6231 | <unknown id> | source       |  no  |\n",
       "| 1        |    -->    |  416  | 1220 |    804 | <unknown id> | gene         | yes  |\n",
       "| 2        |    -->    |  416  | 1220 |    804 | <unknown id> | CDS          | yes  |\n",
       "| 3        |    -->    |  2003 | 2262 |    259 | <unknown id> | terminator   |  no  |\n",
       "| 4        |    <--    |  2270 | 2987 |    717 | <unknown id> | gene         | yes  |\n",
       "| 5        |    <--    |  2270 | 2987 |    717 | <unknown id> | CDS          | yes  |\n",
       "| 6        |    -->    |  3050 | 3443 |    393 | <unknown id> | promoter     |  no  |\n",
       "| 7        |    -->    |  3881 | 3954 |     73 | <unknown id> | rep_origin   |  no  |\n",
       "| 8        |    <--    |  4656 | 5517 |    861 | <unknown id> | gene         | yes  |\n",
       "| 9        |    <--    |  4656 | 5517 |    861 | <unknown id> | CDS          | yes  |\n",
       "| 10       |    -->    |  5655 | 6170 |    515 | <unknown id> | misc_feature |  no  |\n",
       "+----------+-----------+-------+------+--------+--------------+--------------+------+"
      ]
     },
     "execution_count": 9,
     "metadata": {},
     "output_type": "execute_result"
    }
   ],
   "source": [
    "pUG35.list_features()"
   ]
  },
  {
   "cell_type": "markdown",
   "metadata": {},
   "source": [
    "We extract the GFP sequence from Feature #5. The GFP gene is on the antisense strand, but it is returned in the correct orientation:"
   ]
  },
  {
   "cell_type": "code",
   "execution_count": 10,
   "metadata": {
    "collapsed": true
   },
   "outputs": [],
   "source": [
    "gfp=pUG35.extract_feature(5)"
   ]
  },
  {
   "cell_type": "code",
   "execution_count": 11,
   "metadata": {
    "collapsed": false
   },
   "outputs": [
    {
     "data": {
      "text/plain": [
       "Dseq(-717)\n",
       "ATGT..ATAA\n",
       "TACA..TATT"
      ]
     },
     "execution_count": 11,
     "metadata": {},
     "output_type": "execute_result"
    }
   ],
   "source": [
    "gfp.seq"
   ]
  },
  {
   "cell_type": "code",
   "execution_count": 12,
   "metadata": {
    "collapsed": false
   },
   "outputs": [
    {
     "data": {
      "text/plain": [
       "True"
      ]
     },
     "execution_count": 12,
     "metadata": {},
     "output_type": "execute_result"
    }
   ],
   "source": [
    "gfp.isorf()"
   ]
  },
  {
   "cell_type": "markdown",
   "metadata": {},
   "source": [
    "We need to linearize p426GPD vector before the assembly. The [SmaI](http://rebase.neb.com/rebase/enz/SmaI.html) restriction enzyme cuts between the promoter and the terminator. "
   ]
  },
  {
   "cell_type": "code",
   "execution_count": 13,
   "metadata": {
    "collapsed": true
   },
   "outputs": [],
   "source": [
    "from Bio.Restriction import SmaI"
   ]
  },
  {
   "cell_type": "code",
   "execution_count": 14,
   "metadata": {
    "collapsed": false
   },
   "outputs": [],
   "source": [
    "linear_vector= p426GPD.linearize(SmaI)"
   ]
  },
  {
   "cell_type": "code",
   "execution_count": 15,
   "metadata": {
    "collapsed": false
   },
   "outputs": [
    {
     "data": {
      "text/plain": [
       "Dseqrecord(-6606)"
      ]
     },
     "execution_count": 15,
     "metadata": {},
     "output_type": "execute_result"
    }
   ],
   "source": [
    "linear_vector"
   ]
  },
  {
   "cell_type": "code",
   "execution_count": 16,
   "metadata": {
    "collapsed": true
   },
   "outputs": [],
   "source": [
    "from pydna.design import primer_design"
   ]
  },
  {
   "cell_type": "markdown",
   "metadata": {},
   "source": [
    "We will amplify mosrt of the fragments using PCR, so we have to design primers first."
   ]
  },
  {
   "cell_type": "code",
   "execution_count": 17,
   "metadata": {
    "collapsed": true
   },
   "outputs": [],
   "source": [
    "cyc1_amplicon = primer_design(cyc1)"
   ]
  },
  {
   "cell_type": "markdown",
   "metadata": {},
   "source": [
    "The primer_design function returns an Amplicon object which describes a PCR amplification:"
   ]
  },
  {
   "cell_type": "code",
   "execution_count": 18,
   "metadata": {
    "collapsed": false
   },
   "outputs": [
    {
     "data": {
      "text/plain": [
       "5ATGACTGAATTCAAGGC...GAAAAAAGCCTGTGAGTAA3\n",
       "                     ||||||||||||||||||| tm 51.4 (dbd) 56.3\n",
       "                    3CTTTTTTCGGACACTCATT5\n",
       "5ATGACTGAATTCAAGGC3\n",
       " ||||||||||||||||| tm 50.2 (dbd) 55.0\n",
       "3TACTGACTTAAGTTCCG...CTTTTTTCGGACACTCATT5"
      ]
     },
     "execution_count": 18,
     "metadata": {},
     "output_type": "execute_result"
    }
   ],
   "source": [
    "cyc1_amplicon.figure()"
   ]
  },
  {
   "cell_type": "code",
   "execution_count": 19,
   "metadata": {
    "collapsed": true
   },
   "outputs": [],
   "source": [
    "gfp_amplicon = primer_design(gfp)"
   ]
  },
  {
   "cell_type": "markdown",
   "metadata": {},
   "source": [
    "Then it is practical to collect all fragments to be assembled in a list or tuple. Note that below, the linear_vector appears both in the beginning and at the end. We do this since we would like to have a circular assembly."
   ]
  },
  {
   "cell_type": "code",
   "execution_count": 20,
   "metadata": {
    "collapsed": false
   },
   "outputs": [],
   "source": [
    "fragments = ( linear_vector, cyc1_amplicon, gfp_amplicon, linear_vector )"
   ]
  },
  {
   "cell_type": "markdown",
   "metadata": {},
   "source": [
    "We would like to have a unique cutting enzyme befor the cyc1 gene, so we should try to find some that dont cut:"
   ]
  },
  {
   "cell_type": "code",
   "execution_count": 21,
   "metadata": {
    "collapsed": true
   },
   "outputs": [],
   "source": [
    "from Bio.Restriction import BamHI"
   ]
  },
  {
   "cell_type": "code",
   "execution_count": 22,
   "metadata": {
    "collapsed": false
   },
   "outputs": [
    {
     "name": "stdout",
     "output_type": "stream",
     "text": [
      "cuts!\n"
     ]
    }
   ],
   "source": [
    "if not any( x.cut(BamHI) for x in fragments ):\n",
    "    print(\"no cut!\")\n",
    "else:\n",
    "    print(\"cuts!\")"
   ]
  },
  {
   "cell_type": "code",
   "execution_count": 23,
   "metadata": {
    "collapsed": true
   },
   "outputs": [],
   "source": [
    "from Bio.Restriction import NotI"
   ]
  },
  {
   "cell_type": "markdown",
   "metadata": {},
   "source": [
    "BamHI apparently cuts, lets try with NotI "
   ]
  },
  {
   "cell_type": "code",
   "execution_count": 24,
   "metadata": {
    "collapsed": false
   },
   "outputs": [
    {
     "name": "stdout",
     "output_type": "stream",
     "text": [
      "no cut!\n"
     ]
    }
   ],
   "source": [
    "if not any( x.cut(NotI) for x in fragments ):\n",
    "    print(\"no cut!\")\n",
    "else:\n",
    "    print(\"cuts!\")"
   ]
  },
  {
   "cell_type": "markdown",
   "metadata": {},
   "source": [
    "NotI does not cut, lets use this!"
   ]
  },
  {
   "cell_type": "code",
   "execution_count": 25,
   "metadata": {
    "collapsed": true
   },
   "outputs": [],
   "source": [
    "from pydna.dseqrecord import Dseqrecord"
   ]
  },
  {
   "cell_type": "code",
   "execution_count": 26,
   "metadata": {
    "collapsed": true
   },
   "outputs": [],
   "source": [
    "site = Dseqrecord(NotI.site)"
   ]
  },
  {
   "cell_type": "code",
   "execution_count": 27,
   "metadata": {
    "collapsed": false
   },
   "outputs": [
    {
     "data": {
      "text/plain": [
       "Dseq(-8)\n",
       "GCGGCCGC\n",
       "CGCCGGCG"
      ]
     },
     "execution_count": 27,
     "metadata": {},
     "output_type": "execute_result"
    }
   ],
   "source": [
    "site.seq"
   ]
  },
  {
   "cell_type": "code",
   "execution_count": 28,
   "metadata": {
    "collapsed": true
   },
   "outputs": [],
   "source": [
    "from pydna.design import assembly_fragments"
   ]
  },
  {
   "cell_type": "code",
   "execution_count": 29,
   "metadata": {
    "collapsed": true
   },
   "outputs": [],
   "source": [
    "linear_vector.locus = \"p426GPD\"\n",
    "cyc1_amplicon.locus = \"CYC1\"\n",
    "gfp_amplicon.locus = \"GFP\""
   ]
  },
  {
   "cell_type": "code",
   "execution_count": 30,
   "metadata": {
    "collapsed": false
   },
   "outputs": [],
   "source": [
    "fragment_list = assembly_fragments((linear_vector, site, cyc1_amplicon,gfp_amplicon,linear_vector))"
   ]
  },
  {
   "cell_type": "code",
   "execution_count": 31,
   "metadata": {
    "collapsed": false
   },
   "outputs": [
    {
     "data": {
      "text/plain": [
       "[Dseqrecord(-6606), Amplicon(391), Amplicon(770), Dseqrecord(-6606)]"
      ]
     },
     "execution_count": 31,
     "metadata": {},
     "output_type": "execute_result"
    }
   ],
   "source": [
    "fragment_list"
   ]
  },
  {
   "cell_type": "markdown",
   "metadata": {},
   "source": [
    "We note that the amplicons are now a little bit larger than before. The assembly_fragments function basically adds tails to the primers of amplicon objects to facilitate the assembly. The NotI site is small ,so it was incorporated in the formward PCR primer of the CYC1 Amplicon. We can see that the CYC1 primers are quite a bit longer:"
   ]
  },
  {
   "cell_type": "code",
   "execution_count": 32,
   "metadata": {
    "collapsed": false
   },
   "outputs": [
    {
     "data": {
      "text/plain": [
       "                                           5ATGACTGAATTCAAGGC...GAAAAAAGCCTGTGAGTAA3\n",
       "                                                                ||||||||||||||||||| tm 51.4 (dbd) 56.3\n",
       "                                                               3CTTTTTTCGGACACTCATTTACAGATTTCCACTTCTT5\n",
       "5TAGTTTCGACGGATTCTAGAACTAGTGGATCCCCCGCGGCCGCATGACTGAATTCAAGGC3\n",
       "                                            ||||||||||||||||| tm 50.2 (dbd) 55.0\n",
       "                                           3TACTGACTTAAGTTCCG...CTTTTTTCGGACACTCATT5"
      ]
     },
     "execution_count": 32,
     "metadata": {},
     "output_type": "execute_result"
    }
   ],
   "source": [
    "fragment_list[1].figure()"
   ]
  },
  {
   "cell_type": "markdown",
   "metadata": {},
   "source": [
    "Finally, we assemble the fragments using the Assembly class"
   ]
  },
  {
   "cell_type": "code",
   "execution_count": 33,
   "metadata": {
    "collapsed": true
   },
   "outputs": [],
   "source": [
    "from pydna.assembly import Assembly"
   ]
  },
  {
   "cell_type": "markdown",
   "metadata": {
    "collapsed": true
   },
   "source": [
    "We remove the final fragment, since we want a circular fragment. "
   ]
  },
  {
   "cell_type": "code",
   "execution_count": 34,
   "metadata": {
    "collapsed": true
   },
   "outputs": [],
   "source": [
    "fragment_list = fragment_list[:-1]"
   ]
  },
  {
   "cell_type": "code",
   "execution_count": 35,
   "metadata": {
    "collapsed": false
   },
   "outputs": [
    {
     "data": {
      "text/plain": [
       "[Dseqrecord(-6606), Amplicon(391), Amplicon(770)]"
      ]
     },
     "execution_count": 35,
     "metadata": {},
     "output_type": "execute_result"
    }
   ],
   "source": [
    "fragment_list"
   ]
  },
  {
   "cell_type": "code",
   "execution_count": 36,
   "metadata": {
    "collapsed": true
   },
   "outputs": [],
   "source": [
    "asm = Assembly(fragment_list)"
   ]
  },
  {
   "cell_type": "code",
   "execution_count": 37,
   "metadata": {
    "collapsed": false
   },
   "outputs": [
    {
     "data": {
      "text/plain": [
       "Assembly:\n",
       "Sequences........................: [6606] [391] [770]\n",
       "Sequences with shared homologies.: [6606] [391] [770]\n",
       "Homology limit (bp)..............: 25\n",
       "Number of overlaps...............: 3\n",
       "Nodes in graph(incl. 5' & 3')....: 5\n",
       "Only terminal overlaps...........: No\n",
       "Circular products................: [7661]\n",
       "Linear products..................: [7697] [7696] [7696] [7341] [6962] [1125] [36] [35] [35]"
      ]
     },
     "execution_count": 37,
     "metadata": {},
     "output_type": "execute_result"
    }
   ],
   "source": [
    "asm"
   ]
  },
  {
   "cell_type": "code",
   "execution_count": 38,
   "metadata": {
    "collapsed": false
   },
   "outputs": [],
   "source": [
    "candidate = asm.circular_products[0]"
   ]
  },
  {
   "cell_type": "code",
   "execution_count": 39,
   "metadata": {
    "collapsed": false
   },
   "outputs": [
    {
     "data": {
      "text/html": [
       "<pre> -|p426GPD|35\n",
       "|          \\/\n",
       "|          /\\\n",
       "|          35|391bp_PCR_prod|36\n",
       "|                            \\/\n",
       "|                            /\\\n",
       "|                            36|770bp_PCR_prod|35\n",
       "|                                              \\/\n",
       "|                                              /\\\n",
       "|                                              35-\n",
       "|                                                 |\n",
       " -------------------------------------------------</pre>"
      ],
      "text/plain": [
       "Contig(o7661)"
      ]
     },
     "execution_count": 39,
     "metadata": {},
     "output_type": "execute_result"
    }
   ],
   "source": [
    "candidate"
   ]
  },
  {
   "cell_type": "code",
   "execution_count": 40,
   "metadata": {
    "collapsed": true
   },
   "outputs": [],
   "source": [
    "p426GPD_CYC1_GFP = candidate"
   ]
  },
  {
   "cell_type": "code",
   "execution_count": 41,
   "metadata": {
    "collapsed": false
   },
   "outputs": [
    {
     "data": {
      "text/html": [
       "<font face=monospace><a href='p426GPD_CYC1_GFP.gb' target='_blank'>p426GPD_CYC1_GFP.gb</a></font><br>"
      ]
     },
     "metadata": {},
     "output_type": "display_data"
    }
   ],
   "source": [
    "p426GPD_CYC1_GFP.write(\"p426GPD_CYC1_GFP.gb\")"
   ]
  },
  {
   "cell_type": "code",
   "execution_count": 42,
   "metadata": {
    "collapsed": true
   },
   "outputs": [],
   "source": [
    "from pydna.amplicon import Amplicon"
   ]
  },
  {
   "cell_type": "code",
   "execution_count": 43,
   "metadata": {
    "collapsed": false
   },
   "outputs": [],
   "source": [
    "amplicons1 = [x for x in fragment_list if isinstance(x, Amplicon)]"
   ]
  },
  {
   "cell_type": "code",
   "execution_count": 44,
   "metadata": {
    "collapsed": false
   },
   "outputs": [
    {
     "data": {
      "text/plain": [
       "[Amplicon(391), Amplicon(770)]"
      ]
     },
     "execution_count": 44,
     "metadata": {},
     "output_type": "execute_result"
    }
   ],
   "source": [
    "amplicons1"
   ]
  },
  {
   "cell_type": "code",
   "execution_count": 45,
   "metadata": {
    "collapsed": false
   },
   "outputs": [],
   "source": [
    "# Get forward and reverse primer for each Amplicon\n",
    "primers1 = [(y.forward_primer, y.reverse_primer) for y in amplicons1]"
   ]
  },
  {
   "cell_type": "code",
   "execution_count": 46,
   "metadata": {
    "collapsed": false
   },
   "outputs": [
    {
     "name": "stdout",
     "output_type": "stream",
     "text": [
      ">fw330 CYC1\n",
      "TAGTTTCGACGGATTCTAGAACTAGTGGATCCCCCGCGGCCGCATGACTGAATTCAAGGC\n",
      "\n",
      ">rv330 CYC1\n",
      "TTCTTCACCTTTAGACATTTACTCACAGGCTTTTTTC\n",
      "\n",
      "\n",
      ">fw717 AF298787.1_rc\n",
      "AAAAAAGCCTGTGAGTAAATGTCTAAAGGTGAAGAATTATT\n",
      "\n",
      ">rv717 AF298787.1_rc\n",
      "GTATCGATAAGCTTGATATCGAATTCCTGCAGCCCTTATTTGTACAATTCATCCATAC\n",
      "\n",
      "\n"
     ]
    }
   ],
   "source": [
    "# print primer pairs:\n",
    "for pair in primers1:\n",
    "    print(pair[0].format(\"fasta\"))\n",
    "    print(pair[1].format(\"fasta\"))\n",
    "    print()"
   ]
  }
 ],
 "metadata": {
  "anaconda-cloud": {},
  "kernelspec": {
   "display_name": "Python 3",
   "language": "python",
   "name": "python3"
  },
  "language_info": {
   "codemirror_mode": {
    "name": "ipython",
    "version": 3
   },
   "file_extension": ".py",
   "mimetype": "text/x-python",
   "name": "python",
   "nbconvert_exporter": "python",
   "pygments_lexer": "ipython3",
   "version": "3.5.2"
  }
 },
 "nbformat": 4,
 "nbformat_minor": 0
}
