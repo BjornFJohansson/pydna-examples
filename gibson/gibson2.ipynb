{
 "cells": [
  {
   "cell_type": "code",
   "execution_count": 1,
   "metadata": {
    "collapsed": true
   },
   "outputs": [],
   "source": [
    "from pydna.parsers import parse\n",
    "\n",
    "seqs = parse(\n",
    "'''\n",
    ">random sequence 1 consisting of 100 bases.\n",
    "agaaacgaatctctgtccccaccaactgtctcaccgatgctgagaatggatgcagcgaat\n",
    "ttcgagccctcgcccgtggtcgagggctgtaacccggaca\n",
    "\n",
    ">random sequence 2 consisting of 100 bases.\n",
    "taactacgttcgcgtgggtctaccaccgaggcagaacaagggtctacgactgaagcataa\n",
    "atttcaagtaggggatgcccccttgtatcccgatgagatt\n",
    "\n",
    ">random sequence 3 consisting of 100 bases.\n",
    "gagtcccgactagtcgcacgttgactaagcggtccgaaatattaagaatacacccttgtg\n",
    "ccgttcagtccgttctttatacggccgcggttgccgtaac\n",
    "\n",
    ">random sequence 4 consisting of 100 bases.\n",
    "ccttaagttgtggaccctactagcttggttccatatcgtacgctcatgatttgtgtctgg\n",
    "atactctctggcctcgtgcagtgtatagcttatagcataa\n",
    "\n",
    ">random sequence 5 consisting of 100 bases.\n",
    "tcccgtttatacgttgttataccgcccggtgcagctagtcgcgggtgctagatgaatcgg\n",
    "cgtagataaagaggccataattgatcccatcctctaggac\n",
    "\n",
    ">random sequence 6 consisting of 100 bases.\n",
    "tgcaatatcgttctgttggtccgttggatatgattgatcttaagctgcccgggagcaaat\n",
    "cttaaacctattgcgaataactttggaggagtggtaggag\n",
    "\n",
    ">random sequence 7 consisting of 100 bases.\n",
    "ggatccatgtgtacatgctagtcggtacttcactatgcgtgttacctgacaaacgcacaa\n",
    "gtatctctacgctgacgactcatgaactgacacggcaatt\n",
    "\n",
    ">random sequence 8 consisting of 100 bases.\n",
    "taagtttaagacgtagttggacagtacgagttggcgcctccggaagtggtgcttcgcatg\n",
    "aaagtagacacacgctaaggaggaagcccctgatacatac\n",
    "\n",
    ">random sequence 9 consisting of 100 bases.\n",
    "cagttattagcggcctgagattcaacaagagcgacgccgcgcggtggtatataggattcc\n",
    "gcgaactttcagcgttggttaaggtgcgacggaaggggat\n",
    "\n",
    ">random sequence 10 consisting of 100 bases.\n",
    "aagcacaatagctcctacatatttcttacccggatcgggcgttaaggaggcaggtcgtat\n",
    "aggtttgcctgaagtgcgaagacaacctgctagacacact\n",
    "\n",
    "''')"
   ]
  },
  {
   "cell_type": "code",
   "execution_count": 2,
   "metadata": {
    "collapsed": true
   },
   "outputs": [],
   "source": [
    "from pydna.design import primer_design\n",
    "\n",
    "prods = [primer_design(s) for s in seqs]\n",
    "\n",
    "s1,s2,s3,s4,s5,s6,s7,s8,s9,s10 = seqs\n",
    "\n",
    "a1,a2,a3,a4,a5,a6,a7,a8,a9,a10 = prods\n",
    "\n",
    "assembled = \"\".join(str(s.seq) for s in seqs)"
   ]
  },
  {
   "cell_type": "code",
   "execution_count": 3,
   "metadata": {
    "collapsed": false
   },
   "outputs": [],
   "source": [
    "from pydna.design import assembly_fragments\n",
    "\n",
    "frags1 = assembly_fragments(prods)\n",
    "\n",
    "frags2 = assembly_fragments((a1,s2,a3,s4,a5,s6,a7,s8,a9,s10))\n",
    "\n",
    "frags3 = assembly_fragments((s1,a2,s3,a4,s5,a6,s7,a8,s9,a10))"
   ]
  },
  {
   "cell_type": "code",
   "execution_count": 4,
   "metadata": {
    "collapsed": true
   },
   "outputs": [],
   "source": [
    "from pydna.assembly import Assembly\n",
    "\n",
    "# Three different linear assemblies giving the same resulting sequence\n",
    "\n",
    "asm1 = Assembly(frags1)\n",
    "assert str(asm1.linear_products[0].seq)==assembled\n",
    "\n",
    "asm2 = Assembly(frags2)\n",
    "assert str(asm2.linear_products[0].seq)==assembled\n",
    "\n",
    "asm3 = Assembly(frags3)\n",
    "assert str(asm3.linear_products[0].seq)==assembled"
   ]
  },
  {
   "cell_type": "code",
   "execution_count": 5,
   "metadata": {
    "collapsed": false
   },
   "outputs": [
    {
     "name": "stdout",
     "output_type": "stream",
     "text": [
      ">fw100 random\n",
      "agaaacgaatctctgtcc\n",
      "\n",
      ">rv100 random\n",
      "cccacgcgaacgtagttatgtccgggttacagc\n",
      "\n",
      "\n",
      ">fw100 random\n",
      "agggctgtaacccggacataactacgttcgcgtg\n",
      "\n",
      ">rv100 random\n",
      "tgcgactagtcgggactcaatctcatcgggatacaa\n",
      "\n",
      "\n",
      ">fw100 random\n",
      "ttgtatcccgatgagattgagtcccgactagtcg\n",
      "\n",
      ">rv100 random\n",
      "agggtccacaacttaagggttacggcaaccgc\n",
      "\n",
      "\n",
      ">fw100 random\n",
      "ggccgcggttgccgtaacccttaagttgtggaccc\n",
      "\n",
      ">rv100 random\n",
      "aacaacgtataaacgggattatgctataagctatacactgca\n",
      "\n",
      "\n",
      ">fw100 random\n",
      "gtatagcttatagcataatcccgtttatacgttgt\n",
      "\n",
      ">rv100 random\n",
      "caacagaacgatattgcagtcctagaggatgggatc\n",
      "\n",
      "\n",
      ">fw100 random\n",
      "gatcccatcctctaggactgcaatatcgttctgttg\n",
      "\n",
      ">rv100 random\n",
      "gcatgtacacatggatccctcctaccactcctccaa\n",
      "\n",
      "\n",
      ">fw100 random\n",
      "ttggaggagtggtaggagggatccatgtgtacatg\n",
      "\n",
      ">rv100 random\n",
      "aactacgtcttaaacttaaattgccgtgtcagt\n",
      "\n",
      "\n",
      ">fw100 random\n",
      "tgaactgacacggcaatttaagtttaagacgtagttggac\n",
      "\n",
      ">rv100 random\n",
      "tcaggccgctaataactggtatgtatcaggggcttc\n",
      "\n",
      "\n",
      ">fw100 random\n",
      "gaagcccctgatacataccagttattagcggcct\n",
      "\n",
      ">rv100 random\n",
      "gtaggagctattgtgcttatccccttccgtcg\n",
      "\n",
      "\n",
      ">fw100 random\n",
      "ggtgcgacggaaggggataagcacaatagctcctaca\n",
      "\n",
      ">rv100 random\n",
      "agtgtgtctagcaggttgtc\n",
      "\n",
      "\n"
     ]
    }
   ],
   "source": [
    "from pydna.amplicon import Amplicon\n",
    "\n",
    "# how to get the primers:\n",
    "\n",
    "# Get the fragments that are Amplicons\n",
    "amplicons1 = [x for x in frags1 if isinstance(x, Amplicon)]\n",
    "\n",
    "# Get forward and reverse primer for each Amplicon\n",
    "primers1 = [(y.forward_primer, y.reverse_primer) for y in amplicons1]\n",
    "\n",
    "# print primers for asm1\n",
    "for pair in primers1:\n",
    "    print(pair[0].format(\"fasta\"))\n",
    "    print(pair[1].format(\"fasta\"))\n",
    "    print()"
   ]
  }
 ],
 "metadata": {
  "anaconda-cloud": {},
  "kernelspec": {
   "display_name": "Python 3",
   "language": "python",
   "name": "python3"
  },
  "language_info": {
   "codemirror_mode": {
    "name": "ipython",
    "version": 3
   },
   "file_extension": ".py",
   "mimetype": "text/x-python",
   "name": "python",
   "nbconvert_exporter": "python",
   "pygments_lexer": "ipython3",
   "version": "3.5.2"
  }
 },
 "nbformat": 4,
 "nbformat_minor": 0
}
