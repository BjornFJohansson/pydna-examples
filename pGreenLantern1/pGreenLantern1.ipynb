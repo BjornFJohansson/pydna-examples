{
 "cells": [
  {
   "cell_type": "markdown",
   "metadata": {
    "nbpresent": {
     "id": "0bdf3888-df85-4b90-92ad-29d96cbe5ab2"
    }
   },
   "source": [
    "# Assembly of the pGREEN LANTERN™-1 sequence\n",
    "\n",
    "pGreen Lantern-1 is a plasmid expressing humanized GFP from a [CMV](http://blog.addgene.org/plasmids-101-the-promoter-region) promoter. This plasmid can be used [monitor transfection](https://tools.thermofisher.com/Content/Focus/Focus%20Volume%2018%20Issue%202.pdf) of human cells for example.\n",
    "\n",
    "This plasmid was marketed by Gibco under the catalog number 10642. Gibco merged into Life Technologies which was later bought by Thermo Fisher Scientific and the plasmid is no longer available commercially.\n",
    "\n",
    "Unfortunately this means that the plasmid sequence is also unavailable.\n",
    "\n",
    "There was a [recent exchange](https://groups.google.com/forum/#!topic/bionet.molbio.methds-reagnts/_oeYALCz6_U) on the bionet.molbio.methds-reagnts newsgroup where the sequence was requested.\n",
    "\n",
    "On of the [posts](https://groups.google.com/forum/#!topic/bionet.molbio.methds-reagnts/b43z7j5_Qzo) by Dr. Barbara MacGregor, University of North Carolina contained a compilation that could be used in order to compile the sequence.\n",
    "\n",
    "The post by Dr. MacGregor lists three sources:\n",
    "\n",
    "1. <a id='1'></a> [Life Technologies Focus 96, Vol. 18, Number 2](https://tools.thermofisher.com/Content/Focus/Focus%20Volume%2018%20Issue%202.pdf)  \n",
    "\n",
    "2. <a id='2'></a>The original reference: [Zolotukhin et al. (1996) J. Virol. 70:4646-4654](https://www.ncbi.nlm.nih.gov/pmc/articles/PMC190401) \n",
    "\n",
    "3. <a id='3'></a>The gfp sequence used deposited in GenBank under [U50963](https://www.ncbi.nlm.nih.gov/nuccore/1289497/) \n",
    "\n",
    "4. <a id='4'></a>[US6638732B1 Mutants of Green Fluorescent Protein](https://patents.google.com/patent/US6638732B1/en) \n",
    "\n",
    "The a reference to [#3](#3) is also made in [#2](#2) so this should be correct. Additionally there is a patent (#4) where the pGreen Lantern-1 is mentioned.\n",
    "\n",
    "The original reference ([#2](#2)) can be seen below:"
   ]
  },
  {
   "cell_type": "code",
   "execution_count": 1,
   "metadata": {
    "collapsed": false,
    "nbpresent": {
     "id": "bbea7223-d974-4485-b911-179ada7c39ed"
    }
   },
   "outputs": [
    {
     "data": {
      "text/html": [
       "<iframe src=https://www.ncbi.nlm.nih.gov/pmc/articles/PMC190401 width=900 height=300></iframe>"
      ],
      "text/plain": [
       "<IPython.core.display.HTML object>"
      ]
     },
     "execution_count": 1,
     "metadata": {},
     "output_type": "execute_result"
    }
   ],
   "source": [
    "from IPython.display import HTML\n",
    "HTML('<iframe src=https://www.ncbi.nlm.nih.gov/pmc/articles/PMC190401 width=900 height=300></iframe>')"
   ]
  },
  {
   "cell_type": "markdown",
   "metadata": {
    "nbpresent": {
     "id": "0ca47ec7-6a1a-4c56-878a-d3255b41dd2f"
    }
   },
   "source": [
    "The paragraph below was lifted from [#2](#2) and describes how the humanized gene(s) were made with a series of overlapping oligonucelotides. Two primers are described that were used to amplify the synthetic gene in order to clone it in the pBS vector. We can assume that the GFP sequence is identical to [#3](#3). The final product is the pBS_GFPH1 vector.\n",
    "\n",
    "\n",
    ">**Synthesis of the gfph cDNA.** The gfph cDNA was synthesized by assembling mutually priming synthetic oligonucleotides (Fig. 1). The gene was divided into eight segments of approximately equal length, and four pairs of oligonucleotides were synthesized, each pair consisting of two overlapping oligonucleotides with a short stretch of overlap (underlined in Fig. 1), one coding for the sense strand and the other coding for the antisense strand. After annealing and extension with Sequenase, pairs 1 and 2 were digested with EaeI, whereas pairs 3 and 4 were digested with BamHI. The digested products were then ligated in two separate reactions: pairs 1 and 2 and pairs 3 and 4. Ligation products of the desired length were purified on a 5% polyacrylamide gel under nondenaturing conditions. Both DNA fragments were then digested with EcoRII and ligated to each other. The final product was amplified by PCR, using a pair of oligonucleotides partially complementary to the gfph cDNA (boldface in the sequences presented below) and containing the restriction sites NotI, XbaI, and HindIII (underlined in the sequences presented below) for cloning. The sequence of the upstream primer, which included a Kozak consensus sequence (18), was 59-TGCTCTAGAGCG GCCGCCGCCACCATGAGCAAGGGCGAGGAACTG-39; the downstream primer sequence was 59-CGGAAGCTTGCGGCCGCTCACTTGTACAGCTCGTCCAT- 39. After digestion of the PCR product with XbaI and HindIII, the DNA fragment was cloned into pBS(1) (Stratagene) and sequenced. Several independent clones were isolated and sequenced. These clones had mutations in the coding sequence which presumably either occurred during PCR amplification or were present in the oligonucleotides. Portions of these clones were then spliced together to produce the final gfph gene that encoded a wild-type amino acid sequence. The resulting construct, designated pBS-GFPH1, contained the coding sequence for wild-type GFP. Two mutants were constructed in the pBS-GFPH background by site-directed PCR mutagenesis. One of these converted Ser-65 to Thr and was called pBS-GFPH2; the other converted Tyr-66 to His and was called pBSGFPHB.\n",
    "\n",
    "\n",
    "[pydna](https://github.com/BjornFJohansson/pydna) is used to describe the cloning process."
   ]
  },
  {
   "cell_type": "code",
   "execution_count": 2,
   "metadata": {
    "collapsed": false,
    "nbpresent": {
     "id": "16fcd0d5-c19f-4c77-b62c-46a9e0ae4158"
    }
   },
   "outputs": [],
   "source": [
    "from pydna.genbank import Genbank\n",
    "from pydna.parsers import parse_primers\n",
    "from pydna.amplify import pcr\n",
    "from pydna.readers import read\n",
    "from pydna.gel     import Gel"
   ]
  },
  {
   "cell_type": "markdown",
   "metadata": {
    "nbpresent": {
     "id": "6c1c1d63-1f5f-48b4-bf7c-19ce8e4e3cdb"
    }
   },
   "source": [
    "we get the gfp gene from Genbank according to #2"
   ]
  },
  {
   "cell_type": "code",
   "execution_count": 3,
   "metadata": {
    "collapsed": true
   },
   "outputs": [],
   "source": [
    "gb = Genbank(\"bjornjobb@gmail.com\")"
   ]
  },
  {
   "cell_type": "code",
   "execution_count": 4,
   "metadata": {
    "collapsed": false,
    "nbpresent": {
     "id": "7f4bebfc-764f-4873-a40b-c8a7b3c21ed5"
    }
   },
   "outputs": [],
   "source": [
    "humanized_gfp_gene = gb.nucleotide('U50963')"
   ]
  },
  {
   "cell_type": "markdown",
   "metadata": {
    "nbpresent": {
     "id": "5337a332-63ab-43d1-bbb8-cbfec6189434"
    }
   },
   "source": [
    "The upstream and downstream primers were described in #2"
   ]
  },
  {
   "cell_type": "code",
   "execution_count": 5,
   "metadata": {
    "collapsed": true,
    "nbpresent": {
     "id": "40739163-2162-4d14-9f44-755d3897edd1"
    }
   },
   "outputs": [],
   "source": [
    "up, dp = parse_primers('''\n",
    ">upstream_primer\n",
    "TGCTCTAGAGCGGCCGCCGCCACCATGAGCAAGGGCGAGGAACTG\n",
    ">downstream_primer\n",
    "CGGAAGCTTGCGGCCGCTCACTTGTACAGCTCGTCCAT''')"
   ]
  },
  {
   "cell_type": "code",
   "execution_count": 6,
   "metadata": {
    "collapsed": false,
    "nbpresent": {
     "id": "1ca41e0e-a851-455d-91af-83040f3cd669"
    }
   },
   "outputs": [],
   "source": [
    "humanized_gfp_product = pcr(up, dp, humanized_gfp_gene)"
   ]
  },
  {
   "cell_type": "code",
   "execution_count": 7,
   "metadata": {
    "collapsed": false,
    "nbpresent": {
     "id": "28f5032a-48f9-488b-88fb-8df899472b35"
    }
   },
   "outputs": [
    {
     "data": {
      "text/html": [
       "Amplicon(758)"
      ],
      "text/plain": [
       "Amplicon(758)"
      ]
     },
     "execution_count": 7,
     "metadata": {},
     "output_type": "execute_result"
    }
   ],
   "source": [
    "humanized_gfp_product"
   ]
  },
  {
   "cell_type": "code",
   "execution_count": 8,
   "metadata": {
    "collapsed": false,
    "nbpresent": {
     "id": "c5fda9d3-a418-41f7-9057-95be476bb890"
    }
   },
   "outputs": [
    {
     "data": {
      "text/plain": [
       "                        5ATGAGCAAGGGCGAGGAACTG...ATGGACGAGCTGTACAAGTGA3\n",
       "                                                 ||||||||||||||||||||| tm 59.1 (dbd) 64.0\n",
       "                                                3TACCTGCTCGACATGTTCACTCGCCGGCGTTCGAAGGC5\n",
       "5TGCTCTAGAGCGGCCGCCGCCACCATGAGCAAGGGCGAGGAACTG3\n",
       "                         ||||||||||||||||||||| tm 62.7 (dbd) 71.1\n",
       "                        3TACTCGTTCCCGCTCCTTGAC...TACCTGCTCGACATGTTCACT5"
      ]
     },
     "execution_count": 8,
     "metadata": {},
     "output_type": "execute_result"
    }
   ],
   "source": [
    "humanized_gfp_product.figure()"
   ]
  },
  {
   "cell_type": "markdown",
   "metadata": {
    "nbpresent": {
     "id": "9548115d-b452-4fbe-b059-78427e28b463"
    }
   },
   "source": [
    "The PCR product contain the entire GFP coding sequence as expected. The PCR product was digested with [XbaI](http://rebase.neb.com/rebase/enz/XbaI.html) and [HindIII](http://rebase.neb.com/rebase/enz/HindIII.html).\n",
    "\n",
    "We import the restriction enzymes from [BioPython](http://biopython.org/wiki/Biopython):"
   ]
  },
  {
   "cell_type": "code",
   "execution_count": 9,
   "metadata": {
    "collapsed": true,
    "nbpresent": {
     "id": "50497459-f847-4f8f-b733-c9a4f165680d"
    }
   },
   "outputs": [],
   "source": [
    "from Bio.Restriction import XbaI, HindIII"
   ]
  },
  {
   "cell_type": "code",
   "execution_count": 10,
   "metadata": {
    "collapsed": false,
    "nbpresent": {
     "id": "00975e7b-111f-4e34-9477-1ec385db80c9"
    }
   },
   "outputs": [],
   "source": [
    "stuffer, gene_fragment, stuffer = humanized_gfp_product.cut(XbaI, HindIII)"
   ]
  },
  {
   "cell_type": "code",
   "execution_count": 11,
   "metadata": {
    "collapsed": false,
    "nbpresent": {
     "id": "f5fdf8a1-f810-4899-adbb-bbdd64931ae0"
    }
   },
   "outputs": [
    {
     "data": {
      "text/plain": [
       "Dseqrecord(-750)"
      ]
     },
     "execution_count": 11,
     "metadata": {},
     "output_type": "execute_result"
    }
   ],
   "source": [
    "gene_fragment"
   ]
  },
  {
   "cell_type": "markdown",
   "metadata": {
    "nbpresent": {
     "id": "4df77524-c380-4bc5-ad04-537fe99c2334"
    }
   },
   "source": [
    "The gene fragment has the expected size and sticky ends:"
   ]
  },
  {
   "cell_type": "code",
   "execution_count": 12,
   "metadata": {
    "collapsed": false,
    "nbpresent": {
     "id": "55619171-33c2-4596-9c7a-4e976df77daa"
    }
   },
   "outputs": [
    {
     "data": {
      "text/plain": [
       "Dseq(-750)\n",
       "CTAGAGCG..CGCA    \n",
       "    TCGC..GCGTTCGA"
      ]
     },
     "execution_count": 12,
     "metadata": {},
     "output_type": "execute_result"
    }
   ],
   "source": [
    "gene_fragment.seq"
   ]
  },
  {
   "cell_type": "markdown",
   "metadata": {
    "nbpresent": {
     "id": "a5356241-3a21-4cf8-914e-2209a254b0b7"
    }
   },
   "source": [
    "The pBS(+) plasmid is also known as [BlueScribe](https://www.snapgene.com/resources/plasmid_files/basic_cloning_vectors/pBS(+) which is available from Genbank under L08783."
   ]
  },
  {
   "cell_type": "code",
   "execution_count": 13,
   "metadata": {
    "collapsed": false,
    "nbpresent": {
     "id": "c97210ea-c66a-4a42-b2cc-e9a975e14644"
    }
   },
   "outputs": [],
   "source": [
    "pBSplus = gb.nucleotide(\"L08783\")"
   ]
  },
  {
   "cell_type": "code",
   "execution_count": 14,
   "metadata": {
    "collapsed": false,
    "nbpresent": {
     "id": "964cb20f-1904-4ede-bfe5-b30554dc88de"
    }
   },
   "outputs": [],
   "source": [
    "pBS_lin, stuffer = pBSplus.cut(XbaI, HindIII)"
   ]
  },
  {
   "cell_type": "markdown",
   "metadata": {
    "nbpresent": {
     "id": "4ba73f9e-8ec2-4c1a-bc87-990c13de2999"
    }
   },
   "source": [
    "A small stuffer fragment is lost upon digestion:"
   ]
  },
  {
   "cell_type": "code",
   "execution_count": 15,
   "metadata": {
    "collapsed": false,
    "nbpresent": {
     "id": "762ae7ef-40e5-4300-a5e3-de3dee71a3c0"
    }
   },
   "outputs": [
    {
     "data": {
      "text/plain": [
       "(Dseqrecord(-3184), Dseqrecord(-28))"
      ]
     },
     "execution_count": 15,
     "metadata": {},
     "output_type": "execute_result"
    }
   ],
   "source": [
    "pBS_lin, stuffer"
   ]
  },
  {
   "cell_type": "code",
   "execution_count": 16,
   "metadata": {
    "collapsed": false,
    "nbpresent": {
     "id": "f28ee000-0c13-487e-8ad1-338c9a435914"
    }
   },
   "outputs": [],
   "source": [
    "pBS_GFPH1 = (pBS_lin+gene_fragment).looped()"
   ]
  },
  {
   "cell_type": "markdown",
   "metadata": {
    "nbpresent": {
     "id": "19e2cac1-420a-40f3-a52f-fbaef27ed7e4"
    }
   },
   "source": [
    "The pBS_GFPH1 plasmid is 3926 bp long"
   ]
  },
  {
   "cell_type": "code",
   "execution_count": 17,
   "metadata": {
    "collapsed": false,
    "nbpresent": {
     "id": "3ee33903-2f38-49e9-b57f-06f98c54a25a"
    }
   },
   "outputs": [
    {
     "data": {
      "text/plain": [
       "Dseqrecord(o3926)"
      ]
     },
     "execution_count": 17,
     "metadata": {},
     "output_type": "execute_result"
    }
   ],
   "source": [
    "pBS_GFPH1"
   ]
  },
  {
   "cell_type": "markdown",
   "metadata": {
    "nbpresent": {
     "id": "71e695ba-b8ee-4cd2-8234-06ffa06024e5"
    }
   },
   "source": [
    "The second paragraph in the Materials section in [#2](#2) is harder to follow. The first part describes the construction of a vector with wild type GFP which is substituted for the humanized GFP in the end.\n",
    "\n",
    "Plasmids referenced are:\n",
    "1. TU#65\n",
    "2. [pCMVb](https://plasmid.med.harvard.edu/PlasmidRepository/file/sequence/pCMVbeta.txt)\n",
    "3. [pRc/CMV](https://www.addgene.org/vector-database/3907/)\n",
    "4. pTRBR\n",
    "\n",
    "The TU#65 plasmid is described in:\n",
    "\n",
    "Chalfie, M., Y. Tu, G. Euskirchen, W. W. Ward, and D. C. Prasher. 1994.\n",
    "Green fluorescent protein as a marker for gene expression. Science 263:802–\n",
    "805.\n",
    "\n",
    "The paper above says very little about the construction or sequence of the TU#65.\n",
    "\n",
    "The pTRBR plasmid is described in:\n",
    "\n",
    "Ryan, J. H., Zolotukhin, S., and Muzyczka, N. (1996) Sequence requirements for binding of Rep68 to the adeno-associated virus terminal repeats. J. Virol. 70, 1542–1553.\n",
    "\n",
    "The construction of pTRBR has more details, but refer to sequences in older papers.\n",
    "\n",
    "Another problem is that the sequences for PCR primers described below were not given in the publication. This makes is almost impossible to follow the cloning strategy without additional information.\n",
    "\n",
    "What we can say for sure is that the NotI cassette in pBS_GFPH1 containing the humanized GFP is identical to the one in the final pGreen Lantern-1 sequence (see last emphasized text in paragraph below).\n",
    "\n",
    "\n",
    ">**Construction of rAAV vector plasmids.** Briefly, the gfp10 sequence was subcloned into the NotI site of **pCMVb** (Clontech) after digestion of the parent plasmid TU#65 (4) with AgeI and EcoRI, filling in the ends with Klenow DNA polymerase, and adding NotI linkers. \n",
    "\n",
    ">The resulting plasmid, designated **pCMV green**, was then used as a template to amplify in a PCR the transcription cassette containing the cytomegalovirus (CMV) promoter, the simian virus 40 (SV40) intron, the gfp10 cDNA, and the SV40 polyadenylation signal. \n",
    "\n",
    ">The upstream PCR primer complementary to the CMV promoter also included an overhang that contained the BglII, EcoRI, and KpnI sites. \n",
    "\n",
    ">The downstream PCR primer,complementary to the polyadenylation signal, included a SalI site overhang. \n",
    "\n",
    ">The polyadenylation signal of the bovine growth hormone gene was amplified in another PCR using plasmid **pRc/CMV** (Invitrogen) as the template. \n",
    "\n",
    ">The upstream primer in this reaction contained a SalI site overhang, and the downstream primer contained a BglII site. After purification of the PCR products on a 1% agarose gel, the respective fragments were digested with SalI and ligated to each other via the exposed SalI ends. \n",
    "\n",
    ">The ligation product was gel purified and digested with BglII. The 160-bp BglII-PstI fragment, containing the AAV terminal repeat, was isolated by gel purification from plasmid **pTRBR**(1) (30). \n",
    "\n",
    ">This fragment had been subcloned into pTRBR(1) from the previously described plasmid dl3-94 (26). It was then ligated to both ends of the BglII-digested cassette, containing the CMV promoter, SV40 intron, gfp10 cDNA, SV40 poly (A) site, and bovine growth hormone poly(A) site. The ligation product was then cut with PstI and subcloned into plasmid pBS(1) (Stratagene), which had been modified by converting the PvuII sites at positions 766 and 1148 into PstI sites by adding PstI linkers and deleting the internal 382-bp fragment, containing the polylinker region. The resulting plasmid was designated pTRgreen. The neomycin resistance gene (neo) cassette, driven by the herpes simplex virus thymidine kinase gene promoter and the enhancer from polyomavirus, was obtained from plasmid pMClneo (Stratagene) by cutting the plasmid with XhoI, filling in the ends with Klenow DNA polymerase, adding SalI linkers, and digesting with SalI. The DNA fragment containing the neo cassette was gel purified and subcloned into the SalI site of pTRgreen. The resulting construct, pTRBS-UF (UF for user friendly), is depicted in Fig. 2. **To construct pTRBS-UF1, pTRBS-UF2, or pTRBSUFB, we substituted the NotI fragment of pBS-GFPH1 (wild type), pBS-GFPH2 (Thr-65), or pBS-GFPHB (His-66), respectively, for the NotI fragment of pTRBS-UF** (Fig. 2). Any DNA fragment that had undergone PCR amplification was sequenced to confirm the identity of the original sequence."
   ]
  },
  {
   "cell_type": "markdown",
   "metadata": {
    "nbpresent": {
     "id": "b79d87bb-aefd-4fea-9388-09b47a15c806"
    }
   },
   "source": [
    "## 2nd attempt\n",
    "\n",
    "A google search for pGreen Lantern-1 sequence revealed that there is a plasmid deposited at Addgene where the depositors claim that the backbone in pGreen Lantern-1.\n",
    "\n",
    "This plasmid is called [pGL-MLKif3B](https://www.addgene.org/13744/).\n",
    "\n",
    "The construction of this vector is described in:\n",
    "\n",
    "Ginkel, L. M., and Wordeman, L. (2000) Expression and partial characterization of kinesin-related proteins in differentiating and adult skeletal muscle. Mol. Biol. Cell 11, 4143–4158. [here](https://www.ncbi.nlm.nih.gov/pubmed/11102514)\n",
    "\n",
    "The paragraph below was lifted from Ginkel et al.:\n",
    "\n",
    ">***Expression Constructs***The GFP-KIF3B-motorless deletion construct (GFP-KIF3B-ML) was made by modifying GFP-MCAK (Maneyet al., 1998) in pOPRSVI-CAT (Stratagene). Briefly, by using aNdeI site inserted at the junction  of  the  GFP  and  MCAK  coding  regions  by  site-directed  mutagenesis  (QuikChange  site-directed  mutagenesis  kit;  Stratagene), MCAK  was  removed  by NdeI-XhoI  digestion.  Before  making  the GFP-KIF3B-ML,  a  GFP-KIF3B-tail  construct  was  made.  The NdeI/XhoI  fragment  of  KIF3B  used  to  make  the  bacterial  expression construct was inserted into NdeI-XhoI sites of the prepared vector. To make GFP-KIF3B-ML, the incorporated NdeI site was removed and  replaced  with  an  AvrII  site  (QuikChange  site-directed  mutagenesis kit; Stratagene). The fragment of KIF3B corresponding to the coiled-coil plus part of the tail domain (nucleotides 1154 –1888,amino  acids  364 – 609)  was  generated  by  PCR  from  the  isolatedpBluescript II-KIF3B. AvrII and BbsI sites, incorporated into the 59and 39PCR primers, respectively, were used to insert the fragment into  the  AvrII  site  at  the  GFP  junction  and  the  unique  BbsI  site within the tail domain. **The resulting GFP-KIF3B-ML coding region was  removed  from  pOPRSVICAT  with NotI  and  inserted  into pGREEN-LANTERN-1  (Life  Technologies,  Rockville,  MD)  due  to increased expression in C2C12 cells.**\n",
    "\n",
    "The important part is the final one wich indicate that we can recreate the pGreen Lantern-1 sequence by removing the NotI insert and replacing it with the original insert. \n",
    "\n",
    "We know that the NotI insert of pGreen Lantern-1 is the same as for the pBS_GFPH1 vector wich we have. \n",
    "\n",
    "We will use this alternative shortcut to try to recreate the sequence:\n",
    "\n",
    "The pGL-MLKif3B plasmid is difficult to read programatically, here we use the requests and the lxml libraries:"
   ]
  },
  {
   "cell_type": "code",
   "execution_count": 18,
   "metadata": {
    "collapsed": false,
    "nbpresent": {
     "id": "4ac29d5b-42f5-4bd2-b9a9-acb9b2cad9fc"
    }
   },
   "outputs": [],
   "source": [
    "import requests\n",
    "from lxml import html\n",
    "r = requests.get('https://www.addgene.org/13744/sequences/')\n",
    "tree = html.fromstring(r.text)\n",
    "rawdata_addgene_full_sequence = tree.xpath(\".//*[@id='depositor-full']\")\n",
    "pGL_MLKif3B = read( rawdata_addgene_full_sequence[0].text_content() ).looped()\n",
    "rawdata_addgene_partial_sequence = tree.xpath(\".//*[@id='addgene-partial']\")\n",
    "pGL_MLKif3B_partial = read( rawdata_addgene_partial_sequence[0].text_content() )\n",
    "assert len(pGL_MLKif3B) == 6210"
   ]
  },
  {
   "cell_type": "markdown",
   "metadata": {
    "nbpresent": {
     "id": "46e2956d-03b3-4afa-a50f-eebdf742d946"
    }
   },
   "source": [
    "The sequence seems to have the correct size:"
   ]
  },
  {
   "cell_type": "code",
   "execution_count": 19,
   "metadata": {
    "collapsed": false,
    "nbpresent": {
     "id": "f6d6b4eb-3546-4c3b-8da2-966fda9b294f"
    }
   },
   "outputs": [
    {
     "data": {
      "text/plain": [
       "Dseqrecord(o6210)"
      ]
     },
     "execution_count": 19,
     "metadata": {},
     "output_type": "execute_result"
    }
   ],
   "source": [
    "pGL_MLKif3B"
   ]
  },
  {
   "cell_type": "markdown",
   "metadata": {
    "nbpresent": {
     "id": "cc063655-187d-4c9d-9809-3d4030f9757f"
    }
   },
   "source": [
    "We cut out the NotI fragment"
   ]
  },
  {
   "cell_type": "code",
   "execution_count": 20,
   "metadata": {
    "collapsed": true,
    "nbpresent": {
     "id": "b3edca1b-1e2c-4e73-8d90-55b4b73a16b4"
    }
   },
   "outputs": [],
   "source": [
    "from Bio.Restriction import NotI"
   ]
  },
  {
   "cell_type": "code",
   "execution_count": 21,
   "metadata": {
    "collapsed": false,
    "nbpresent": {
     "id": "c7879227-5378-45b0-9f5f-3151dffea4c4"
    }
   },
   "outputs": [],
   "source": [
    "pGL_backbone, Kif3b_GFP = pGL_MLKif3B.cut(NotI)"
   ]
  },
  {
   "cell_type": "markdown",
   "metadata": {
    "nbpresent": {
     "id": "10d7dfa0-6458-40fd-9ac7-068204759730"
    }
   },
   "source": [
    "The remaining backbone sequence is 4304 bp."
   ]
  },
  {
   "cell_type": "code",
   "execution_count": 22,
   "metadata": {
    "collapsed": false,
    "nbpresent": {
     "id": "ea1f80cb-f510-4041-a2f0-47085af8ab06"
    }
   },
   "outputs": [
    {
     "data": {
      "text/plain": [
       "(Dseqrecord(-4304), Dseqrecord(-1914))"
      ]
     },
     "execution_count": 22,
     "metadata": {},
     "output_type": "execute_result"
    }
   ],
   "source": [
    "pGL_backbone, Kif3b_GFP"
   ]
  },
  {
   "cell_type": "markdown",
   "metadata": {
    "nbpresent": {
     "id": "d2edfbf2-5cb6-45c8-ac4c-7ebbe3e3743a"
    }
   },
   "source": [
    "We cut out the NotI GFP cassette from pBS_GFPH1 "
   ]
  },
  {
   "cell_type": "code",
   "execution_count": 23,
   "metadata": {
    "collapsed": false,
    "nbpresent": {
     "id": "cad9558e-3c7f-456a-8420-54d4c0b12f57"
    }
   },
   "outputs": [],
   "source": [
    "pBS_bb, humanized_gfp_NotI_frag = pBS_GFPH1.cut(NotI)"
   ]
  },
  {
   "cell_type": "markdown",
   "metadata": {
    "nbpresent": {
     "id": "d7e07939-df77-4090-a2cb-c62713554157"
    }
   },
   "source": [
    "Then we combine the backbone from pGL_MLKif3B with the insert from pBS_GFPH1"
   ]
  },
  {
   "cell_type": "code",
   "execution_count": 24,
   "metadata": {
    "collapsed": false,
    "nbpresent": {
     "id": "d8c5e241-72d7-46d8-aadb-c0bbfdbd5e22"
    }
   },
   "outputs": [],
   "source": [
    "pGreenLantern1 = (pGL_backbone + humanized_gfp_NotI_frag).looped()"
   ]
  },
  {
   "cell_type": "markdown",
   "metadata": {
    "nbpresent": {
     "id": "fc3cf0a7-9329-4505-b9cb-2c7f9d7b533d"
    }
   },
   "source": [
    "the sequence seems to have roughly the correct size (5kb):"
   ]
  },
  {
   "cell_type": "code",
   "execution_count": 25,
   "metadata": {
    "collapsed": false,
    "nbpresent": {
     "id": "0dd80b5b-22d7-4993-b083-e87601923c5e"
    }
   },
   "outputs": [
    {
     "data": {
      "text/plain": [
       "Dseqrecord(o5032)"
      ]
     },
     "execution_count": 25,
     "metadata": {},
     "output_type": "execute_result"
    }
   ],
   "source": [
    "pGreenLantern1"
   ]
  },
  {
   "cell_type": "code",
   "execution_count": 26,
   "metadata": {
    "collapsed": true,
    "nbpresent": {
     "id": "da18dddb-ae40-4ac1-9bd5-f74cffa2fe40"
    }
   },
   "outputs": [],
   "source": [
    "pGreenLantern1.locus=\"pGreenLantern1\""
   ]
  },
  {
   "cell_type": "markdown",
   "metadata": {
    "nbpresent": {
     "id": "fc4d5779-4b00-4c8f-a1e8-1f36f2dafc52"
    }
   },
   "source": [
    "The candidate for the pGreenLantern1 sequence can be downloaded from the link below."
   ]
  },
  {
   "cell_type": "code",
   "execution_count": 27,
   "metadata": {
    "collapsed": false,
    "nbpresent": {
     "id": "a91b0b99-3583-493f-b723-cf07793ff561"
    }
   },
   "outputs": [
    {
     "data": {
      "text/html": [
       "<font face=monospace><a href='pGreenLantern1.gb' target='_blank'>pGreenLantern1.gb</a></font><br>"
      ]
     },
     "metadata": {},
     "output_type": "display_data"
    }
   ],
   "source": [
    "pGreenLantern1.write(\"pGreenLantern1.gb\")"
   ]
  },
  {
   "cell_type": "markdown",
   "metadata": {
    "nbpresent": {
     "id": "19ea49e8-c297-45e5-8230-8b01e0040950"
    }
   },
   "source": [
    "The plasmid map below is from the patent ([#4](#4))"
   ]
  },
  {
   "cell_type": "code",
   "execution_count": 28,
   "metadata": {
    "collapsed": false,
    "nbpresent": {
     "id": "0a4f4ae5-ae1b-4825-abcc-7fa10cd02c40"
    }
   },
   "outputs": [
    {
     "data": {
      "image/png": "[encoded data removed]",
      "text/plain": [
       "<IPython.core.display.Image object>"
      ]
     },
     "execution_count": 28,
     "metadata": {
      "image/png": {
       "width": 300
      }
     },
     "output_type": "execute_result"
    }
   ],
   "source": [
    "from IPython.display import Image\n",
    "Image(\"https://patentimages.storage.googleapis.com/US6638732B1/US06638732-20031028-D00005.png\", width=300)"
   ]
  },
  {
   "cell_type": "markdown",
   "metadata": {
    "nbpresent": {
     "id": "92a382d6-4b70-4800-a236-343319ada027"
    }
   },
   "source": [
    "The map below was made with [plasmapper](http://wishart.biology.ualberta.ca/PlasMapper/) and it corresponds roughly to the map from the patent above."
   ]
  },
  {
   "cell_type": "code",
   "execution_count": 29,
   "metadata": {
    "collapsed": false,
    "nbpresent": {
     "id": "df5f01f9-8928-4f28-85e9-a97315d9babf"
    }
   },
   "outputs": [
    {
     "data": {
      "image/png": "[encoded data removed]",
      "text/plain": [
       "<IPython.core.display.Image object>"
      ]
     },
     "execution_count": 29,
     "metadata": {
      "image/png": {
       "width": 600
      }
     },
     "output_type": "execute_result"
    }
   ],
   "source": [
    "Image(\"plasMap203_1479761881670.png\", width=600)"
   ]
  },
  {
   "cell_type": "markdown",
   "metadata": {
    "nbpresent": {
     "id": "57e6f104-a876-4ed7-8c2a-defd14359933"
    }
   },
   "source": [
    "## Check sequence by restriction digest\n",
    "\n",
    "If the actual plasmid is available, the sequence assembled here can be compared \n",
    "by restriction analysis to the acutal vector.\n",
    "\n",
    "[NdeI](http://rebase.neb.com/rebase/enz/NdeI.html) cuts the sequence three times prodcing fragments that are easy to distinguish by gel. "
   ]
  },
  {
   "cell_type": "code",
   "execution_count": 30,
   "metadata": {
    "collapsed": true,
    "nbpresent": {
     "id": "e3d5f7c8-45d6-4cd4-975a-027aeacda163"
    }
   },
   "outputs": [],
   "source": [
    "from Bio.Restriction import NdeI"
   ]
  },
  {
   "cell_type": "code",
   "execution_count": 31,
   "metadata": {
    "collapsed": true,
    "nbpresent": {
     "id": "2d8b408d-f6b8-46c9-8bcd-8eda659a6994"
    }
   },
   "outputs": [],
   "source": [
    "fragments = pGreenLantern1.cut(NdeI)"
   ]
  },
  {
   "cell_type": "code",
   "execution_count": 32,
   "metadata": {
    "collapsed": false,
    "nbpresent": {
     "id": "f2fcf386-6a57-4614-97c2-da8f1d0a4a08"
    }
   },
   "outputs": [
    {
     "data": {
      "text/plain": [
       "[Dseqrecord(-628), Dseqrecord(-3640), Dseqrecord(-770)]"
      ]
     },
     "execution_count": 32,
     "metadata": {},
     "output_type": "execute_result"
    }
   ],
   "source": [
    "fragments"
   ]
  },
  {
   "cell_type": "code",
   "execution_count": 33,
   "metadata": {
    "collapsed": true,
    "nbpresent": {
     "id": "82a1f9a1-6c41-4665-8661-291b727fb5ac"
    }
   },
   "outputs": [],
   "source": [
    "from pydna.gel import weight_standard_sample"
   ]
  },
  {
   "cell_type": "code",
   "execution_count": 34,
   "metadata": {
    "collapsed": false,
    "nbpresent": {
     "id": "c4c8c706-4ae1-43cb-8e76-f2bf20ffa172"
    }
   },
   "outputs": [
    {
     "data": {
      "image/png": "[encoded data removed]",
      "text/plain": [
       "<matplotlib.figure.Figure at 0x7f87a072e588>"
      ]
     },
     "metadata": {},
     "output_type": "display_data"
    }
   ],
   "source": [
    "#PYTEST_VALIDATE_IGNORE_OUTPUT\n",
    "%matplotlib inline\n",
    "gel=Gel([weight_standard_sample('1kb+_GeneRuler'), fragments])\n",
    "gel.run()"
   ]
  },
  {
   "cell_type": "code",
   "execution_count": 35,
   "metadata": {
    "collapsed": false,
    "nbpresent": {
     "id": "84890c8c-c27b-4a79-8b0c-38d733eadd47"
    }
   },
   "outputs": [
    {
     "data": {
      "image/jpeg": "[encoded data removed]",
      "text/plain": [
       "<IPython.core.display.Image object>"
      ]
     },
     "execution_count": 35,
     "metadata": {},
     "output_type": "execute_result"
    }
   ],
   "source": [
    "Image(\"http://static.wixstatic.com/media/5be0cc_b35636c46e654d8b8c09e8cf17ad13aa.jpg/v1/fill/w_281,h_439,al_c,q_80,usm_0.66_1.00_0.01/5be0cc_b35636c46e654d8b8c09e8cf17ad13aa.jpg\")"
   ]
  },
  {
   "cell_type": "markdown",
   "metadata": {
    "collapsed": true
   },
   "source": [
    "## Comparison with theoritical sequence\n",
    "\n",
    "A scientist did eventually send me a sequence file that is supposed to be the sequence released by GIBCO or Life Technologies (see below). This sequence is likely to have originated in the laboratory [#2](#2).\n",
    "\n",
    "The sequence assembled here (pydna) is 5032 bp while the Gibco sequence is 5029 bp. The sequences differ is a handful of locations and the pydna sequence has three single nucleotide insertions, ins1, ins2 and ins3. These are present as features in the pydna sequence below. The GIBCO sequence has the corresponding features del1, 2 and 3.\n",
    "\n",
    "Blast of the ins1 and del1 and ins3 and del3 give many vector sequences in Genbank that matches each of the versions. The del2 would cause a frameshift in the amp marker and the ampicillin resistance would therefore not be expressed. This means that the pydna sequence is most likely correct in this locus.\n",
    "\n",
    "[pGreenLantern1_GIBCO_annotated.gb](pGreenLantern1_GIBCO_annotated.gb)\n",
    "\n",
    "[pGreenLantern1_pydna_annotated.gb](pGreenLantern1_pydna_annotated.gb)\n"
   ]
  }
 ],
 "metadata": {
  "anaconda-cloud": {},
  "kernelspec": {
   "display_name": "Python 3",
   "language": "python",
   "name": "python3"
  },
  "language_info": {
   "codemirror_mode": {
    "name": "ipython",
    "version": 3
   },
   "file_extension": ".py",
   "mimetype": "text/x-python",
   "name": "python",
   "nbconvert_exporter": "python",
   "pygments_lexer": "ipython3",
   "version": "3.5.2"
  },
  "nbpresent": {
   "slides": {
    "0122764f-bfa1-4a30-be05-b21b52240d82": {
     "id": "0122764f-bfa1-4a30-be05-b21b52240d82",
     "prev": "ac5bc525-8967-4823-9981-484431e53906",
     "regions": {
      "875ecdfc-3694-4f00-b879-a727036fc591": {
       "attrs": {
        "height": 0.8,
        "width": 0.8,
        "x": 0.1,
        "y": 0.1
       },
       "content": {
        "cell": "19ea49e8-c297-45e5-8230-8b01e0040950",
        "part": "whole"
       },
       "id": "875ecdfc-3694-4f00-b879-a727036fc591"
      }
     }
    },
    "0cdc5f56-2026-4fa2-a13c-36c21dc059d3": {
     "id": "0cdc5f56-2026-4fa2-a13c-36c21dc059d3",
     "prev": "84e9159a-9a69-4d53-b3e5-7eee56860ec7",
     "regions": {
      "a02af778-e281-4543-a8da-4040297a4216": {
       "attrs": {
        "height": 0.8,
        "width": 0.8,
        "x": 0.1,
        "y": 0.1
       },
       "content": {
        "cell": "b79d87bb-aefd-4fea-9388-09b47a15c806",
        "part": "whole"
       },
       "id": "a02af778-e281-4543-a8da-4040297a4216"
      }
     }
    },
    "14a2409e-dcac-4b7a-8e09-23ed31b7a332": {
     "id": "14a2409e-dcac-4b7a-8e09-23ed31b7a332",
     "prev": null,
     "regions": {
      "d8eb5e96-9ca0-4d3f-827c-93d5ea931bb5": {
       "attrs": {
        "height": 0.8,
        "width": 0.8,
        "x": 0.1,
        "y": 0.1
       },
       "content": {
        "cell": "0bdf3888-df85-4b90-92ad-29d96cbe5ab2",
        "part": "whole"
       },
       "id": "d8eb5e96-9ca0-4d3f-827c-93d5ea931bb5"
      }
     }
    },
    "16d8de8b-b1a2-40cd-930b-2ad123f7249a": {
     "id": "16d8de8b-b1a2-40cd-930b-2ad123f7249a",
     "prev": "76139bbe-a958-4c65-9195-5346c8cda9cd",
     "regions": {
      "0c45bd54-c385-4cd7-b9d2-406ff8ce1559": {
       "attrs": {
        "height": 0.8,
        "width": 0.8,
        "x": 0.1,
        "y": 0.1
       },
       "content": {
        "cell": "0dd80b5b-22d7-4993-b083-e87601923c5e",
        "part": "whole"
       },
       "id": "0c45bd54-c385-4cd7-b9d2-406ff8ce1559"
      }
     }
    },
    "26402b12-7899-45dc-8cdd-dfe6927873c0": {
     "id": "26402b12-7899-45dc-8cdd-dfe6927873c0",
     "prev": "35c05a60-bdad-4e48-9987-74b4cb90ddd5",
     "regions": {
      "a36c0b7b-90f3-4f26-94c2-45c95a8c8662": {
       "attrs": {
        "height": 0.8,
        "width": 0.8,
        "x": 0.1,
        "y": 0.1
       },
       "content": {
        "cell": "1ca41e0e-a851-455d-91af-83040f3cd669",
        "part": "whole"
       },
       "id": "a36c0b7b-90f3-4f26-94c2-45c95a8c8662"
      }
     }
    },
    "2739d6d3-696c-45fe-ad6d-ebaa05312c12": {
     "id": "2739d6d3-696c-45fe-ad6d-ebaa05312c12",
     "prev": "aef9b898-1b1c-44da-ab79-8f1f67db875d",
     "regions": {
      "d7544212-922f-42fd-90b8-88cdc6725813": {
       "attrs": {
        "height": 0.8,
        "width": 0.8,
        "x": 0.1,
        "y": 0.1
       },
       "content": {
        "cell": "df5f01f9-8928-4f28-85e9-a97315d9babf",
        "part": "whole"
       },
       "id": "d7544212-922f-42fd-90b8-88cdc6725813"
      }
     }
    },
    "2cc2536a-55c8-458c-9787-34fea49f3eff": {
     "id": "2cc2536a-55c8-458c-9787-34fea49f3eff",
     "prev": "be705cce-4afe-452f-89b3-08e7e1f71a4a",
     "regions": {
      "632fda08-c925-4272-8a82-a70420c94514": {
       "attrs": {
        "height": 0.8,
        "width": 0.8,
        "x": 0.1,
        "y": 0.1
       },
       "content": {
        "cell": "d8c5e241-72d7-46d8-aadb-c0bbfdbd5e22",
        "part": "whole"
       },
       "id": "632fda08-c925-4272-8a82-a70420c94514"
      }
     }
    },
    "2d6b3b80-6bd3-4620-b60f-276e2afcf7fc": {
     "id": "2d6b3b80-6bd3-4620-b60f-276e2afcf7fc",
     "prev": "3d36f087-4569-420f-9143-373ee3218105",
     "regions": {
      "3f98d66c-d1d8-48b8-be19-e73f8bf727b7": {
       "attrs": {
        "height": 0.8,
        "width": 0.8,
        "x": 0.1,
        "y": 0.1
       },
       "content": {
        "cell": "f2fcf386-6a57-4614-97c2-da8f1d0a4a08",
        "part": "whole"
       },
       "id": "3f98d66c-d1d8-48b8-be19-e73f8bf727b7"
      }
     }
    },
    "3542749f-3385-4311-99f0-8f9f927aca3d": {
     "id": "3542749f-3385-4311-99f0-8f9f927aca3d",
     "prev": "91b2993d-4149-466f-b025-a77504b03a84",
     "regions": {
      "112ceac5-81b7-4b60-be22-e04f3f157df2": {
       "attrs": {
        "height": 0.8,
        "width": 0.8,
        "x": 0.1,
        "y": 0.1
       },
       "content": {
        "cell": "599c1e99-ab14-47d5-be4f-2f933b006fa4",
        "part": "whole"
       },
       "id": "112ceac5-81b7-4b60-be22-e04f3f157df2"
      }
     }
    },
    "35c05a60-bdad-4e48-9987-74b4cb90ddd5": {
     "id": "35c05a60-bdad-4e48-9987-74b4cb90ddd5",
     "prev": "7b3f00f3-70f7-4909-9a1e-a686b4a89a53",
     "regions": {
      "da658cdb-de6d-45b7-a418-1e81f956b892": {
       "attrs": {
        "height": 0.8,
        "width": 0.8,
        "x": 0.1,
        "y": 0.1
       },
       "content": {
        "cell": "40739163-2162-4d14-9f44-755d3897edd1",
        "part": "whole"
       },
       "id": "da658cdb-de6d-45b7-a418-1e81f956b892"
      }
     }
    },
    "38478ced-7fe9-4c60-90f2-206f46d33b28": {
     "id": "38478ced-7fe9-4c60-90f2-206f46d33b28",
     "prev": "9f1e0fb0-127d-4fb2-9d2e-7bed3a7386de",
     "regions": {
      "d0eebc8a-5b45-49de-bf5e-05b41c52e253": {
       "attrs": {
        "height": 0.8,
        "width": 0.8,
        "x": 0.1,
        "y": 0.1
       },
       "content": {
        "cell": "f6d6b4eb-3546-4c3b-8da2-966fda9b294f",
        "part": "whole"
       },
       "id": "d0eebc8a-5b45-49de-bf5e-05b41c52e253"
      }
     }
    },
    "3d36f087-4569-420f-9143-373ee3218105": {
     "id": "3d36f087-4569-420f-9143-373ee3218105",
     "prev": "6f5e3794-27ad-4e94-9f51-03810d70f03e",
     "regions": {
      "84ec559c-7872-4707-9a45-1371fb275df2": {
       "attrs": {
        "height": 0.8,
        "width": 0.8,
        "x": 0.1,
        "y": 0.1
       },
       "content": {
        "cell": "2d8b408d-f6b8-46c9-8bcd-8eda659a6994",
        "part": "whole"
       },
       "id": "84ec559c-7872-4707-9a45-1371fb275df2"
      }
     }
    },
    "3ffde0ce-12c8-4635-aee1-4ff9e002f006": {
     "id": "3ffde0ce-12c8-4635-aee1-4ff9e002f006",
     "prev": "c9036947-bbcb-4ee0-b489-96bb8ee0b6f8",
     "regions": {
      "7fab4e17-035d-4783-b496-639bba41e773": {
       "attrs": {
        "height": 0.8,
        "width": 0.8,
        "x": 0.1,
        "y": 0.1
       },
       "content": {
        "cell": "c7879227-5378-45b0-9f5f-3151dffea4c4",
        "part": "whole"
       },
       "id": "7fab4e17-035d-4783-b496-639bba41e773"
      }
     }
    },
    "41f7bdc7-15cb-4975-aeed-e0913a3b6954": {
     "id": "41f7bdc7-15cb-4975-aeed-e0913a3b6954",
     "prev": "f844b7fe-6381-4471-b525-e5ddb12caed3",
     "regions": {
      "45df7ff5-b606-42b8-ba56-613d683acbe9": {
       "attrs": {
        "height": 0.8,
        "width": 0.8,
        "x": 0.1,
        "y": 0.1
       },
       "content": {
        "cell": "f139f698-17cb-455e-aa9e-4fb1681b79fe",
        "part": "whole"
       },
       "id": "45df7ff5-b606-42b8-ba56-613d683acbe9"
      }
     }
    },
    "48813ef1-5c34-4964-a587-2b4ac826ca92": {
     "id": "48813ef1-5c34-4964-a587-2b4ac826ca92",
     "prev": "41f7bdc7-15cb-4975-aeed-e0913a3b6954",
     "regions": {
      "7d6d7ac7-c260-4fa4-8a5a-afa54971cde2": {
       "attrs": {
        "height": 0.8,
        "width": 0.8,
        "x": 0.1,
        "y": 0.1
       },
       "content": {
        "cell": "c4c8c706-4ae1-43cb-8e76-f2bf20ffa172",
        "part": "whole"
       },
       "id": "7d6d7ac7-c260-4fa4-8a5a-afa54971cde2"
      }
     }
    },
    "50e3e4e6-eedb-47b5-a237-003c2daeffa6": {
     "id": "50e3e4e6-eedb-47b5-a237-003c2daeffa6",
     "prev": "9774cac0-8224-41de-8dff-d85fa9714f34",
     "regions": {
      "2ccc271d-dcb8-4e59-8bbb-9e711696a096": {
       "attrs": {
        "height": 0.8,
        "width": 0.8,
        "x": 0.1,
        "y": 0.1
       },
       "content": {
        "cell": "964cb20f-1904-4ede-bfe5-b30554dc88de",
        "part": "whole"
       },
       "id": "2ccc271d-dcb8-4e59-8bbb-9e711696a096"
      }
     }
    },
    "5137e509-27f7-4a42-a30b-beb1043c997c": {
     "id": "5137e509-27f7-4a42-a30b-beb1043c997c",
     "prev": "14a2409e-dcac-4b7a-8e09-23ed31b7a332",
     "regions": {
      "17c2a66c-9ee9-4092-8dc3-13c2eebedaec": {
       "attrs": {
        "height": 0.8,
        "width": 0.45,
        "x": 0.05,
        "y": 0.1
       },
       "id": "17c2a66c-9ee9-4092-8dc3-13c2eebedaec"
      },
      "65953c54-791d-43e4-9f65-6e7ee3d286c8": {
       "attrs": {
        "height": 0.8,
        "width": 0.45,
        "x": 0.5,
        "y": 0.1
       },
       "id": "65953c54-791d-43e4-9f65-6e7ee3d286c8"
      }
     }
    },
    "524dd613-92e1-4905-a549-c9b034bafa7f": {
     "id": "524dd613-92e1-4905-a549-c9b034bafa7f",
     "prev": "69b8264b-15af-448d-b9c6-190d1e88bc43",
     "regions": {
      "c9dae46c-4eba-4fa9-b2b4-18ffcba060d5": {
       "attrs": {
        "height": 0.8,
        "width": 0.8,
        "x": 0.1,
        "y": 0.1
       },
       "content": {
        "cell": "4df77524-c380-4bc5-ad04-537fe99c2334",
        "part": "whole"
       },
       "id": "c9dae46c-4eba-4fa9-b2b4-18ffcba060d5"
      }
     }
    },
    "5e4a3043-e510-4dc8-84e8-813c7a0d7cd7": {
     "id": "5e4a3043-e510-4dc8-84e8-813c7a0d7cd7",
     "prev": "0cdc5f56-2026-4fa2-a13c-36c21dc059d3",
     "regions": {
      "f1c20879-2798-4720-aa2c-0492d982c5b7": {
       "attrs": {
        "height": 0.8,
        "width": 0.8,
        "x": 0.1,
        "y": 0.1
       },
       "content": {
        "cell": "4ac29d5b-42f5-4bd2-b9a9-acb9b2cad9fc",
        "part": "whole"
       },
       "id": "f1c20879-2798-4720-aa2c-0492d982c5b7"
      }
     }
    },
    "677ae205-6b9e-41c2-a0bf-8dc0685bb78c": {
     "id": "677ae205-6b9e-41c2-a0bf-8dc0685bb78c",
     "prev": "3ffde0ce-12c8-4635-aee1-4ff9e002f006",
     "regions": {
      "25da1f5a-accd-4555-91a6-dbb8640bc9ca": {
       "attrs": {
        "height": 0.8,
        "width": 0.8,
        "x": 0.1,
        "y": 0.1
       },
       "content": {
        "cell": "10d7dfa0-6458-40fd-9ac7-068204759730",
        "part": "whole"
       },
       "id": "25da1f5a-accd-4555-91a6-dbb8640bc9ca"
      }
     }
    },
    "69b8264b-15af-448d-b9c6-190d1e88bc43": {
     "id": "69b8264b-15af-448d-b9c6-190d1e88bc43",
     "prev": "a8f1d8cc-d0f2-43a0-b14d-d684d5bae10e",
     "regions": {
      "99f64df6-05db-4ae9-b0c0-a5efc92ce623": {
       "attrs": {
        "height": 0.8,
        "width": 0.8,
        "x": 0.1,
        "y": 0.1
       },
       "content": {
        "cell": "f5fdf8a1-f810-4899-adbb-bbdd64931ae0",
        "part": "whole"
       },
       "id": "99f64df6-05db-4ae9-b0c0-a5efc92ce623"
      }
     }
    },
    "6f5e3794-27ad-4e94-9f51-03810d70f03e": {
     "id": "6f5e3794-27ad-4e94-9f51-03810d70f03e",
     "prev": "b6adf54a-5fc9-47a8-b8b4-62a79aff87a0",
     "regions": {
      "f411c09e-0d59-4c24-9d25-89526962d4a9": {
       "attrs": {
        "height": 0.8,
        "width": 0.8,
        "x": 0.1,
        "y": 0.1
       },
       "content": {
        "cell": "e3d5f7c8-45d6-4cd4-975a-027aeacda163",
        "part": "whole"
       },
       "id": "f411c09e-0d59-4c24-9d25-89526962d4a9"
      }
     }
    },
    "7259a912-dcb8-4551-a637-3b0d192b93a8": {
     "id": "7259a912-dcb8-4551-a637-3b0d192b93a8",
     "prev": "26402b12-7899-45dc-8cdd-dfe6927873c0",
     "regions": {
      "b4cb9c65-b924-4277-b190-00246c40e06b": {
       "attrs": {
        "height": 0.8,
        "width": 0.8,
        "x": 0.1,
        "y": 0.1
       },
       "content": {
        "cell": "28f5032a-48f9-488b-88fb-8df899472b35",
        "part": "whole"
       },
       "id": "b4cb9c65-b924-4277-b190-00246c40e06b"
      }
     }
    },
    "76139bbe-a958-4c65-9195-5346c8cda9cd": {
     "id": "76139bbe-a958-4c65-9195-5346c8cda9cd",
     "prev": "2cc2536a-55c8-458c-9787-34fea49f3eff",
     "regions": {
      "8872a255-a2a8-4137-ae94-d258572cf8eb": {
       "attrs": {
        "height": 0.8,
        "width": 0.8,
        "x": 0.1,
        "y": 0.1
       },
       "content": {
        "cell": "fc3cf0a7-9329-4505-b9cb-2c7f9d7b533d",
        "part": "whole"
       },
       "id": "8872a255-a2a8-4137-ae94-d258572cf8eb"
      }
     }
    },
    "778318bc-d7a9-440a-925a-69a6d597d643": {
     "id": "778318bc-d7a9-440a-925a-69a6d597d643",
     "prev": "874e76e2-bd0c-4169-9898-987444defb86",
     "regions": {
      "a89a0656-1fd6-4824-b874-9b75690e7592": {
       "attrs": {
        "height": 0.8,
        "width": 0.8,
        "x": 0.1,
        "y": 0.1
       },
       "content": {
        "cell": "762ae7ef-40e5-4300-a5e3-de3dee71a3c0",
        "part": "whole"
       },
       "id": "a89a0656-1fd6-4824-b874-9b75690e7592"
      }
     }
    },
    "7b3f00f3-70f7-4909-9a1e-a686b4a89a53": {
     "id": "7b3f00f3-70f7-4909-9a1e-a686b4a89a53",
     "prev": "e526305d-fc60-45af-9314-82a0e4fe8c94",
     "regions": {
      "9f70d04d-aeaf-4bee-b1ab-98c1d43b8770": {
       "attrs": {
        "height": 0.8,
        "width": 0.8,
        "x": 0.1,
        "y": 0.1
       },
       "content": {
        "cell": "5337a332-63ab-43d1-bbb8-cbfec6189434",
        "part": "whole"
       },
       "id": "9f70d04d-aeaf-4bee-b1ab-98c1d43b8770"
      }
     }
    },
    "7b93b857-1c32-4264-ab35-3eb17985262e": {
     "id": "7b93b857-1c32-4264-ab35-3eb17985262e",
     "prev": "7259a912-dcb8-4551-a637-3b0d192b93a8",
     "regions": {
      "77642368-c51c-46e6-9056-7fcd7747e36c": {
       "attrs": {
        "height": 0.8,
        "width": 0.8,
        "x": 0.1,
        "y": 0.1
       },
       "content": {
        "cell": "c5fda9d3-a418-41f7-9057-95be476bb890",
        "part": "whole"
       },
       "id": "77642368-c51c-46e6-9056-7fcd7747e36c"
      }
     }
    },
    "84e9159a-9a69-4d53-b3e5-7eee56860ec7": {
     "id": "84e9159a-9a69-4d53-b3e5-7eee56860ec7",
     "prev": "f928c60e-3a05-4a5c-9a30-db1b6aebadcd",
     "regions": {
      "4e897b36-b3ad-4578-8993-b7a5f1601e86": {
       "attrs": {
        "height": 0.8,
        "width": 0.8,
        "x": 0.1,
        "y": 0.1
       },
       "content": {
        "cell": "71e695ba-b8ee-4cd2-8234-06ffa06024e5",
        "part": "whole"
       },
       "id": "4e897b36-b3ad-4578-8993-b7a5f1601e86"
      }
     }
    },
    "874e76e2-bd0c-4169-9898-987444defb86": {
     "id": "874e76e2-bd0c-4169-9898-987444defb86",
     "prev": "50e3e4e6-eedb-47b5-a237-003c2daeffa6",
     "regions": {
      "7cd4dfee-62df-41d7-a098-3d72864b3133": {
       "attrs": {
        "height": 0.8,
        "width": 0.8,
        "x": 0.1,
        "y": 0.1
       },
       "content": {
        "cell": "4ba73f9e-8ec2-4c1a-bc87-990c13de2999",
        "part": "whole"
       },
       "id": "7cd4dfee-62df-41d7-a098-3d72864b3133"
      }
     }
    },
    "889b315e-6f7f-4e97-8ab9-a16eb1cd4a9e": {
     "id": "889b315e-6f7f-4e97-8ab9-a16eb1cd4a9e",
     "prev": "38478ced-7fe9-4c60-90f2-206f46d33b28",
     "regions": {
      "20d4c09c-903f-4a2e-a90e-402f04dfc0c4": {
       "attrs": {
        "height": 0.8,
        "width": 0.8,
        "x": 0.1,
        "y": 0.1
       },
       "content": {
        "cell": "cc063655-187d-4c9d-9809-3d4030f9757f",
        "part": "whole"
       },
       "id": "20d4c09c-903f-4a2e-a90e-402f04dfc0c4"
      }
     }
    },
    "8e89bf4e-a3aa-44d0-9cc6-7b13ba8c49e4": {
     "id": "8e89bf4e-a3aa-44d0-9cc6-7b13ba8c49e4",
     "prev": "b46be7b9-6639-49fc-ab17-c3412e9759bd",
     "regions": {
      "f644cb0a-68f8-4b94-9272-f011a114b41a": {
       "attrs": {
        "height": 0.8,
        "width": 0.8,
        "x": 0.1,
        "y": 0.1
       },
       "content": {
        "cell": "50497459-f847-4f8f-b733-c9a4f165680d",
        "part": "whole"
       },
       "id": "f644cb0a-68f8-4b94-9272-f011a114b41a"
      }
     }
    },
    "9004a524-750e-48b9-87af-7cb5631de1f7": {
     "id": "9004a524-750e-48b9-87af-7cb5631de1f7",
     "prev": "aa7c6f9d-d437-4ad0-a34b-5f5d791a6c1a",
     "regions": {
      "bde373d7-81b7-4fe8-8956-50c71e545bcd": {
       "attrs": {
        "height": 0.8,
        "width": 0.8,
        "x": 0.1,
        "y": 0.1
       },
       "content": {
        "cell": "19e2cac1-420a-40f3-a52f-fbaef27ed7e4",
        "part": "whole"
       },
       "id": "bde373d7-81b7-4fe8-8956-50c71e545bcd"
      }
     }
    },
    "90c8f7b2-f934-4295-88ad-7a87340c9cd2": {
     "id": "90c8f7b2-f934-4295-88ad-7a87340c9cd2",
     "prev": "97716a10-e356-41eb-a233-c11c6496a130",
     "regions": {
      "bd857eee-69a4-4217-8312-012c3459fcd4": {
       "attrs": {
        "height": 0.8,
        "width": 0.8,
        "x": 0.1,
        "y": 0.1
       },
       "content": {
        "cell": "a5356241-3a21-4cf8-914e-2209a254b0b7",
        "part": "whole"
       },
       "id": "bd857eee-69a4-4217-8312-012c3459fcd4"
      }
     }
    },
    "91b2993d-4149-466f-b025-a77504b03a84": {
     "id": "91b2993d-4149-466f-b025-a77504b03a84",
     "prev": "48813ef1-5c34-4964-a587-2b4ac826ca92",
     "regions": {
      "78078984-8a02-4f19-a916-5817a0528ef2": {
       "attrs": {
        "height": 0.8,
        "width": 0.8,
        "x": 0.1,
        "y": 0.1
       },
       "content": {
        "cell": "84890c8c-c27b-4a79-8b0c-38d733eadd47",
        "part": "whole"
       },
       "id": "78078984-8a02-4f19-a916-5817a0528ef2"
      }
     }
    },
    "97716a10-e356-41eb-a233-c11c6496a130": {
     "id": "97716a10-e356-41eb-a233-c11c6496a130",
     "prev": "524dd613-92e1-4905-a549-c9b034bafa7f",
     "regions": {
      "124e0c3a-ee41-4997-927e-9b47f55c1647": {
       "attrs": {
        "height": 0.8,
        "width": 0.8,
        "x": 0.1,
        "y": 0.1
       },
       "content": {
        "cell": "55619171-33c2-4596-9c7a-4e976df77daa",
        "part": "whole"
       },
       "id": "124e0c3a-ee41-4997-927e-9b47f55c1647"
      }
     }
    },
    "9774cac0-8224-41de-8dff-d85fa9714f34": {
     "id": "9774cac0-8224-41de-8dff-d85fa9714f34",
     "prev": "90c8f7b2-f934-4295-88ad-7a87340c9cd2",
     "regions": {
      "f98b0c6f-f60d-457c-b0c1-d92aa42ac9e4": {
       "attrs": {
        "height": 0.8,
        "width": 0.8,
        "x": 0.1,
        "y": 0.1
       },
       "content": {
        "cell": "c97210ea-c66a-4a42-b2cc-e9a975e14644",
        "part": "whole"
       },
       "id": "f98b0c6f-f60d-457c-b0c1-d92aa42ac9e4"
      }
     }
    },
    "9f1e0fb0-127d-4fb2-9d2e-7bed3a7386de": {
     "id": "9f1e0fb0-127d-4fb2-9d2e-7bed3a7386de",
     "prev": "5e4a3043-e510-4dc8-84e8-813c7a0d7cd7",
     "regions": {
      "da408587-d5e6-48a6-a868-1f1a98fe1324": {
       "attrs": {
        "height": 0.8,
        "width": 0.8,
        "x": 0.1,
        "y": 0.1
       },
       "content": {
        "cell": "46e2956d-03b3-4afa-a50f-eebdf742d946",
        "part": "whole"
       },
       "id": "da408587-d5e6-48a6-a868-1f1a98fe1324"
      }
     }
    },
    "a6fcab16-7a8c-4dc9-b907-bdab6fdbbe7c": {
     "id": "a6fcab16-7a8c-4dc9-b907-bdab6fdbbe7c",
     "prev": "c0b3e515-7574-4f2f-8a13-982cf0ff76ac",
     "regions": {
      "45d387db-6b24-4a37-8509-5081106b4ba0": {
       "attrs": {
        "height": 0.8,
        "width": 0.8,
        "x": 0.1,
        "y": 0.1
       },
       "content": {
        "cell": "fc4d5779-4b00-4c8f-a1e8-1f36f2dafc52",
        "part": "whole"
       },
       "id": "45d387db-6b24-4a37-8509-5081106b4ba0"
      }
     }
    },
    "a8f1d8cc-d0f2-43a0-b14d-d684d5bae10e": {
     "id": "a8f1d8cc-d0f2-43a0-b14d-d684d5bae10e",
     "prev": "8e89bf4e-a3aa-44d0-9cc6-7b13ba8c49e4",
     "regions": {
      "953f5144-16e4-49fb-9d9e-c2d8e9e40470": {
       "attrs": {
        "height": 0.8,
        "width": 0.8,
        "x": 0.1,
        "y": 0.1
       },
       "content": {
        "cell": "00975e7b-111f-4e34-9477-1ec385db80c9",
        "part": "whole"
       },
       "id": "953f5144-16e4-49fb-9d9e-c2d8e9e40470"
      }
     }
    },
    "aa7c6f9d-d437-4ad0-a34b-5f5d791a6c1a": {
     "id": "aa7c6f9d-d437-4ad0-a34b-5f5d791a6c1a",
     "prev": "778318bc-d7a9-440a-925a-69a6d597d643",
     "regions": {
      "9bae7730-b4bd-4a2e-ba64-170f3f667ca5": {
       "attrs": {
        "height": 0.8,
        "width": 0.8,
        "x": 0.1,
        "y": 0.1
       },
       "content": {
        "cell": "f28ee000-0c13-487e-8ad1-338c9a435914",
        "part": "whole"
       },
       "id": "9bae7730-b4bd-4a2e-ba64-170f3f667ca5"
      }
     }
    },
    "ac5bc525-8967-4823-9981-484431e53906": {
     "id": "ac5bc525-8967-4823-9981-484431e53906",
     "prev": "a6fcab16-7a8c-4dc9-b907-bdab6fdbbe7c",
     "regions": {
      "0f92d673-8701-45c6-a7da-d75d34fa12c3": {
       "attrs": {
        "height": 0.8,
        "width": 0.8,
        "x": 0.1,
        "y": 0.1
       },
       "content": {
        "cell": "a91b0b99-3583-493f-b723-cf07793ff561",
        "part": "whole"
       },
       "id": "0f92d673-8701-45c6-a7da-d75d34fa12c3"
      }
     }
    },
    "aef9b898-1b1c-44da-ab79-8f1f67db875d": {
     "id": "aef9b898-1b1c-44da-ab79-8f1f67db875d",
     "prev": "d6badc78-3612-4dd4-8aa4-01af17e89da4",
     "regions": {
      "421c0ab2-3ce9-4689-b443-921df3d3bf9c": {
       "attrs": {
        "height": 0.8,
        "width": 0.8,
        "x": 0.1,
        "y": 0.1
       },
       "content": {
        "cell": "92a382d6-4b70-4800-a236-343319ada027",
        "part": "whole"
       },
       "id": "421c0ab2-3ce9-4689-b443-921df3d3bf9c"
      }
     }
    },
    "b16ba2c8-e4a6-47b6-b6c8-92ff9c5d2cd6": {
     "id": "b16ba2c8-e4a6-47b6-b6c8-92ff9c5d2cd6",
     "prev": "c98a52a9-86c1-4c1e-8347-6fb1593ceb65",
     "regions": {
      "db49f346-f33a-48e3-b21b-b370bf9d5727": {
       "attrs": {
        "height": 0.8,
        "width": 0.8,
        "x": 0.1,
        "y": 0.1
       },
       "content": {
        "cell": "d2edfbf2-5cb6-45c8-ac4c-7ebbe3e3743a",
        "part": "whole"
       },
       "id": "db49f346-f33a-48e3-b21b-b370bf9d5727"
      }
     }
    },
    "b46be7b9-6639-49fc-ab17-c3412e9759bd": {
     "id": "b46be7b9-6639-49fc-ab17-c3412e9759bd",
     "prev": "7b93b857-1c32-4264-ab35-3eb17985262e",
     "regions": {
      "ffc6dd99-c9fd-4e06-906c-3919defa66be": {
       "attrs": {
        "height": 0.8,
        "width": 0.8,
        "x": 0.1,
        "y": 0.1
       },
       "content": {
        "cell": "9548115d-b452-4fbe-b059-78427e28b463",
        "part": "whole"
       },
       "id": "ffc6dd99-c9fd-4e06-906c-3919defa66be"
      }
     }
    },
    "b6adf54a-5fc9-47a8-b8b4-62a79aff87a0": {
     "id": "b6adf54a-5fc9-47a8-b8b4-62a79aff87a0",
     "prev": "2739d6d3-696c-45fe-ad6d-ebaa05312c12",
     "regions": {
      "84a96eda-751f-485b-ae30-c40f01707b2a": {
       "attrs": {
        "height": 0.8,
        "width": 0.8,
        "x": 0.1,
        "y": 0.1
       },
       "content": {
        "cell": "57e6f104-a876-4ed7-8c2a-defd14359933",
        "part": "whole"
       },
       "id": "84a96eda-751f-485b-ae30-c40f01707b2a"
      }
     }
    },
    "be705cce-4afe-452f-89b3-08e7e1f71a4a": {
     "id": "be705cce-4afe-452f-89b3-08e7e1f71a4a",
     "prev": "bf53e7ea-8775-4ac8-8549-3c254937f22f",
     "regions": {
      "60dd10b0-f3a0-47fa-8543-860560508ac9": {
       "attrs": {
        "height": 0.8,
        "width": 0.8,
        "x": 0.1,
        "y": 0.1
       },
       "content": {
        "cell": "d7e07939-df77-4090-a2cb-c62713554157",
        "part": "whole"
       },
       "id": "60dd10b0-f3a0-47fa-8543-860560508ac9"
      }
     }
    },
    "bf53e7ea-8775-4ac8-8549-3c254937f22f": {
     "id": "bf53e7ea-8775-4ac8-8549-3c254937f22f",
     "prev": "b16ba2c8-e4a6-47b6-b6c8-92ff9c5d2cd6",
     "regions": {
      "514fc8f0-dab9-4475-a35c-2f2512029715": {
       "attrs": {
        "height": 0.8,
        "width": 0.8,
        "x": 0.1,
        "y": 0.1
       },
       "content": {
        "cell": "cad9558e-3c7f-456a-8420-54d4c0b12f57",
        "part": "whole"
       },
       "id": "514fc8f0-dab9-4475-a35c-2f2512029715"
      }
     }
    },
    "c0b3e515-7574-4f2f-8a13-982cf0ff76ac": {
     "id": "c0b3e515-7574-4f2f-8a13-982cf0ff76ac",
     "prev": "16d8de8b-b1a2-40cd-930b-2ad123f7249a",
     "regions": {
      "fd41d97a-9ea7-4765-916f-cf57c066a0db": {
       "attrs": {
        "height": 0.8,
        "width": 0.8,
        "x": 0.1,
        "y": 0.1
       },
       "content": {
        "cell": "da18dddb-ae40-4ac1-9bd5-f74cffa2fe40",
        "part": "whole"
       },
       "id": "fd41d97a-9ea7-4765-916f-cf57c066a0db"
      }
     }
    },
    "c9036947-bbcb-4ee0-b489-96bb8ee0b6f8": {
     "id": "c9036947-bbcb-4ee0-b489-96bb8ee0b6f8",
     "prev": "889b315e-6f7f-4e97-8ab9-a16eb1cd4a9e",
     "regions": {
      "bca45c1f-4cd5-4e33-aace-344c12078a6c": {
       "attrs": {
        "height": 0.8,
        "width": 0.8,
        "x": 0.1,
        "y": 0.1
       },
       "content": {
        "cell": "b3edca1b-1e2c-4e73-8d90-55b4b73a16b4",
        "part": "whole"
       },
       "id": "bca45c1f-4cd5-4e33-aace-344c12078a6c"
      }
     }
    },
    "c98a52a9-86c1-4c1e-8347-6fb1593ceb65": {
     "id": "c98a52a9-86c1-4c1e-8347-6fb1593ceb65",
     "prev": "677ae205-6b9e-41c2-a0bf-8dc0685bb78c",
     "regions": {
      "98b0ad95-d6ea-43df-b332-6d120b322e82": {
       "attrs": {
        "height": 0.8,
        "width": 0.8,
        "x": 0.1,
        "y": 0.1
       },
       "content": {
        "cell": "ea1f80cb-f510-4041-a2f0-47085af8ab06",
        "part": "whole"
       },
       "id": "98b0ad95-d6ea-43df-b332-6d120b322e82"
      }
     }
    },
    "cf5b8006-5080-4a60-8437-7a66e858a840": {
     "id": "cf5b8006-5080-4a60-8437-7a66e858a840",
     "prev": "df003360-a113-41b5-a798-164d44191ad7",
     "regions": {
      "da530408-1f77-41b0-a9c0-b0198a2f7eb7": {
       "attrs": {
        "height": 0.8,
        "width": 0.8,
        "x": 0.1,
        "y": 0.1
       },
       "content": {
        "cell": "0ca47ec7-6a1a-4c56-878a-d3255b41dd2f",
        "part": "whole"
       },
       "id": "da530408-1f77-41b0-a9c0-b0198a2f7eb7"
      }
     }
    },
    "d6badc78-3612-4dd4-8aa4-01af17e89da4": {
     "id": "d6badc78-3612-4dd4-8aa4-01af17e89da4",
     "prev": "0122764f-bfa1-4a30-be05-b21b52240d82",
     "regions": {
      "22d37e7b-72b6-4aa1-8b76-d519fe06b2c7": {
       "attrs": {
        "height": 0.8,
        "width": 0.8,
        "x": 0.1,
        "y": 0.1
       },
       "content": {
        "cell": "0a4f4ae5-ae1b-4825-abcc-7fa10cd02c40",
        "part": "whole"
       },
       "id": "22d37e7b-72b6-4aa1-8b76-d519fe06b2c7"
      }
     }
    },
    "df003360-a113-41b5-a798-164d44191ad7": {
     "id": "df003360-a113-41b5-a798-164d44191ad7",
     "prev": "5137e509-27f7-4a42-a30b-beb1043c997c",
     "regions": {
      "9fa1bf3d-9965-4ce0-b3b7-3e6451f5b4e6": {
       "attrs": {
        "height": 0.8,
        "width": 0.8,
        "x": 0.1,
        "y": 0.1
       },
       "content": {
        "cell": "bbea7223-d974-4485-b911-179ada7c39ed",
        "part": "whole"
       },
       "id": "9fa1bf3d-9965-4ce0-b3b7-3e6451f5b4e6"
      }
     }
    },
    "e526305d-fc60-45af-9314-82a0e4fe8c94": {
     "id": "e526305d-fc60-45af-9314-82a0e4fe8c94",
     "prev": "e5ddfc74-ddc9-4c3b-8099-d13f105d5561",
     "regions": {
      "4148e16d-3a82-4cf3-83fa-c7da8c62e3b1": {
       "attrs": {
        "height": 0.8,
        "width": 0.8,
        "x": 0.1,
        "y": 0.1
       },
       "content": {
        "cell": "7f4bebfc-764f-4873-a40b-c8a7b3c21ed5",
        "part": "whole"
       },
       "id": "4148e16d-3a82-4cf3-83fa-c7da8c62e3b1"
      }
     }
    },
    "e5ddfc74-ddc9-4c3b-8099-d13f105d5561": {
     "id": "e5ddfc74-ddc9-4c3b-8099-d13f105d5561",
     "prev": "cf5b8006-5080-4a60-8437-7a66e858a840",
     "regions": {
      "1f5413b4-83b7-4585-9a06-c59039d1ab9c": {
       "attrs": {
        "height": 0.8,
        "width": 0.8,
        "x": 0.1,
        "y": 0.1
       },
       "content": {
        "cell": "6c1c1d63-1f5f-48b4-bf7c-19ce8e4e3cdb",
        "part": "whole"
       },
       "id": "1f5413b4-83b7-4585-9a06-c59039d1ab9c"
      }
     }
    },
    "f844b7fe-6381-4471-b525-e5ddb12caed3": {
     "id": "f844b7fe-6381-4471-b525-e5ddb12caed3",
     "prev": "2d6b3b80-6bd3-4620-b60f-276e2afcf7fc",
     "regions": {
      "fd1f13b0-ff1e-44fc-8111-c162ccda9f41": {
       "attrs": {
        "height": 0.8,
        "width": 0.8,
        "x": 0.1,
        "y": 0.1
       },
       "content": {
        "cell": "82a1f9a1-6c41-4665-8661-291b727fb5ac",
        "part": "whole"
       },
       "id": "fd1f13b0-ff1e-44fc-8111-c162ccda9f41"
      }
     }
    },
    "f928c60e-3a05-4a5c-9a30-db1b6aebadcd": {
     "id": "f928c60e-3a05-4a5c-9a30-db1b6aebadcd",
     "prev": "9004a524-750e-48b9-87af-7cb5631de1f7",
     "regions": {
      "f69b1e41-208c-4bf5-a4fd-95ea4780c579": {
       "attrs": {
        "height": 0.8,
        "width": 0.8,
        "x": 0.1,
        "y": 0.1
       },
       "content": {
        "cell": "3ee33903-2f38-49e9-b57f-06f98c54a25a",
        "part": "whole"
       },
       "id": "f69b1e41-208c-4bf5-a4fd-95ea4780c579"
      }
     }
    }
   },
   "themes": {}
  }
 },
 "nbformat": 4,
 "nbformat_minor": 0
}
