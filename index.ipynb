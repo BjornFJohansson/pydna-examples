{
 "cells": [
  {
   "cell_type": "markdown",
   "metadata": {},
   "source": [
    "# pydna-examples\n",
    "\n",
    "[![saat_cloning_animation](strawberry aat/saat_cloning_animation.gif)](strawberry aat/strawberry.ipynb)\n",
    "\n",
    "[![Binder](http://mybinder.org/badge.svg)](http://mybinder.org:/repo/bjornfjohansson/pydna-examples)\n",
    "\n",
    "\n",
    "This repository contains Jupyter notebooks and data files \n",
    "that demonstrate how [pydna](https://github.com/BjornFJohansson/pydna/blob/py3dev/README.md) \n",
    "can be used to plan, document and simulate cloning experiments.\n",
    "\n",
    "* Construction of the [YEp24PGK_XK](simple examples/YEP24_PGK_XK.ipynb) vector using restriction and ligation.\n",
    "\n",
    "* Construction of the [pGUP1](simple examples/pGUP1.ipynb) sequence using _in-vivo_ homologous recombination\n",
    "\n",
    "* Assembly of the 32 [Mumberg expression vectors](mumberg 32 expression vectors/mumberg_32_vectors.ipynb)\n",
    "\n",
    "* Assembly of the [pGreenLantern-1](pGreenLantern1/pGreenLantern1.ipynb) sequence.\n",
    "\n",
    "* Expression of the [Strawberry aat gene](strawberry aat/strawberry.ipynb) in _Saccharomyces cerevisiae_ using the Yeast Pathway Kit\n",
    "\n",
    "\n",
    "## Static notebooks\n",
    "\n",
    "Static versions of the notebooks can be displayed as web pages through [nbviewer](http://nbviewer.jupyter.org/github/BjornFJohansson/pydna-examples/blob/master/index.ipynb).\n",
    "\n",
    "Example of a notebook located in a [dropbox folder](http://nbviewer.ipython.org/urls/dl.dropboxusercontent.com/u/1263722/served_from_dropbox.ipynb\n",
    "). A notebook in a public dropbox folder is not indexed by search engines such as Google. \n",
    "\n",
    "\n",
    "## Dynamic notebooks\n",
    "\n",
    "Click on the red and black \"launch binder\" image above to run the notebooks on the cloud service [Mybinder](http://mybinder.org/).\n",
    "This way notebooks can be executed online without having to install anything on the users computer.\n",
    "\n",
    "N.B. Mybinder runs on infrastructure paid for by the [Freeman lab](https://www.janelia.org/our-research/former-labs/freeman-lab).\n",
    "Please do not abuse the service. If you want to do extensive testing of these notebooks, it is better to download this repository \n",
    "and run the notebooks locally (the notebooks will also run faster).\n",
    "\n",
    "## Automatic testing\n",
    "\n",
    "[![Build Status](https://drone.io/github.com/BjornFJohansson/pydna-examples/status.png)](https://drone.io/github.com/BjornFJohansson/pydna-examples/latest)\n",
    "\n",
    "The contents of this repository is released under the MIT [Licence](License.md)\n",
    "\n",
    "Use this Digital Object Identifier (DOI) when citing this repository.\n",
    "\n",
    "[![DOI](https://zenodo.org/badge/72821267.svg)](https://zenodo.org/badge/latestdoi/72821267)"
   ]
  },
  {
   "cell_type": "markdown",
   "metadata": {
    "collapsed": false
   },
   "source": []
  }
 ],
 "metadata": {
  "anaconda-cloud": {},
  "kernelspec": {
   "display_name": "Python 3",
   "language": "python",
   "name": "python3"
  },
  "language_info": {
   "codemirror_mode": {
    "name": "ipython",
    "version": 3
   },
   "file_extension": ".py",
   "mimetype": "text/x-python",
   "name": "python",
   "nbconvert_exporter": "python",
   "pygments_lexer": "ipython3",
   "version": "3.5.2"
  }
 },
 "nbformat": 4,
 "nbformat_minor": 0
}
