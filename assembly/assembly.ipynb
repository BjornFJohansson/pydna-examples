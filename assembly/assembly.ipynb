{
 "cells": [
  {
   "cell_type": "markdown",
   "metadata": {},
   "source": [
    "# Simple example of assembly with pydna"
   ]
  },
  {
   "cell_type": "code",
   "execution_count": 1,
   "metadata": {},
   "outputs": [],
   "source": [
    "from pydna.all import *"
   ]
  },
  {
   "cell_type": "code",
   "execution_count": 2,
   "metadata": {},
   "outputs": [
    {
     "data": {
      "text/plain": [
       "3lbRRPpQjEh_wEXzw6DaCZx0VMQ"
      ]
     },
     "execution_count": 2,
     "metadata": {},
     "output_type": "execute_result"
    }
   ],
   "source": [
    "b  = Dseqrecord(\"agctactgactattaggggttattctgatcatctgatctactatctgactgtactgatcta\")\n",
    "l  = Dseqrecord(\"AGGCATCTACTG\")\n",
    "c  = Dseqrecord(\"tctgatctactatctgactgtactgatctattgacactgtgatcattctagtgtattactc\")\n",
    "(b+l+c).looped().cseguid()"
   ]
  },
  {
   "cell_type": "code",
   "execution_count": 3,
   "metadata": {},
   "outputs": [
    {
     "data": {
      "text/plain": [
       "Dseqrecord(-12)"
      ]
     },
     "execution_count": 3,
     "metadata": {},
     "output_type": "execute_result"
    }
   ],
   "source": [
    "l"
   ]
  },
  {
   "cell_type": "code",
   "execution_count": 4,
   "metadata": {},
   "outputs": [],
   "source": [
    "frags = assembly_fragments( (primer_design(b), l, primer_design(c), primer_design(b)), 1)"
   ]
  },
  {
   "cell_type": "code",
   "execution_count": 5,
   "metadata": {
    "collapsed": true
   },
   "outputs": [],
   "source": [
    "b2 = pcr(frags[-1].forward_primer, frags[0].reverse_primer, b)"
   ]
  },
  {
   "cell_type": "code",
   "execution_count": 6,
   "metadata": {},
   "outputs": [
    {
     "data": {
      "text/plain": [
       " 5agctactgactattaggggt...atctactatctgactgtactgatcta3\n",
       "                         |||||||||||||||||||||||||| tm 54.6 (dbd) 55.4\n",
       "                        3tagatgatagactgacatgactagatTCCGTAG5\n",
       "5cagctactgactattaggggt3\n",
       "  |||||||||||||||||||| tm 54.6 (dbd) 55.3\n",
       " 3tcgatgactgataatcccca...tagatgatagactgacatgactagat5"
      ]
     },
     "execution_count": 6,
     "metadata": {},
     "output_type": "execute_result"
    }
   ],
   "source": [
    "b2.figure()"
   ]
  },
  {
   "cell_type": "code",
   "execution_count": 7,
   "metadata": {},
   "outputs": [
    {
     "data": {
      "text/plain": [
       "       5tctgatctactatctgactgtact...tgtgatcattctagtgtattactc3\n",
       "                                   |||||||||||||||||||||||| tm 52.9 (dbd) 55.8\n",
       "                                  3acactagtaagatcacataatgagt5\n",
       "5TCTACTGtctgatctactatctgactgtact3\n",
       "        |||||||||||||||||||||||| tm 54.6 (dbd) 54.8\n",
       "       3agactagatgatagactgacatga...acactagtaagatcacataatgag5"
      ]
     },
     "execution_count": 7,
     "metadata": {},
     "output_type": "execute_result"
    }
   ],
   "source": [
    "frags[1].figure()"
   ]
  },
  {
   "cell_type": "code",
   "execution_count": 8,
   "metadata": {},
   "outputs": [
    {
     "data": {
      "text/plain": [
       "Assembly:\n",
       "Sequences........................: [69] [69]\n",
       "Sequences with shared homologies.: [69] [69]\n",
       "Homology limit (bp)..............: 1\n",
       "Number of overlaps...............: 2\n",
       "Nodes in graph(incl. 5' & 3')....: 4\n",
       "Only terminal overlaps...........: Yes\n",
       "Circular products................: [134]\n",
       "Linear products..................: [136] [136] [2] [2]"
      ]
     },
     "execution_count": 8,
     "metadata": {},
     "output_type": "execute_result"
    }
   ],
   "source": [
    "asm2 = Assembly( (b2, frags[1]), limit=1, only_terminal_overlaps=True)\n",
    "asm2"
   ]
  },
  {
   "cell_type": "code",
   "execution_count": 9,
   "metadata": {},
   "outputs": [
    {
     "data": {
      "text/plain": [
       "3lbRRPpQjEh_wEXzw6DaCZx0VMQ"
      ]
     },
     "execution_count": 9,
     "metadata": {},
     "output_type": "execute_result"
    }
   ],
   "source": [
    "asm2.circular_products[0].cseguid()"
   ]
  },
  {
   "cell_type": "code",
   "execution_count": 10,
   "metadata": {},
   "outputs": [
    {
     "data": {
      "text/plain": [
       " -|69bp_PCR_prod| 2\n",
       "|                \\/\n",
       "|                /\\\n",
       "|                 2|69bp_PCR_prod| 2\n",
       "|                                 \\/\n",
       "|                                 /\\\n",
       "|                                  2-\n",
       "|                                    |\n",
       " ------------------------------------"
      ]
     },
     "execution_count": 10,
     "metadata": {},
     "output_type": "execute_result"
    }
   ],
   "source": [
    "asm2.circular_products[0].figure()"
   ]
  },
  {
   "cell_type": "code",
   "execution_count": 11,
   "metadata": {},
   "outputs": [],
   "source": [
    "frags = assembly_fragments( (b, l, primer_design(c)), 1)"
   ]
  },
  {
   "cell_type": "code",
   "execution_count": 12,
   "metadata": {},
   "outputs": [
    {
     "data": {
      "text/plain": [
       "[Dseqrecord(-61), Amplicon(74)]"
      ]
     },
     "execution_count": 12,
     "metadata": {},
     "output_type": "execute_result"
    }
   ],
   "source": [
    "frags"
   ]
  },
  {
   "cell_type": "code",
   "execution_count": 13,
   "metadata": {},
   "outputs": [
    {
     "data": {
      "text/plain": [
       "Dseq(-61)\n",
       "agct..tcta\n",
       "tcga..agat"
      ]
     },
     "execution_count": 13,
     "metadata": {},
     "output_type": "execute_result"
    }
   ],
   "source": [
    "frags[0].seq"
   ]
  },
  {
   "cell_type": "code",
   "execution_count": 14,
   "metadata": {},
   "outputs": [
    {
     "data": {
      "text/plain": [
       "             5tctgatctactatctgactgtact...tgtgatcattctagtgtattactc3\n",
       "                                         |||||||||||||||||||||||| tm 52.9 (dbd) 55.8\n",
       "                                        3acactagtaagatcacataatgag5\n",
       "5aAGGCATCTACTGtctgatctactatctgactgtact3\n",
       "              |||||||||||||||||||||||| tm 54.6 (dbd) 54.8\n",
       "             3agactagatgatagactgacatga...acactagtaagatcacataatgag5"
      ]
     },
     "execution_count": 14,
     "metadata": {},
     "output_type": "execute_result"
    }
   ],
   "source": [
    "frags[1].figure()"
   ]
  }
 ],
 "metadata": {
  "anaconda-cloud": {},
  "kernelspec": {
   "display_name": "Python 3",
   "language": "python",
   "name": "python3"
  },
  "language_info": {
   "codemirror_mode": {
    "name": "ipython",
    "version": 3
   },
   "file_extension": ".py",
   "mimetype": "text/x-python",
   "name": "python",
   "nbconvert_exporter": "python",
   "pygments_lexer": "ipython3",
   "version": "3.5.2"
  }
 },
 "nbformat": 4,
 "nbformat_minor": 1
}
