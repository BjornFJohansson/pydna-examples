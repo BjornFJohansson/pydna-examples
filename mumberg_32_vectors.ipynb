{
 "cells": [
  {
   "cell_type": "markdown",
   "metadata": {},
   "source": [
    "# Mumberg 32 expression vectors\n",
    "\n",
    "This pydna notebook automatically assembles the sequences of the 32 expression \n",
    "vectors described in\n",
    "\n",
    "[Mumberg,D., Müller,R. and Funk,M. (1995) Yeast vectors for the controlled \n",
    "expression of heterologous proteins in different genetic backgrounds. \n",
    "Gene, 156, 119–122.](http://www.sciencedirect.com/science/article/pii/0378111995000377)\n",
    "\n",
    "\n",
    "These plasmids were made from the pRS series of yeast vectors.\n",
    "\n",
    "a [XhoI - KpnI fragment of the ScCYC1 terminator] was cloned using the same sites in pRS416\n",
    "resulting in p416CYC1t\n",
    "\n",
    "PCR generated SacI - XbaI promoter fragments of  ScTDH3pr, ScTEF1pr, ScADH1pr and ScCYC1pr promoters \n",
    "were cloned using the same sites resulting in:\n",
    "\n",
    "    p416GPD sequenced SacI,XbaI,XhoI,KpnI are unique\n",
    "    p416TEF sequenced SacI,XbaI,XhoI,KpnI are unique\n",
    "    p416ADH\n",
    "    p416CYC sequenced SacI,XbaI,KpnI are unique\n",
    "\n",
    "The SacI - KpnI promoter + terminator fragment was transferred to other pRS vectors using a strategy that is \n",
    "undisclosed in the paper. \n",
    "\n",
    "    ScTDH3pr-ScCYC1t\n",
    "    ScTEF1pr-ScCYC1t\n",
    "    ScADH1pr-ScCYC1t\n",
    "    ScCYC1pr-ScCYC1t\n",
    "\n",
    "Probably SacI - KpnI were used. In the case of pRS423 and pRS425, there are \n",
    "two KpnI sites, so maybe a partial cut was used?\n",
    "\n",
    "                            this part is the opposite direction in the paper (this version here is correct!)\n",
    "                               <--------------->\n",
    "    mcs:\n",
    "         7 SpeI      19 SmaI     31 EcoRI    43 HindIII           64 XhoI\n",
    "    1 XbaI      13 BamHI    25 PstI     37 EcoRV    49 ClaI  58 SalI\n",
    "    |     |     |     |     |     |     |     |     |        |     |     \n",
    "    TCTAGAACTAGTGGATCCCCCGGGCTGCAGGAATTCGATATCAAGCTTATCGATACCGTCGACCTCGAG\n",
    "    TCTAGAACTAGTGGATCCCCCGGGCTGCAGC...|\n",
    "                              ---------\n",
    "                              |...GAATTCGATATCAAGCTTATCGATACCGTCG\t\t\t    \n",
    "\t\t\n",
    "\n",
    "\t\t\t\t\t\t\t\t\t\t\t\t\t   \n",
    "    TCTAGAACTAGTGGATCCCCCGGGCTGCAGAatggttttcggtaacaggca\n",
    "\n",
    "           ccgttcggtctttagatagttaaGAATTCGATATCAAGCTTATCGATACCGTCGACCTCGAG\n",
    "\n",
    "    >primerfw\n",
    "    TCTAGAACTAGTGGATCCCCCGGGCTGCAGA...\n",
    "    >primerrev\n",
    "    CGACGGTATCGATAAGCTTGATATCGAATTC...\n",
    "\n",
    "                XbaI SpeI BamHI SmaI PstI EcoRI\tEcoRV HindIII ClaI SalI XhoI\n",
    "\n",
    "    p413 HIS3\tXbaI SpeI BamHI SmaI      EcoRI EcoRV         ClaI SalI XhoI\n",
    "    p414 TRP1\tXbaI SpeI BamHI SmaI PstI EcoRI               ClaI SalI XhoI\n",
    "    p415 LEU2\tXbaI SpeI BamHI SmaI PstI             HindIII      SalI XhoI\n",
    "    p416 URA3\tXbaI SpeI BamHI SmaI      EcoRI       HindIII ClaI SalI XhoI\n",
    "\n",
    "    p423 HIS3 \t     SpeI BamHI SmaI \t  EcoRI\tEcoRV         ClaI SalI XhoI\n",
    "    p424 TRP1        SpeI BamHI SmaI PstI EcoRI               ClaI SalI XhoI\n",
    "    p425 LEU2        SpeI BamHI SmaI PstI       \t  HindIII      SalI XhoI\n",
    "    p426 URA3        SpeI BamHI SmaI      EcoRI       HindIII ClaI SalI XhoI\n",
    "\n",
    "XbaI only unique in   p41XXXX (All centromeric vectors, but no episomal vectors)\n",
    "XhoI is not unique in p4XXCYC1 (any vector with ScCYC1 promoter)\n",
    "\n",
    "    M#  vector\t\t\tori         marker\n",
    "    --  -------  \n",
    "    M1\tp413GPD         CEN6/ARSH4 \tHIS3\n",
    "    M2\tp423GPD \t\t2 um\t\tHIS3\n",
    "    M3\tp414GPD \t\tCEN6/ARSH4 \tTRP1\n",
    "    M4\tp424GPD \t\t2 um\t\tTRP1\n",
    "    M5\tp415GPD \t\tCEN6/ARSH4 \tLEU2\n",
    "    M6\tp425GPD \t\t2 um\t\tLEU2\n",
    "    M7\tp416GPD \t\tCEN6/ARSH4 \tURA3 http://www.ncbi.nlm.nih.gov/nuccore/82548122\n",
    "    M8\tp426GPD \t\t2 um\t\tURA3 http://www.ncbi.nlm.nih.gov/nuccore/76496266\n",
    "    M9\tp413TEF \t\tCEN6/ARSH4 \tHIS3\n",
    "    M10\tp423TEF \t\t2 um\t\tHIS3\n",
    "    M11\tp414TEF \t\tCEN6/ARSH4 \tTRP1\n",
    "    M12\tp424TEF \t\t2 um\t\tTRP1\n",
    "    M13\tp415TEF \t\tCEN6/ARSH4 \tLEU2\n",
    "    M14\tp425TEF \t\t2 um\t\tLEU2\n",
    "    M15\tp416TEF \t\tCEN6/ARSH4 \tURA3 http://www.ncbi.nlm.nih.gov/nuccore/124365231\n",
    "    M16\tp426TEF \t\t2 um\t\tURA3 assemb\n",
    "    M17\tp413ADH \t\tCEN6/ARSH4 \tHIS3\n",
    "    M18\tp423ADH \t\t2 um\t\tHIS3\n",
    "    M19\tp414ADH \t\tCEN6/ARSH4 \tTRP1\n",
    "    M20\tp424ADH \t\t2 um\t\tTRP1\n",
    "    M21\tp415ADH \t\tCEN6/ARSH4 \tLEU2\n",
    "    M22\tp425ADH \t\t2 um\t\tLEU2 <-not sold from ATCC\n",
    "    M23\tp416ADH \t\tCEN6/ARSH4 \tURA3\n",
    "    M24\tp426ADH \t\t2 um\t\tURA3\n",
    "    M25\tp413CYC \t\tCEN6/ARSH4 \tHIS3\n",
    "    M26\tp423CYC \t\t2 um\t\tHIS3\n",
    "    M27\tp414CYC \t\tCEN6/ARSH4 \tTRP1\n",
    "    M28\tp424CYC \t\t2 um\t\tTRP1\n",
    "    M29\tp415CYC \t\tCEN6/ARSH4 \tLEU2\n",
    "    M30\tp425CYC \t\t2 um\t\tLEU2\n",
    "    M31\tp416CYC \t\tCEN6/ARSH4 \tURA3 sequenced\n",
    "    M32\tp426CYC\t\t    2 um\t\tURA3"
   ]
  },
  {
   "cell_type": "code",
   "execution_count": 11,
   "metadata": {
    "collapsed": true
   },
   "outputs": [],
   "source": [
    "import pydna\n",
    "gb = pydna.Genbank(\"bjornjobb@gmail.com\")\n",
    "\n",
    "# The DNA fragments below were obtained from Saccharomyces Genome Database\n",
    "# www.sgd.org\n",
    "\n",
    "\n",
    "cyc1term = pydna.Dseqrecord(\"ctcgagtcatgtaattagttatgtcacgcttacattcacgccctccccccacat\"\n",
    "                            \"ccgctctaaccgaaaaggaaggagttagacaacctgaagtctaggtccctattt\"\n",
    "                            \"atttttttatagttatgttagtattaagaacgttatttatatttcaaatttttc\"\n",
    "                            \"ttttttttctgtacagacgcgtgtacgcatgtaacattatactgaaaaccttgc\"\n",
    "                            \"ttgagaaggttttgggacgctcgaaggctttaatttgcggccggtaccn\")\n",
    "\n",
    "tefprom = pydna.Dseqrecord(\"gagctcatagcttcaaaatgtttctactccttttttactcttccagattttctcgga\"\n",
    "                           \"ctccgcgcatcgccgtaccacttcaaaacacccaagcacagcatactaaatttcccc\"\n",
    "                           \"tctttcttcctctagggtgtcgttaattacccgtactaaaggtttggaaaagaaaaa\"\n",
    "                           \"agagaccgcctcgtttctttttcttcgtcgaaaaaggcaataaaaatttttatcacg\"\n",
    "                           \"tttctttttcttgaaaattttttttttgatttttttctctttcgatgacctcccatt\"\n",
    "                           \"gatatttaagttaataaacggtcttcaatttctcaagtttcagtttcatttttcttg\"\n",
    "                           \"ttctattacaactttttttacttcttgctcattagaaagaaagcatagcaatctaat\"\n",
    "                           \"ctaagttttctaga\")\n",
    "\n",
    "cycprom = pydna.Dseqrecord(\"gagctcatttggcgagcgttggttggtggatcaagcccacgcgtaggcaatcctcga\"\n",
    "                           \"gcagatccgccaggcgtgtatatatagcgtggatggccaggcaactttagtgctgac\"\n",
    "                           \"acatacaggcatatatatatgtgtgcgacgacacatgatcatatggcatgcatgtgc\"\n",
    "                           \"tctgtatgtatataaaactcttgttttcttcttttctctaaatattctttccttata\"\n",
    "                           \"cattaggacctttgcagcataaattactatacttctatagacacgcaaacacaaata\"\n",
    "                           \"cacacactaatctaga\")\n",
    "\n",
    "adhprom = pydna.Dseqrecord(\"gagctcTAAAACAAGAAGAGGGTTGACTACATCACGATGAGGGGGATCGAAGAAATG\"\n",
    "                           \"ATGGTAAATGAAATAGGAAATCAAGGAGCATGAAGGCAAAAGACAAATATAAGGGTC\"\n",
    "                           \"GAACGAAAAATAAAGTGAAAAGTGTTGATATGATGTATTTGGCTTTGCGGCGCCGAA\"\n",
    "                           \"AAAACGAGTTTACGCAATTGCACAATCATGCTGACTCTGTGGCGGACCCGCGCTCTT\"\n",
    "                           \"GCCGGCCCGGCGATAACGCTGGGCGTGAGGCTGTGCCCGGCGGAGTTTTTTGCGCCT\"\n",
    "                           \"GCATTTTCCAAGGTTTACCCTGCGCTAAGGGGCGAGATTGGAGAAGCAATAAGAATG\"\n",
    "                           \"CCGGTTGGGGTTGCGATGATGACGACCACGACAACTGGTGTCATTATTTAAGTTGCC\"\n",
    "                           \"GAAAGAACCTGAGTGCATTTGCAACATGAGTATACTAGAAGAATGAGCCAAGACTTG\"\n",
    "                           \"CGAGACGCGAGTTTGCCGGTGGTGCGAACAATAGAGCGACCATGACCTTGAAGGTGA\"\n",
    "                           \"GACGCGCATAACCGCTAGAGTACTTTGAAGAGGAAACAGCAATAGGGTTGCTACCAG\"\n",
    "                           \"TATAAATAGACAGGTACATACAACACTGGAAATGGTTGTCTGTTTGAGTACGCTTTC\"\n",
    "                           \"AATTCATTTGGGTGTGCACTTTATTATGTTACAATATGGAAGGGAACTTTACACTTC\"\n",
    "                           \"TCCTATGCACATATATTAATTAAAGTCCAATGCTAGTAGAGAAGGGGGGTAACACCC\"\n",
    "                           \"CTCCGCGCTCTTTTCCGATTTTTTTCTAAACCGTGGAATATTTCGGATATCCTTTTG\"\n",
    "                           \"TTGTTTCCGGGTGTACAATATGGACTTCCTCTTTTCTGGCAACCAAACCCATACATC\"\n",
    "                           \"GGGATTCCTATAATACCTTCGTTGGTCTCCCTAACATGTAGGTGGCGGAGGGGAGAT\"\n",
    "                           \"ATACAATAGAACAGATACCAGACAAGACATAATGGGCTAAACAAGACTACACCAATT\"\n",
    "                           \"ACACTGCCTCATTGATGGTGGTACATAACGAACTAATACTGTAGCCCTAGACTTGAT\"\n",
    "                           \"AGCCATCATCATATCGAAGTTTCACTACCCTTTTTCCATTTGCCATCTATTGAAGTA\"\n",
    "                           \"ATAATAGGCGCATGCAACTTCTTTTCTTTTTTTTTCTTTTCTCTCTCCCCCGTTGTT\"\n",
    "                           \"GTCTCACCATATCCGCAATGACAAAAAAATGATGGAAGACACTAAAGGAAAAAATTA\"\n",
    "                           \"ACGACAAAGACAGCACCAACAGATGTCGTTGTTCCAGAGCTGATGAGGGGTATCTCG\"\n",
    "                           \"AAGCACACGAAACTTTTTCCTTCCTTCATTCACGCACACTACTCTCTAATGAGCAAC\"\n",
    "                           \"GGTATACGGCCTTCCTTCCAGTTACTTGAATTTGAAATAAAAAAAAGTTTGCTGTCT\"\n",
    "                           \"TGCTATCAAGTATAAATAGACCTGCAATTATTAATCTTTTGTTTCCTCGTCATTGTT\"\n",
    "                           \"CTCGTTCCCTTTCTTCCTTGTTTCTTTTTCTGCACAATATTTCAAGCTATACCAAGC\"\n",
    "                           \"ATACAATCAACTATCTCATATACAtctaga\")\n",
    "\n",
    "gpdprom = pydna.Dseqrecord(\"gagctcagtttatcattatcaatactcgccatttcaaagaatacgtaaataattaat\"\n",
    "                           \"agtagtgattttcctaactttatttagtcaaaaaattagccttttaattctgctgta\"\n",
    "                           \"acccgtacatgcccaaaatagggggcgggttacacagaatatataacatcgtaggtg\"\n",
    "                           \"tctgggtgaacagtttattcctggcatccactaaatataatggagcccgctttttaa\"\n",
    "                           \"gctggcatccagaaaaaaaaagaatcccagcaccaaaatattgttttcttcaccaac\"\n",
    "                           \"catcagttcataggtccattctcttagcgcaactacagagaacaggggcacaaacag\"\n",
    "                           \"gcaaaaaacgggcacaacctcaatggagtgatgcaacctgcctggagtaaatgatga\"\n",
    "                           \"cacaaggcaattgacccacgcatgtatctatctcattttcttacaccttctattacc\"\n",
    "                           \"ttctgctctctctgatttggaaaaagctgaaaaaaaaggttgaaaccagttccctga\"\n",
    "                           \"aattattcccctacttgactaataagtatataaagacggtaggtattgattgtaatt\"\n",
    "                           \"ctgtaaatctatttcttaaacttcttaaattctacttttatagttagtctttttttt\"\n",
    "                           \"agttttaaaacaccagaacttagtttcgacggattctaga\")"
   ]
  },
  {
   "cell_type": "code",
   "execution_count": 12,
   "metadata": {
    "collapsed": false
   },
   "outputs": [],
   "source": [
    "from Bio.Restriction import XhoI, KpnI, SacI, XbaI\n",
    "\n",
    "# The Mumberg vectors depend on these pRS plasmids\n",
    "\n",
    "pRS413 = gb.nucleotide(\"U03447\")\n",
    "pRS414 = gb.nucleotide(\"U03448\")\n",
    "pRS415 = gb.nucleotide(\"U03449\")\n",
    "pRS416 = gb.nucleotide(\"U03450\")\n",
    "\n",
    "pRS423 = gb.nucleotide(\"U03454\")\n",
    "pRS424 = gb.nucleotide(\"U03453\")\n",
    "pRS425 = gb.nucleotide(\"U03452\")\n",
    "pRS426 = gb.nucleotide(\"U03451\")"
   ]
  },
  {
   "cell_type": "code",
   "execution_count": 13,
   "metadata": {
    "collapsed": true
   },
   "outputs": [],
   "source": [
    "# The CYC1 terminator was cloned in pRS416 using XhoI and KpnI\n",
    "\n",
    "p416cyc1term = ( pRS416.cut(XhoI, KpnI).pop(0).rc() + cyc1term.cut(XhoI, KpnI)[1] ).looped()\n",
    "\n",
    "# The p416cyc1term was opened using SacI and XbaI\n",
    "\n",
    "bb, stuffer = p416cyc1term.cut(SacI, XbaI)\n",
    "\n",
    "# Each promoter was cloned in front of the CYC1 terminator\n",
    "\n",
    "\n",
    "p416GPD = ( bb + gpdprom.cut(SacI, XbaI)[1] ).looped().synced(\"gacgaaagggcctcgtgatacgccta\")\n",
    "p416TEF = ( bb + tefprom.cut(SacI, XbaI)[1] ).looped().synced(\"gacgaaagggcctcgtgatacgccta\")\n",
    "p416ADH = ( bb + adhprom.cut(SacI, XbaI)[1] ).looped().synced(\"gacgaaagggcctcgtgatacgccta\")\n",
    "p416CYC = ( bb + cycprom.cut(SacI, XbaI)[1] ).looped().synced(\"gacgaaagggcctcgtgatacgccta\")"
   ]
  },
  {
   "cell_type": "code",
   "execution_count": 14,
   "metadata": {
    "collapsed": false
   },
   "outputs": [
    {
     "data": {
      "text/markdown": [
       "### [mumberg/p416GPD](mumberg/p416GPD.gb)"
      ],
      "text/plain": [
       "<IPython.core.display.Markdown object>"
      ]
     },
     "execution_count": 14,
     "metadata": {},
     "output_type": "execute_result"
    }
   ],
   "source": [
    "# Write the first four plamids to files \n",
    "\n",
    "p416GPD.write(\"mumberg/p416GPD.gb\")"
   ]
  },
  {
   "cell_type": "code",
   "execution_count": 15,
   "metadata": {
    "collapsed": false
   },
   "outputs": [
    {
     "data": {
      "text/markdown": [
       "### [mumberg/p416TEF](mumberg/p416TEF.gb)"
      ],
      "text/plain": [
       "<IPython.core.display.Markdown object>"
      ]
     },
     "execution_count": 15,
     "metadata": {},
     "output_type": "execute_result"
    }
   ],
   "source": [
    "p416TEF.write(\"mumberg/p416TEF.gb\")"
   ]
  },
  {
   "cell_type": "code",
   "execution_count": 16,
   "metadata": {
    "collapsed": false
   },
   "outputs": [
    {
     "data": {
      "text/markdown": [
       "### [mumberg/p416ADH](mumberg/p416ADH.gb)"
      ],
      "text/plain": [
       "<IPython.core.display.Markdown object>"
      ]
     },
     "execution_count": 16,
     "metadata": {},
     "output_type": "execute_result"
    }
   ],
   "source": [
    "p416ADH.write(\"mumberg/p416ADH.gb\")"
   ]
  },
  {
   "cell_type": "code",
   "execution_count": 17,
   "metadata": {
    "collapsed": false
   },
   "outputs": [
    {
     "data": {
      "text/markdown": [
       "### [mumberg/p416CYC](mumberg/p416CYC.gb)"
      ],
      "text/plain": [
       "<IPython.core.display.Markdown object>"
      ]
     },
     "execution_count": 17,
     "metadata": {},
     "output_type": "execute_result"
    }
   ],
   "source": [
    "p416CYC.write(\"mumberg/p416CYC.gb\")"
   ]
  },
  {
   "cell_type": "code",
   "execution_count": 18,
   "metadata": {
    "collapsed": true
   },
   "outputs": [],
   "source": [
    "# cut out each type of promoter\n",
    "\n",
    "gpdcyc  = p416GPD.cut(SacI, KpnI).pop()\n",
    "gpdcyc.name = \"GPD\"\n",
    "tefcyc  = p416TEF.cut(SacI, KpnI).pop()\n",
    "tefcyc.name = \"TEF\"\n",
    "adhcyc  = p416ADH.cut(SacI, KpnI).pop()\n",
    "adhcyc.name = \"ADH\"\n",
    "cyccyc  = p416CYC.cut(SacI, KpnI).pop()\n",
    "cyccyc.name = \"CYC\""
   ]
  },
  {
   "cell_type": "code",
   "execution_count": 19,
   "metadata": {
    "collapsed": false
   },
   "outputs": [],
   "source": [
    "import os\n",
    "from IPython.display import FileLink\n",
    "\n",
    "cassettes = [ gpdcyc, tefcyc, adhcyc, cyccyc ]\n",
    "pRS       = [ pRS413, pRS423, pRS414, pRS424, pRS415, pRS425, pRS426 ]\n",
    "             \n",
    "for cassette in cassettes:\n",
    "    for v in pRS: \n",
    "        pl = (v.cut(SacI, KpnI).pop(0).rc() + cassette ).looped().synced(\"gacgaaagggcctcgtgatacgccta\")\n",
    "        new_name = \"p{no}{prom}.gb\".format(no = v.name[3:], prom = cassette.name)\n",
    "        pl.write(os.path.join(\"mumberg\", new_name))\n",
    "        if new_name ==\"p426GPD.gb\":\n",
    "            p426GPD=pl"
   ]
  },
  {
   "cell_type": "markdown",
   "metadata": {},
   "source": [
    "## DOWNLOAD\n",
    "\n",
    "[p413GPD](mumberg/p413GPD.gb)\n",
    "[p423GPD](mumberg/p423GPD.gb)\n",
    "[p414GPD](mumberg/p414GPD.gb)\n",
    "[p424GPD](mumberg/p424GPD.gb)\n",
    "[p415GPD](mumberg/p415GPD.gb)\n",
    "[p425GPD](mumberg/p425GPD.gb)\n",
    "[p426GPD](mumberg/p426GPD.gb)\n",
    "\n",
    "[p413TEF](mumberg/p413TEF.gb)\n",
    "[p423TEF](mumberg/p423TEF.gb)\n",
    "[p414TEF](mumberg/p414TEF.gb)\n",
    "[p424TEF](mumberg/p424TEF.gb)\n",
    "[p415TEF](mumberg/p415TEF.gb)\n",
    "[p425TEF](mumberg/p425TEF.gb)\n",
    "[p426TEF](mumberg/p426TEF.gb)\n",
    "\n",
    "[p413ADH](mumberg/p413ADH.gb)\n",
    "[p423ADH](mumberg/p423ADH.gb)\n",
    "[p414ADH](mumberg/p414ADH.gb)\n",
    "[p424ADH](mumberg/p424ADH.gb)\n",
    "[p415ADH](mumberg/p415ADH.gb)\n",
    "[p425ADH](mumberg/p425ADH.gb)\n",
    "[p426ADH](mumberg/p426ADH.gb)\n",
    "\n",
    "[p413CYC](mumberg/p413CYC.gb)\n",
    "[p423CYC](mumberg/p423CYC.gb)\n",
    "[p414CYC](mumberg/p414CYC.gb)\n",
    "[p424CYC](mumberg/p424CYC.gb)\n",
    "[p415CYC](mumberg/p415CYC.gb)\n",
    "[p425CYC](mumberg/p425CYC.gb)\n",
    "[p426CYC](mumberg/p426CYC.gb)"
   ]
  },
  {
   "cell_type": "code",
   "execution_count": 20,
   "metadata": {
    "collapsed": true
   },
   "outputs": [],
   "source": [
    "# download four of the sequences available from genbank\n",
    "\n",
    "p416GPD_genbank = gb.nucleotide(\"DQ269148\")\n",
    "p426GPD_genbank = gb.nucleotide(\"DQ019861\").looped() # This Genbank record is linear, should be circular.\n",
    "p416TEF_genbank = gb.nucleotide(\"EF210199\")\n",
    "p416CYC_genbank = gb.nucleotide(\"EF210198\")"
   ]
  },
  {
   "cell_type": "code",
   "execution_count": 21,
   "metadata": {
    "collapsed": false
   },
   "outputs": [],
   "source": [
    "# verify that the sequences made here and the ones \n",
    "# available from genbank are equivalent\n",
    "\n",
    "assert pydna.eq(p416GPD_genbank, p416GPD)\n",
    "assert pydna.eq(p416TEF_genbank, p416TEF)\n",
    "assert pydna.eq(p416CYC_genbank, p416CYC)\n",
    "assert pydna.eq(p426GPD_genbank, p426GPD)"
   ]
  }
 ],
 "metadata": {
  "anaconda-cloud": {},
  "kernelspec": {
   "display_name": "Python 3",
   "language": "python",
   "name": "python3"
  },
  "language_info": {
   "codemirror_mode": {
    "name": "ipython",
    "version": 3
   },
   "file_extension": ".py",
   "mimetype": "text/x-python",
   "name": "python",
   "nbconvert_exporter": "python",
   "pygments_lexer": "ipython3",
   "version": "3.5.2"
  }
 },
 "nbformat": 4,
 "nbformat_minor": 0
}
