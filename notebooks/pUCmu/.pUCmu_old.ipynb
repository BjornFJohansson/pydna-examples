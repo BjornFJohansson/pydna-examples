{
 "cells": [
  {
   "cell_type": "code",
   "execution_count": 1,
   "metadata": {
    "collapsed": true
   },
   "outputs": [],
   "source": [
    "from io import StringIO\n",
    "import numpy as np"
   ]
  },
  {
   "cell_type": "code",
   "execution_count": 2,
   "metadata": {
    "collapsed": true
   },
   "outputs": [],
   "source": [
    "primers = \"\"\"\n",
    "PUC18-dLacZ-F gccgttaacccatggccaagcttgcatgcctgcaggtcg \n",
    "pUC18-dLacZ-R ccatatggcctcgcgacgcgttatgtatccgctcatgag\n",
    "pUCmini-F gtgggcccgtttaaacacatgtgagcaaaaggccag\n",
    "PUCmini-R tagtctcgaggatatccgaattcgagctcggtac\n",
    "pUCmu-F taccaatgcttaatcagtgaggca\n",
    "pUCmu-R agtagaaaagatcaaaggatcttct\n",
    "pUcReFix-F attagctcgagactagtgggcccgtttaaacacatgtgtttttccataggctccg\n",
    "pUcReFix-R ctaatctcgaggatatccgaattcgagctcggtacccgggatcctctagagtcgacctg\n",
    "pICOz-dAMP-F ttcgtggccgaggagcaggactgacgtagaaaagatcaaaggatctt\n",
    "pICOz-dAMP-R aacggcactggtcaacttggccatactcttcctttttcaatattat\n",
    "PICOz-Zeo-F ataatattgaaaaaggaagagtatggccaagttgaccagtgccgtt\n",
    "pICOz-Zeo-R aagatcctttgatcttttctacgtcagtcctgctcctcggccacgaa\"\"\""
   ]
  },
  {
   "cell_type": "code",
   "execution_count": 4,
   "metadata": {},
   "outputs": [
    {
     "data": {
      "text/plain": [
       "array([['PUC18-dLacZ-F', 'gccgttaacccatggccaagcttgcatgcctgcaggtcg'],\n",
       "       ['pUC18-dLacZ-R', 'ccatatggcctcgcgacgcgttatgtatccgctcatgag'],\n",
       "       ['pUCmini-F', 'gtgggcccgtttaaacacatgtgagcaaaaggccag'],\n",
       "       ['PUCmini-R', 'tagtctcgaggatatccgaattcgagctcggtac'],\n",
       "       ['pUCmu-F', 'taccaatgcttaatcagtgaggca'],\n",
       "       ['pUCmu-R', 'agtagaaaagatcaaaggatcttct'],\n",
       "       ['pUcReFix-F',\n",
       "        'attagctcgagactagtgggcccgtttaaacacatgtgtttttccataggctccg'],\n",
       "       ['pUcReFix-R',\n",
       "        'ctaatctcgaggatatccgaattcgagctcggtacccgggatcctctagagtcgacctg'],\n",
       "       ['pICOz-dAMP-F',\n",
       "        'ttcgtggccgaggagcaggactgacgtagaaaagatcaaaggatctt'],\n",
       "       ['pICOz-dAMP-R', 'aacggcactggtcaacttggccatactcttcctttttcaatattat'],\n",
       "       ['PICOz-Zeo-F', 'ataatattgaaaaaggaagagtatggccaagttgaccagtgccgtt'],\n",
       "       ['pICOz-Zeo-R', 'aagatcctttgatcttttctacgtcagtcctgctcctcggccacgaa']],\n",
       "      dtype='<U59')"
      ]
     },
     "execution_count": 4,
     "metadata": {},
     "output_type": "execute_result"
    }
   ],
   "source": [
    "np.loadtxt(StringIO(primers), dtype=str)"
   ]
  },
  {
   "cell_type": "code",
   "execution_count": 5,
   "metadata": {
    "collapsed": true
   },
   "outputs": [],
   "source": [
    "import pandas as pd"
   ]
  },
  {
   "cell_type": "code",
   "execution_count": 6,
   "metadata": {},
   "outputs": [
    {
     "data": {
      "text/html": [
       "<div>\n",
       "<style scoped>\n",
       "    .dataframe tbody tr th:only-of-type {\n",
       "        vertical-align: middle;\n",
       "    }\n",
       "\n",
       "    .dataframe tbody tr th {\n",
       "        vertical-align: top;\n",
       "    }\n",
       "\n",
       "    .dataframe thead th {\n",
       "        text-align: right;\n",
       "    }\n",
       "</style>\n",
       "<table border=\"1\" class=\"dataframe\">\n",
       "  <thead>\n",
       "    <tr style=\"text-align: right;\">\n",
       "      <th></th>\n",
       "      <th>PUC18-dLacZ-F gccgttaacccatggccaagcttgcatgcctgcaggtcg</th>\n",
       "    </tr>\n",
       "  </thead>\n",
       "  <tbody>\n",
       "    <tr>\n",
       "      <th>0</th>\n",
       "      <td>pUC18-dLacZ-R ccatatggcctcgcgacgcgttatgtatccgc...</td>\n",
       "    </tr>\n",
       "    <tr>\n",
       "      <th>1</th>\n",
       "      <td>pUCmini-F gtgggcccgtttaaacacatgtgagcaaaaggccag</td>\n",
       "    </tr>\n",
       "    <tr>\n",
       "      <th>2</th>\n",
       "      <td>PUCmini-R tagtctcgaggatatccgaattcgagctcggtac</td>\n",
       "    </tr>\n",
       "    <tr>\n",
       "      <th>3</th>\n",
       "      <td>pUCmu-F taccaatgcttaatcagtgaggca</td>\n",
       "    </tr>\n",
       "    <tr>\n",
       "      <th>4</th>\n",
       "      <td>pUCmu-R agtagaaaagatcaaaggatcttct</td>\n",
       "    </tr>\n",
       "    <tr>\n",
       "      <th>5</th>\n",
       "      <td>pUcReFix-F attagctcgagactagtgggcccgtttaaacacat...</td>\n",
       "    </tr>\n",
       "    <tr>\n",
       "      <th>6</th>\n",
       "      <td>pUcReFix-R ctaatctcgaggatatccgaattcgagctcggtac...</td>\n",
       "    </tr>\n",
       "    <tr>\n",
       "      <th>7</th>\n",
       "      <td>pICOz-dAMP-F ttcgtggccgaggagcaggactgacgtagaaaa...</td>\n",
       "    </tr>\n",
       "    <tr>\n",
       "      <th>8</th>\n",
       "      <td>pICOz-dAMP-R aacggcactggtcaacttggccatactcttcct...</td>\n",
       "    </tr>\n",
       "    <tr>\n",
       "      <th>9</th>\n",
       "      <td>PICOz-Zeo-F ataatattgaaaaaggaagagtatggccaagttg...</td>\n",
       "    </tr>\n",
       "    <tr>\n",
       "      <th>10</th>\n",
       "      <td>pICOz-Zeo-R aagatcctttgatcttttctacgtcagtcctgct...</td>\n",
       "    </tr>\n",
       "  </tbody>\n",
       "</table>\n",
       "</div>"
      ],
      "text/plain": [
       "   PUC18-dLacZ-F gccgttaacccatggccaagcttgcatgcctgcaggtcg \n",
       "0   pUC18-dLacZ-R ccatatggcctcgcgacgcgttatgtatccgc...    \n",
       "1      pUCmini-F gtgggcccgtttaaacacatgtgagcaaaaggccag    \n",
       "2        PUCmini-R tagtctcgaggatatccgaattcgagctcggtac    \n",
       "3                    pUCmu-F taccaatgcttaatcagtgaggca    \n",
       "4                   pUCmu-R agtagaaaagatcaaaggatcttct    \n",
       "5   pUcReFix-F attagctcgagactagtgggcccgtttaaacacat...    \n",
       "6   pUcReFix-R ctaatctcgaggatatccgaattcgagctcggtac...    \n",
       "7   pICOz-dAMP-F ttcgtggccgaggagcaggactgacgtagaaaa...    \n",
       "8   pICOz-dAMP-R aacggcactggtcaacttggccatactcttcct...    \n",
       "9   PICOz-Zeo-F ataatattgaaaaaggaagagtatggccaagttg...    \n",
       "10  pICOz-Zeo-R aagatcctttgatcttttctacgtcagtcctgct...    "
      ]
     },
     "execution_count": 6,
     "metadata": {},
     "output_type": "execute_result"
    }
   ],
   "source": [
    "pd.read_table(StringIO(primers))"
   ]
  },
  {
   "cell_type": "code",
   "execution_count": 7,
   "metadata": {
    "collapsed": true
   },
   "outputs": [],
   "source": [
    "from astropy.io.ascii import read"
   ]
  },
  {
   "cell_type": "code",
   "execution_count": 8,
   "metadata": {},
   "outputs": [
    {
     "data": {
      "text/html": [
       "&lt;Table length=11&gt;\n",
       "<table id=\"table139620927991536\" class=\"table-striped table-bordered table-condensed\">\n",
       "<thead><tr><th>PUC18-dLacZ-F</th><th>gccgttaacccatggccaagcttgcatgcctgcaggtcg</th></tr></thead>\n",
       "<thead><tr><th>str13</th><th>str59</th></tr></thead>\n",
       "<tr><td>pUC18-dLacZ-R</td><td>ccatatggcctcgcgacgcgttatgtatccgctcatgag</td></tr>\n",
       "<tr><td>pUCmini-F</td><td>gtgggcccgtttaaacacatgtgagcaaaaggccag</td></tr>\n",
       "<tr><td>PUCmini-R</td><td>tagtctcgaggatatccgaattcgagctcggtac</td></tr>\n",
       "<tr><td>pUCmu-F</td><td>taccaatgcttaatcagtgaggca</td></tr>\n",
       "<tr><td>pUCmu-R</td><td>agtagaaaagatcaaaggatcttct</td></tr>\n",
       "<tr><td>pUcReFix-F</td><td>attagctcgagactagtgggcccgtttaaacacatgtgtttttccataggctccg</td></tr>\n",
       "<tr><td>pUcReFix-R</td><td>ctaatctcgaggatatccgaattcgagctcggtacccgggatcctctagagtcgacctg</td></tr>\n",
       "<tr><td>pICOz-dAMP-F</td><td>ttcgtggccgaggagcaggactgacgtagaaaagatcaaaggatctt</td></tr>\n",
       "<tr><td>pICOz-dAMP-R</td><td>aacggcactggtcaacttggccatactcttcctttttcaatattat</td></tr>\n",
       "<tr><td>PICOz-Zeo-F</td><td>ataatattgaaaaaggaagagtatggccaagttgaccagtgccgtt</td></tr>\n",
       "<tr><td>pICOz-Zeo-R</td><td>aagatcctttgatcttttctacgtcagtcctgctcctcggccacgaa</td></tr>\n",
       "</table>"
      ],
      "text/plain": [
       "<Table length=11>\n",
       "PUC18-dLacZ-F           gccgttaacccatggccaagcttgcatgcctgcaggtcg          \n",
       "    str13                                str59                           \n",
       "------------- -----------------------------------------------------------\n",
       "pUC18-dLacZ-R                     ccatatggcctcgcgacgcgttatgtatccgctcatgag\n",
       "    pUCmini-F                        gtgggcccgtttaaacacatgtgagcaaaaggccag\n",
       "    PUCmini-R                          tagtctcgaggatatccgaattcgagctcggtac\n",
       "      pUCmu-F                                    taccaatgcttaatcagtgaggca\n",
       "      pUCmu-R                                   agtagaaaagatcaaaggatcttct\n",
       "   pUcReFix-F     attagctcgagactagtgggcccgtttaaacacatgtgtttttccataggctccg\n",
       "   pUcReFix-R ctaatctcgaggatatccgaattcgagctcggtacccgggatcctctagagtcgacctg\n",
       " pICOz-dAMP-F             ttcgtggccgaggagcaggactgacgtagaaaagatcaaaggatctt\n",
       " pICOz-dAMP-R              aacggcactggtcaacttggccatactcttcctttttcaatattat\n",
       "  PICOz-Zeo-F              ataatattgaaaaaggaagagtatggccaagttgaccagtgccgtt\n",
       "  pICOz-Zeo-R             aagatcctttgatcttttctacgtcagtcctgctcctcggccacgaa"
      ]
     },
     "execution_count": 8,
     "metadata": {},
     "output_type": "execute_result"
    }
   ],
   "source": [
    "read(primers)"
   ]
  },
  {
   "cell_type": "code",
   "execution_count": 9,
   "metadata": {
    "collapsed": true
   },
   "outputs": [],
   "source": [
    "from pydna.parsers import parse_primers"
   ]
  },
  {
   "cell_type": "code",
   "execution_count": 10,
   "metadata": {
    "collapsed": true
   },
   "outputs": [],
   "source": [
    "primer_text = \"\"\"\n",
    ">PUC18-dLacZ-F\n",
    "gccgttaacccatggccaagcttgcatgcctgcaggtcg \n",
    ">pUC18-dLacZ-R\n",
    "ccatatggcctcgcgacgcgttatgtatccgctcatgag\n",
    ">pUCmini-F\n",
    "gtgggcccgtttaaacacatgtgagcaaaaggccag\n",
    ">PUCmini-R\n",
    "tagtctcgaggatatccgaattcgagctcggtac\n",
    ">pUCmu-F\n",
    "taccaatgcttaatcagtgaggca\n",
    ">pUCmu-R\n",
    "agtagaaaagatcaaaggatcttct\n",
    ">pUcReFix-F\n",
    "attagctcgagactagtgggcccgtttaaacacatgtgtttttccataggctccg\n",
    ">pUcReFix-R\n",
    "ctaatctcgaggatatccgaattcgagctcggtacccgggatcctctagagtcgacctg\n",
    ">pICOz-dAMP-F\n",
    "ttcgtggccgaggagcaggactgacgtagaaaagatcaaaggatctt\n",
    ">pICOz-dAMP-R\n",
    "aacggcactggtcaacttggccatactcttcctttttcaatattat\n",
    ">PICOz-Zeo-F\n",
    "ataatattgaaaaaggaagagtatggccaagttgaccagtgccgtt\n",
    ">pICOz-Zeo-R\n",
    "aagatcctttgatcttttctacgtcagtcctgctcctcggccacgaa\"\"\""
   ]
  },
  {
   "cell_type": "code",
   "execution_count": 11,
   "metadata": {
    "collapsed": true
   },
   "outputs": [],
   "source": [
    "primers = parse_primers(primer_text)"
   ]
  },
  {
   "cell_type": "code",
   "execution_count": 12,
   "metadata": {
    "collapsed": true
   },
   "outputs": [],
   "source": [
    "(PUC18_dLacZ_F,\n",
    " pUC18_dLacZ_R,\n",
    " pUCmini_F,\n",
    " PUCmini_R,\n",
    " pUCmu_F,\n",
    " pUCmu_R,\n",
    " pUcReFix_F,\n",
    " pUcReFix_R,\n",
    " pICOz_dAMP_F,\n",
    " pICOz_dAMP_R,\n",
    " PICOz_Zeo_F,\n",
    " pICOz_Zeo_R) = primers"
   ]
  },
  {
   "cell_type": "code",
   "execution_count": 13,
   "metadata": {
    "collapsed": true
   },
   "outputs": [],
   "source": [
    "from pydna.genbank import genbank"
   ]
  },
  {
   "cell_type": "code",
   "execution_count": 14,
   "metadata": {
    "collapsed": true
   },
   "outputs": [],
   "source": [
    "pUC18 = genbank(\"L08752.1\")"
   ]
  },
  {
   "cell_type": "code",
   "execution_count": 15,
   "metadata": {},
   "outputs": [
    {
     "data": {
      "text/plain": [
       "(Gbank(L08752.1)(o2686),)"
      ]
     },
     "execution_count": 15,
     "metadata": {},
     "output_type": "execute_result"
    }
   ],
   "source": [
    "pUC18,"
   ]
  },
  {
   "cell_type": "code",
   "execution_count": 16,
   "metadata": {
    "collapsed": true
   },
   "outputs": [],
   "source": [
    "from pydna.amplify import pcr, Anneal"
   ]
  },
  {
   "cell_type": "code",
   "execution_count": 17,
   "metadata": {
    "collapsed": true
   },
   "outputs": [],
   "source": [
    "first = pcr(PUC18_dLacZ_F, pUC18_dLacZ_R,pUC18).looped()"
   ]
  },
  {
   "cell_type": "code",
   "execution_count": 18,
   "metadata": {},
   "outputs": [
    {
     "data": {
      "text/html": [
       "Amplicon(2190)"
      ],
      "text/plain": [
       "Amplicon(2190)"
      ]
     },
     "execution_count": 18,
     "metadata": {},
     "output_type": "execute_result"
    }
   ],
   "source": [
    "first"
   ]
  },
  {
   "cell_type": "code",
   "execution_count": 19,
   "metadata": {
    "collapsed": true
   },
   "outputs": [],
   "source": [
    "secnds = Anneal( (pUCmini_F, PUCmini_R), first)"
   ]
  },
  {
   "cell_type": "code",
   "execution_count": 20,
   "metadata": {},
   "outputs": [
    {
     "data": {
      "text/plain": [
       "[Amplicon(1873), Amplicon(1862)]"
      ]
     },
     "execution_count": 20,
     "metadata": {},
     "output_type": "execute_result"
    }
   ],
   "source": [
    "secnds.products"
   ]
  },
  {
   "cell_type": "code",
   "execution_count": 21,
   "metadata": {},
   "outputs": [
    {
     "data": {
      "text/plain": [
       "                5cgaattcgagctcggtac...ctggccttttgctcacatgt3\n",
       "                                      |||||||||||||||||||| tm 59.3 (dbd) 66.7\n",
       "                                     3gaccggaaaacgagtgtacacaaatttgcccgggtg5\n",
       "5tagtctcgaggatatccgaattcgagctcggtac3\n",
       "                 |||||||||||||||||| tm 56.4 (dbd) 62.7\n",
       "                3gcttaagctcgagccatg...gaccggaaaacgagtgtaca5"
      ]
     },
     "execution_count": 21,
     "metadata": {},
     "output_type": "execute_result"
    }
   ],
   "source": [
    "secnds.products[0].figure()"
   ]
  },
  {
   "cell_type": "code",
   "execution_count": 22,
   "metadata": {},
   "outputs": [
    {
     "data": {
      "text/plain": [
       "                5cgaattcgagctcggtac...ctggccttttgct3\n",
       "                                      ||||||||||||| tm 48.0 (dbd) 52.2\n",
       "                                     3gaccggaaaacgagtgtacacaaatttgcccgggtg5\n",
       "5tagtctcgaggatatccgaattcgagctcggtac3\n",
       "                 |||||||||||||||||| tm 56.4 (dbd) 62.7\n",
       "                3gcttaagctcgagccatg...gaccggaaaacga5"
      ]
     },
     "execution_count": 22,
     "metadata": {},
     "output_type": "execute_result"
    }
   ],
   "source": [
    "secnds.products[1].figure()"
   ]
  },
  {
   "cell_type": "code",
   "execution_count": 23,
   "metadata": {
    "collapsed": true
   },
   "outputs": [],
   "source": [
    "secnd = secnds.products[0].looped()"
   ]
  },
  {
   "cell_type": "code",
   "execution_count": 24,
   "metadata": {
    "collapsed": true
   },
   "outputs": [],
   "source": [
    "third = pcr(  pUCmu_F, pUCmu_R, secnd).looped()"
   ]
  },
  {
   "cell_type": "code",
   "execution_count": 25,
   "metadata": {},
   "outputs": [
    {
     "data": {
      "text/html": [
       "Amplicon(1726)"
      ],
      "text/plain": [
       "Amplicon(1726)"
      ]
     },
     "execution_count": 25,
     "metadata": {},
     "output_type": "execute_result"
    }
   ],
   "source": [
    "third"
   ]
  },
  {
   "cell_type": "code",
   "execution_count": 26,
   "metadata": {
    "collapsed": true
   },
   "outputs": [],
   "source": [
    "thirdb = pcr(   pUcReFix_F, pUcReFix_R, third)"
   ]
  },
  {
   "cell_type": "code",
   "execution_count": 27,
   "metadata": {
    "collapsed": true
   },
   "outputs": [],
   "source": [
    "from Bio.Restriction import XhoI"
   ]
  },
  {
   "cell_type": "code",
   "execution_count": 28,
   "metadata": {
    "collapsed": true
   },
   "outputs": [],
   "source": [
    "stuffer, backbone, stuffer = thirdb.cut(XhoI)"
   ]
  },
  {
   "cell_type": "code",
   "execution_count": 29,
   "metadata": {
    "collapsed": true
   },
   "outputs": [],
   "source": [
    "pUCMu = backbone.looped()"
   ]
  },
  {
   "cell_type": "code",
   "execution_count": 30,
   "metadata": {},
   "outputs": [
    {
     "data": {
      "text/plain": [
       "Dseqrecord(o1673)"
      ]
     },
     "execution_count": 30,
     "metadata": {},
     "output_type": "execute_result"
    }
   ],
   "source": [
    "pUCMu"
   ]
  }
 ],
 "metadata": {
  "anaconda-cloud": {},
  "kernelspec": {
   "display_name": "Python [conda env:bjorn37]",
   "language": "python",
   "name": "conda-env-bjorn37-py"
  },
  "language_info": {
   "codemirror_mode": {
    "name": "ipython",
    "version": 3
   },
   "file_extension": ".py",
   "mimetype": "text/x-python",
   "name": "python",
   "nbconvert_exporter": "python",
   "pygments_lexer": "ipython3",
   "version": "3.7.2"
  }
 },
 "nbformat": 4,
 "nbformat_minor": 2
}
