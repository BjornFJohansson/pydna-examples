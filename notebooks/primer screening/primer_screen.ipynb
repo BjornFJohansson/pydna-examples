{
 "cells": [
  {
   "cell_type": "markdown",
   "metadata": {},
   "source": [
    "# Primer screening with pydna\n",
    "\n",
    "This notebook shown how to screen a list of primers against a DNA sequence to find primers that bind the sequence. \n",
    "\n",
    "In this example, the built in primer list and ApE is used. The correct path for both ApE and the primer list has to be added to the pydna.ini file. See an example below.\n",
    "\n",
    "![pydna_ini](pydna_ini.png)\n",
    "\n",
    "To open the config folder, call this function:"
   ]
  },
  {
   "cell_type": "code",
   "execution_count": 1,
   "metadata": {
    "collapsed": true
   },
   "outputs": [],
   "source": [
    "from pydna import open_config_folder"
   ]
  },
  {
   "cell_type": "code",
   "execution_count": 2,
   "metadata": {
    "collapsed": true
   },
   "outputs": [],
   "source": [
    "# NBVAL_SKIP\n",
    "open_config_folder()"
   ]
  },
  {
   "cell_type": "markdown",
   "metadata": {},
   "source": [
    "if necessary, add a line like:\n",
    "\n",
    "    ape=tclsh /home/bjorn/.ApE/apeextractor/ApE.vfs/lib/app-AppMain/AppMain.tcl\n",
    "\n",
    "and:\n",
    "\n",
    "    primers=/home/bjorn/Dropbox/wikidata/Primers.txt\n",
    "\n",
    "The text file containing primer has to contain sequences in fasta or Genbank format."
   ]
  },
  {
   "cell_type": "code",
   "execution_count": 3,
   "metadata": {
    "collapsed": true
   },
   "outputs": [],
   "source": [
    "from pydna.readers import read"
   ]
  },
  {
   "cell_type": "code",
   "execution_count": 4,
   "metadata": {
    "collapsed": true
   },
   "outputs": [],
   "source": [
    "dna = read(\"pYPKa.gb\")"
   ]
  },
  {
   "cell_type": "code",
   "execution_count": 5,
   "metadata": {
    "collapsed": true
   },
   "outputs": [],
   "source": [
    "# NBVAL_SKIP\n",
    "from pydna.myprimers import list_primers\n",
    "from pydna.amplify import Anneal"
   ]
  },
  {
   "cell_type": "code",
   "execution_count": 6,
   "metadata": {
    "collapsed": true
   },
   "outputs": [],
   "source": [
    "# NBVAL_SKIP\n",
    "ann = Anneal(list_primers, dna)"
   ]
  },
  {
   "cell_type": "code",
   "execution_count": 7,
   "metadata": {
    "collapsed": true
   },
   "outputs": [],
   "source": [
    "# NBVAL_SKIP\n",
    "from pydna.editor import ape"
   ]
  },
  {
   "cell_type": "code",
   "execution_count": 8,
   "metadata": {
    "collapsed": true
   },
   "outputs": [],
   "source": [
    "# NBVAL_SKIP\n",
    "ape(ann.template)"
   ]
  },
  {
   "cell_type": "markdown",
   "metadata": {},
   "source": [
    "The command above should open the template sequence in ape like this:\n",
    "\n",
    "![ape](ape_primer_screen.png)\n",
    "\n",
    "Forward primers are marked in green.\n",
    "Reverse primers are maked in red.\n",
    "Only the annealing part of the primer is visible."
   ]
  }
 ],
 "metadata": {
  "anaconda-cloud": {},
  "kernelspec": {
   "display_name": "Python 3",
   "language": "python",
   "name": "python3"
  },
  "language_info": {
   "codemirror_mode": {
    "name": "ipython",
    "version": 3
   },
   "file_extension": ".py",
   "mimetype": "text/x-python",
   "name": "python",
   "nbconvert_exporter": "python",
   "pygments_lexer": "ipython3",
   "version": "3.7.2"
  }
 },
 "nbformat": 4,
 "nbformat_minor": 2
}
